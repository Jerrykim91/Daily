{
 "cells": [
  {
   "cell_type": "markdown",
   "metadata": {},
   "source": [
    "# 꼭 알아둬야 할 자료구조 "
   ]
  },
  {
   "cell_type": "markdown",
   "metadata": {},
   "source": [
    "## 스택 (Stack)\n",
    "\n",
    "- 데이터를 제한적으로 접근할 수 있는 구조 \n",
    "    - 한쪽 끝에서만 자료를 넣거나 뺄 수 있는 구조 = 큐와 같음\n",
    "- 가장 나중에 쌓은 데이터를 가장 먼저 빼낼 수 있는 데이터 구조 \n",
    "    => **큐와 다른 부분**\n",
    "    - 큐   :  FIFO 정책**\n",
    "    - 스택 :  LIFO 정책**"
   ]
  },
  {
   "cell_type": "markdown",
   "metadata": {},
   "source": [
    "### 1. 스택의 구조\n",
    "- 스택은  LIFO 정책(Last-In, Last-Out) 또는 FIFO(First-In, First-Out) 정책 데이터 관리 방식을 따름 \n",
    "  - LIFO: 마지막에 넣은 데이터를 가장 먼저 추출하는 데이터 관리 정책\n",
    "  - FILO: 처음에 넣은 데이터를 가장 마지막에 추출하는 데이터 관리 정책\n",
    "\n",
    "- 대표적인 스택의 활용 \n",
    "    - 컴퓨터 내부의 프로세스 구조의 함수 동작 방식 \n",
    "\n",
    "- 주요기능 \n",
    "    - push(): 데이터를 스택에 **넣기**\n",
    "        - 아래에서부터 차례차례 넣는다.\n",
    "    - pop() : 데이터를 스택에서 **꺼내기**\n",
    "        - 꺼낼때는 마지막에 넣은 데이터부터 꺼낸다. \n",
    "    "
   ]
  },
  {
   "cell_type": "code",
   "execution_count": null,
   "metadata": {},
   "outputs": [],
   "source": [
    "# Visualgo 사이트에서 시연해보며 이해하기 (push/pop 만 클릭해보며): \n",
    "#     https://visualgo.net/en/list"
   ]
  },
  {
   "cell_type": "markdown",
   "metadata": {},
   "source": [
    "### 2. 스택의 구조와 프로세스 스택 \n",
    "- 스택의 구조는 프로세스 실행구조의 가장 기본 \n",
    "    - 함수 호출시 프로세스 실행구조를 스택과 비교해서 이해 필요 "
   ]
  },
  {
   "cell_type": "code",
   "execution_count": null,
   "metadata": {},
   "outputs": [],
   "source": [
    "# 가볍게 이해를 돕기 위한 실습 "
   ]
  },
  {
   "cell_type": "code",
   "execution_count": 1,
   "metadata": {},
   "outputs": [],
   "source": [
    "# 재귀함수 \n",
    "# >> 리커시브라는 함수를 만드는데 \n",
    "# -> 만약에 데이터가 0보다 작으면 \n",
    "# -> 엔드를 출력하고 \n",
    "# -> 그게 아니라면 데이터를 출력한다 \n",
    "# -> 그리고 함수안에서 리커시브함수( 자기함수 )를 호출한다. \n",
    "# -> 가지고있는데이터에서 -1을 하고 출력\n",
    "# -> 그리고 데이터를 출력 \n",
    "def recursive(data) :\n",
    "    if data < 0 :\n",
    "        print(\"ended\")\n",
    "    else:\n",
    "        print(data)\n",
    "        recursive(data-1)\n",
    "        print(\"returned\", data)"
   ]
  },
  {
   "cell_type": "code",
   "execution_count": null,
   "metadata": {},
   "outputs": [],
   "source": [
    "# 재귀함수 (확인)\n",
    "\n",
    "def recursive(data) :\n",
    "    if data < 0 :\n",
    "        print(\"ended\")\n",
    "    else:\n",
    "        print(data)\n",
    "        print('자기함수 호출 그리고 인자')\n",
    "        recursive(data-1)\n",
    "        print(\"returned\", data)"
   ]
  },
  {
   "cell_type": "code",
   "execution_count": null,
   "metadata": {},
   "outputs": [],
   "source": [
    "# 인자(Argument) => 어떤 함수를 호출 할때 전달되는값\n",
    "# 매개변수(Parameter)  => 그 전달된 인자를 받아 들이는 변수 \n",
    "\n",
    "# point => 인자는 값 \n",
    "        #  매개변수는 말 그대로 변수 \n",
    "\n"
   ]
  },
  {
   "cell_type": "code",
   "execution_count": 2,
   "metadata": {
    "scrolled": true
   },
   "outputs": [
    {
     "name": "stdout",
     "output_type": "stream",
     "text": [
      "4\n",
      "3\n",
      "2\n",
      "1\n",
      "0\n",
      "ended\n",
      "returned 0\n",
      "returned 1\n",
      "returned 2\n",
      "returned 3\n",
      "returned 4\n"
     ]
    }
   ],
   "source": [
    "# 재귀함수에서 자기함수를 출력해서 출력물이 많다. \n",
    "recursive(4)"
   ]
  },
  {
   "cell_type": "markdown",
   "metadata": {},
   "source": [
    "### Process Stack    \n",
    " \n",
    " -1 |  recursive(-1) -out-> 1    \n",
    "  0 |  recursive(0)  -out-> 2    \n",
    "  1 |  recursive(1)  -out-> 3    \n",
    "  2 |  recursive(2)  -out-> 4    \n",
    "  3 |  recursive(3)  ...    \n",
    "  4 |  recursive(4)  ...    \n",
    "  \n",
    "  \n",
    " **recursive(data-1)**"
   ]
  },
  {
   "cell_type": "markdown",
   "metadata": {},
   "source": [
    "### 3. 자료구조 스택의 장단점\n",
    "- 장점** \n",
    "    - 구조가 단순 => 구현하기 쉽다. \n",
    "    - 데이터 저장 /읽기 속도가 빠르다. \n",
    "\n",
    "- 단점(일반적인 스택구현시)\n",
    "    - 데이터 최대 갯수를 미리 정해야한다. \n",
    "        - 파이썬의 경우 재귀 함수는 1000번까지만 호출이 가능 \n",
    "    - 저장공간의 낭비가 발생할수 있음 \n",
    "        - 미리 최대 갯수만큼 저장공간을 확보해야 함 \n",
    "        \n",
    "> 스택은 단순하고 빠른 성능을 위해 사용되므로, \n",
    "    보통 배열 구조를 활용해서 구현하는 것이 일반적. \n",
    "    위에서 열거한 단점이 있을 수 있음 \n"
   ]
  },
  {
   "cell_type": "markdown",
   "metadata": {},
   "source": [
    "### 4. 파이썬 리스트 기능에서 제공하는 메서드로 스택 사용해보기\n",
    "    - append(push), pop메서드 제공 "
   ]
  },
  {
   "cell_type": "code",
   "execution_count": 5,
   "metadata": {},
   "outputs": [],
   "source": [
    "data_stack = list()\n",
    "\n",
    "data_stack.append(1)\n",
    "data_stack.append(2)"
   ]
  },
  {
   "cell_type": "code",
   "execution_count": 6,
   "metadata": {},
   "outputs": [
    {
     "data": {
      "text/plain": [
       "[1, 2]"
      ]
     },
     "execution_count": 6,
     "metadata": {},
     "output_type": "execute_result"
    }
   ],
   "source": [
    "data_stack"
   ]
  },
  {
   "cell_type": "code",
   "execution_count": 8,
   "metadata": {},
   "outputs": [
    {
     "data": {
      "text/plain": [
       "2"
      ]
     },
     "execution_count": 8,
     "metadata": {},
     "output_type": "execute_result"
    }
   ],
   "source": [
    "# 가장 마지막에 들어 간 데이터를 뽑아낸다.  \n",
    "data_stack.pop()"
   ]
  },
  {
   "cell_type": "markdown",
   "metadata": {},
   "source": [
    "### 5. 프로그래밍 연습 "
   ]
  },
  {
   "cell_type": "markdown",
   "metadata": {},
   "source": [
    "#### 연습1 :  리스트 변수로 스택을 다루는 pop, push 기능을 구현해보기 (pop , push 함수 사용하지 않고 직접 구현해보기)"
   ]
  },
  {
   "cell_type": "code",
   "execution_count": 11,
   "metadata": {},
   "outputs": [],
   "source": [
    "stack_list = list()\n",
    "\n",
    "# 조건이 들어가니까 인자에 데이터를 넣고 \n",
    "def push(data) : \n",
    "    stack_list.append(data) # 맨 앞에서부터 데이터가 들어간다.  \n",
    "    #pass \n",
    "\n",
    "# pop 굳이 필요없기때문에 인자에 값을 넣지 않는다. \n",
    "def pop() : \n",
    "    data = stack_list[-1] # 맨끝을 가지고 와야해서 -1 \n",
    "    del stack_list[-1]   # 꺼낸 데이터는 없애야 해서 del 을이용해 삭제 \n",
    "    return data          # 데이터 값을 리턴한다. "
   ]
  },
  {
   "cell_type": "code",
   "execution_count": 12,
   "metadata": {},
   "outputs": [],
   "source": [
    "# 데이터 확인   \n",
    "for index in range(10):\n",
    "    push(index)"
   ]
  },
  {
   "cell_type": "code",
   "execution_count": 13,
   "metadata": {},
   "outputs": [
    {
     "data": {
      "text/plain": [
       "9"
      ]
     },
     "execution_count": 13,
     "metadata": {},
     "output_type": "execute_result"
    }
   ],
   "source": [
    "# 그대로 마지막에 들어간 값인 9가 출력 \n",
    "pop()"
   ]
  },
  {
   "cell_type": "code",
   "execution_count": null,
   "metadata": {},
   "outputs": [],
   "source": []
  },
  {
   "cell_type": "code",
   "execution_count": null,
   "metadata": {},
   "outputs": [],
   "source": []
  },
  {
   "cell_type": "code",
   "execution_count": null,
   "metadata": {},
   "outputs": [],
   "source": []
  }
 ],
 "metadata": {
  "kernelspec": {
   "display_name": "Python 3",
   "language": "python",
   "name": "python3"
  },
  "language_info": {
   "codemirror_mode": {
    "name": "ipython",
    "version": 3
   },
   "file_extension": ".py",
   "mimetype": "text/x-python",
   "name": "python",
   "nbconvert_exporter": "python",
   "pygments_lexer": "ipython3",
   "version": "3.6.5"
  }
 },
 "nbformat": 4,
 "nbformat_minor": 2
}