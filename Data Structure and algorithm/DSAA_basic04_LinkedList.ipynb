{
 "cells": [
  {
   "cell_type": "markdown",
   "metadata": {},
   "source": [
    "# 대표적인 데이터 구조 "
   ]
  },
  {
   "cell_type": "markdown",
   "metadata": {},
   "source": [
    "## 1.링크드 리스트 (Linked list) 구조\n",
    " - 연결리스트 \n",
    " - 배열 : 순차적 연결된 공간에서 데이터를 나열하는 데이터구조 \n",
    " - 링크드 리스트 : 떨어진 곳에 존재하는 데이터를 화살표로 연결해서 관리하는 데이터 구조\n",
    " - 원래는 C언어에서 주요한 데이터 구조 \n",
    "    - 파이썬은 리스트 타입이 링크드 리스트기능을 모두 지원 \n",
    "\n",
    "- 링크드 리스트 기본 구조와 용어\n",
    "    - 노드(Node) : 데이터의 저장단위 (데이터값, 포인터)로 구성\n",
    "    - 포인터(Pointer) : 각 노드 안에서, 다음이나 이전의 노드와의 연결정보를 가지고 있는 공간 \n"
   ]
  },
  {
   "cell_type": "markdown",
   "metadata": {},
   "source": [
    "### why Array? : STR을 저장하려면 ? \n",
    "=> 미리 예약을 해야해 \n",
    "```\n",
    "내부주소  :  | 0000h | 0001h | 0002h | 0003h | 0004h | 0005h |\n",
    "데이터    :  |   S   |   T   |   R   |   I   |   N   |   G   |\n",
    "인덱스    :  |   0   |   1   |   2   |   3   |   4   |   5   |\n",
    "```"
   ]
  },
  {
   "cell_type": "code",
   "execution_count": 1,
   "metadata": {},
   "outputs": [],
   "source": [
    "# 배열은 미리 특정 공간을 예약을 해놓고 거기에 데이터를 쓰고 읽지만 \n",
    "# 링크드 리스트는 예약이 필요없이 사용가능하다.-> 자유롭다."
   ]
  },
  {
   "cell_type": "markdown",
   "metadata": {},
   "source": [
    "### 일반적인 링크드 리스트 형태 \n",
    "-> 데이터가 주소를 가지고 있다\n",
    "a가 50(b) 주소값 -> B(50)가 60(c)-> C\n",
    "```\n",
    " |   12   | 포인터 |   99   | 포인터  |   37   | 포인터  |      |\n",
    " |        |   ->   |        |   ->    |        |   ->    |      |\n",
    "```"
   ]
  },
  {
   "cell_type": "markdown",
   "metadata": {},
   "source": [
    "## 2. 간단한 링크드 리스트 예\n",
    "- 노드 구현\n",
    "    - 보통 파이썬에서 링크드 리스트 구현시, 파이썬 클래스를 활용함\n",
    "        - 파이썬 객체지향 문법 이해 필요 \n",
    "             - 참고 :https://www.fun-coding.org/PL&OOP1-3.html"
   ]
  },
  {
   "cell_type": "code",
   "execution_count": 2,
   "metadata": {},
   "outputs": [],
   "source": [
    "class Node:\n",
    "    def __init__(self,data):\n",
    "        self.data = data\n",
    "        self.next = None"
   ]
  },
  {
   "cell_type": "code",
   "execution_count": 3,
   "metadata": {},
   "outputs": [],
   "source": [
    "# class Node:\n",
    "#     def __init__(self, data, next=None):\n",
    "#     self.data = data\n",
    "#     self.next = next"
   ]
  },
  {
   "cell_type": "markdown",
   "metadata": {},
   "source": [
    "#### Node와 Node 연결하기 (포인터 활용)"
   ]
  },
  {
   "cell_type": "code",
   "execution_count": 4,
   "metadata": {},
   "outputs": [],
   "source": [
    "# 인자 하나에 디폴트 None \n",
    "# 별도로 객체를 두개를만듬 -> 하지만 연결은 안됨 \n",
    "node1 = Node(1)\n",
    "node2 = Node(2)\n",
    "#  포인더 \n",
    "# node1(head) -> node2\n",
    "node1.next = node2\n",
    "head = node1"
   ]
  },
  {
   "cell_type": "markdown",
   "metadata": {},
   "source": [
    "#### 링크드 리스트로 데이터 추가하기"
   ]
  },
  {
   "cell_type": "code",
   "execution_count": 5,
   "metadata": {},
   "outputs": [],
   "source": [
    "class Node: #next=None**\n",
    "    def __init__(self, data, next=None):\n",
    "        self.data = data\n",
    "        self.next = next\n",
    "\n",
    "# 별도 함수 => 마지막 노드를 찾기 위한 코드\n",
    "def add(data):\n",
    "    node = head #헤드의 값을 저장 \n",
    "    # 링크드리스트가 저장하는 데이터 위치는 맨 뒤 \n",
    "    \n",
    "    # 노드가 가르치는 주소로 노드를 따라가는 구조 \n",
    "    # node1 -> node2 -> node3 ->\n",
    "    while node.next:\n",
    "        # 다음 노드로 가는 주소 저장되어 있다 그러므로 \n",
    "        # 다시 노드 = 경로 저장 \n",
    "        # 다시 while 노드가 가진 경로를 반복하면서 노드 위치값을 추적 반복\n",
    "        node = node.next\n",
    "    #마지막 노드를 찾기 위한 코드    \n",
    "    node.next = Node(data)\n",
    "    #print(node.next)"
   ]
  },
  {
   "cell_type": "code",
   "execution_count": 6,
   "metadata": {},
   "outputs": [],
   "source": [
    "node1 = Node(1)\n",
    "#node2 = Node(2)\n",
    "#node1.next = node2\n",
    "head = node1\n",
    "# 2부터 9까지 반복하면서 add 함수를 호출\n",
    "for index in range(2,10):\n",
    "    add(index)"
   ]
  },
  {
   "cell_type": "code",
   "execution_count": 7,
   "metadata": {},
   "outputs": [
    {
     "name": "stdout",
     "output_type": "stream",
     "text": [
      "2\n",
      "3\n",
      "4\n",
      "5\n",
      "6\n",
      "7\n",
      "8\n",
      "9\n"
     ]
    }
   ],
   "source": [
    "for i in range(2,10):\n",
    "    print(i)"
   ]
  },
  {
   "cell_type": "markdown",
   "metadata": {},
   "source": [
    "#### 링크드 리스트 데이터 출력하기"
   ]
  },
  {
   "cell_type": "code",
   "execution_count": 8,
   "metadata": {
    "scrolled": false
   },
   "outputs": [
    {
     "name": "stdout",
     "output_type": "stream",
     "text": [
      "1\n",
      "2\n",
      "3\n",
      "4\n",
      "5\n",
      "6\n",
      "7\n",
      "8\n",
      "9\n"
     ]
    }
   ],
   "source": [
    "node = head\n",
    "while node.next:\n",
    "    print(node.data)\n",
    "    node = node.next\n",
    "print(node.data)"
   ]
  },
  {
   "cell_type": "markdown",
   "metadata": {},
   "source": [
    "### 3. 링크드 리스트의 장단점\n",
    "- 장점 \n",
    "    - 미리 공간을 할당하지않아도 됨\n",
    "        - 배열은 **미리 데이터 공간을 할당** 해야 함\n",
    "- 단점 \n",
    "    - 배열은 두 개의 데이터는 필요한 데이터 공간만 있으면됨 \n",
    "        - 하지만 링크드 리스트는 연결을 위한 포인터를 담아두는 공간도 별도로 필요함 \n",
    "            => 저장공간의 효율이 높지 않음 \n",
    "    - 배열은 인덱스 번호가 있어서 찾기고 가지고오기 수월함 \n",
    "        - 하지만 링크드 리스트는 연결 정보를 찾는 시간이 필요하므로 접근 속도가 느림\n",
    "    - 배열은 추가 삭제가 수월한데    \n",
    "        - 링크드 리스트는 중간 데이터 삭제시, 앞뒤 데이터의 연결을 **재구성해야 하는 부가적인 작업 필요**\n"
   ]
  },
  {
   "cell_type": "markdown",
   "metadata": {},
   "source": [
    "### 4. 링크드 리스트의 복잡한 기능1 \n",
    "    => 링크드 리스트 데이터 사이에 데이터를 추가\n",
    "- 링크드 리스트는 유지 관리에 부가적인 구현이 필요함\n",
    "\n",
    "<img src=\"https://www.fun-coding.org/00_Images/linkedlistadd.png\" />\n",
    "(출처: wikipedia, https://en.wikipedia.org/wiki/Linked_list)"
   ]
  },
  {
   "cell_type": "code",
   "execution_count": 9,
   "metadata": {},
   "outputs": [
    {
     "name": "stdout",
     "output_type": "stream",
     "text": [
      "1\n",
      "2\n",
      "3\n",
      "4\n",
      "5\n",
      "6\n",
      "7\n",
      "8\n",
      "9\n"
     ]
    }
   ],
   "source": [
    "node = head\n",
    "while node.next:\n",
    "    print(node.data)\n",
    "    node = node.next\n",
    "print (node.data)"
   ]
  },
  {
   "cell_type": "code",
   "execution_count": 10,
   "metadata": {},
   "outputs": [],
   "source": [
    "node3 = Node(1.5)"
   ]
  },
  {
   "cell_type": "code",
   "execution_count": 11,
   "metadata": {},
   "outputs": [],
   "source": [
    "node = head\n",
    "search = True\n",
    "\n",
    "while search:\n",
    "    # 노드를 먼저 찾는다\n",
    "    if node.data == 1:\n",
    "        search = False\n",
    "    else:\n",
    "        node = node.next\n",
    "# new node를 생성 => new node 앞에 들어갈 node 찾고 next node의 위치를 변수(next_node)에 담는다          \n",
    "node_next  = node.next \n",
    "# new node => \n",
    "node.next = node3\n",
    "node3.next = node_next"
   ]
  },
  {
   "cell_type": "code",
   "execution_count": 12,
   "metadata": {},
   "outputs": [
    {
     "name": "stdout",
     "output_type": "stream",
     "text": [
      "1\n",
      "1.5\n",
      "2\n",
      "3\n",
      "4\n",
      "5\n",
      "6\n",
      "7\n",
      "8\n",
      "9\n"
     ]
    }
   ],
   "source": [
    "node = head\n",
    "while node.next:\n",
    "    print(node.data)\n",
    "    node = node.next\n",
    "print (node.data)"
   ]
  },
  {
   "cell_type": "markdown",
   "metadata": {},
   "source": [
    "### 5. 파이썬 객체지향 프로그래밍으로 링크드 리스트 구현"
   ]
  },
  {
   "cell_type": "code",
   "execution_count": 13,
   "metadata": {},
   "outputs": [],
   "source": [
    "# Node = 2개의 데이터를 만들수 있는 구조로 생성\n",
    "class Node: \n",
    "    def __init__(self, data, next=None):\n",
    "        self.data = data\n",
    "        # 주소\n",
    "        self.next = next\n",
    "# ???? \n",
    "class NodeMgmt:\n",
    "    def __init__(self,data):\n",
    "        self.head = Node(data)\n",
    "        \n",
    "    def add(self,data):\n",
    "        if self.head == '':\n",
    "            self.head = Node(data)\n",
    "        else: \n",
    "            node = self.head\n",
    "            while node.next:\n",
    "                node = node.next\n",
    "            node.next = Node(data)\n",
    "        \n",
    "    def desc(self):\n",
    "        node = self.head\n",
    "        while node:\n",
    "            print(node.data)\n",
    "            node = node.next"
   ]
  },
  {
   "cell_type": "code",
   "execution_count": 14,
   "metadata": {},
   "outputs": [
    {
     "name": "stdout",
     "output_type": "stream",
     "text": [
      "0\n"
     ]
    }
   ],
   "source": [
    "linkedlist1 = NodeMgmt(0)\n",
    "linkedlist1.desc()"
   ]
  },
  {
   "cell_type": "code",
   "execution_count": 15,
   "metadata": {},
   "outputs": [
    {
     "name": "stdout",
     "output_type": "stream",
     "text": [
      "0\n",
      "1\n",
      "2\n",
      "3\n",
      "4\n",
      "5\n",
      "6\n",
      "7\n",
      "8\n",
      "9\n"
     ]
    }
   ],
   "source": [
    "for data in range(1,10):\n",
    "    linkedlist1.add(data)\n",
    "linkedlist1.desc()"
   ]
  },
  {
   "cell_type": "code",
   "execution_count": null,
   "metadata": {},
   "outputs": [],
   "source": []
  },
  {
   "cell_type": "code",
   "execution_count": null,
   "metadata": {},
   "outputs": [],
   "source": []
  },
  {
   "cell_type": "code",
   "execution_count": null,
   "metadata": {},
   "outputs": [],
   "source": []
  }
 ],
 "metadata": {
  "file_extension": ".py",
  "kernelspec": {
   "display_name": "Python 3",
   "language": "python",
   "name": "python3"
  },
  "language_info": {
   "codemirror_mode": {
    "name": "ipython",
    "version": 3
   },
   "file_extension": ".py",
   "mimetype": "text/x-python",
   "name": "python",
   "nbconvert_exporter": "python",
   "pygments_lexer": "ipython3",
   "version": "3.6.5"
  },
  "mimetype": "text/x-python",
  "name": "python",
  "npconvert_exporter": "python",
  "pygments_lexer": "ipython3",
  "version": 3
 },
 "nbformat": 4,
 "nbformat_minor": 2
}
