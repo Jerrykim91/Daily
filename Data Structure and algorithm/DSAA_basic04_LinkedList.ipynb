{
 "cells": [
  {
   "cell_type": "markdown",
   "metadata": {},
   "source": [
    "# 대표적인 데이터 구조 "
   ]
  },
  {
   "cell_type": "markdown",
   "metadata": {},
   "source": [
    "## 1.링크드 리스트 (Linked list) 구조\n",
    " - 연결리스트 \n",
    " - 배열 : 순차적 연결된 공간에서 데이터를 나열하는 데이터구조 \n",
    " - 링크드 리스트 : 떨어진 곳에 존재하는 데이터를 화살표로 연결해서 관리하는 데이터 구조\n",
    " - 원래는 C언어에서 주요한 데이터 구조 \n",
    "    - 파이썬은 리스트 타입이 링크드 리스트기능을 모두 지원 \n",
    "\n",
    "- 링크드 리스트 기본 구조와 용어\n",
    "    - 노드(Node) : 데이터의 저장단위 (데이터값, 포인터)로 구성\n",
    "    - 포인터(Pointer) : 각 노드 안에서, 다음이나 이전의 노드와의 연결정보를 가지고 있는 공간 \n"
   ]
  },
  {
   "cell_type": "markdown",
   "metadata": {},
   "source": [
    "### why Array? : STR을 저장하려면 ? \n",
    "=> 미리 예약을 해야해 \n",
    "```\n",
    "내부주소  :  | 0000h | 0001h | 0002h | 0003h | 0004h | 0005h |\n",
    "데이터    :  |   S   |   T   |   R   |   I   |   N   |   G   |\n",
    "인덱스    :  |   0   |   1   |   2   |   3   |   4   |   5   |\n",
    "```"
   ]
  },
  {
   "cell_type": "code",
   "execution_count": 1,
   "metadata": {},
   "outputs": [],
   "source": [
    "# 배열은 미리 특정 공간을 예약을 해놓고 거기에 데이터를 쓰고 읽지만 \n",
    "# 링크드 리스트는 예약이 필요없이 사용가능하다.-> 자유롭다."
   ]
  },
  {
   "cell_type": "markdown",
   "metadata": {},
   "source": [
    "### 일반적인 링크드 리스트 형태 \n",
    "-> 데이터가 주소를 가지고 있다\n",
    "a가 50(b) 주소값 -> B(50)가 60(c)-> C\n",
    "```\n",
    " |   12   | 포인터 |   99   | 포인터  |   37   | 포인터  |      |\n",
    " |        |   ->   |        |   ->    |        |   ->    |      |\n",
    "```"
   ]
  },
  {
   "cell_type": "markdown",
   "metadata": {},
   "source": [
    "## 2. 간단한 링크드 리스트 예\n",
    "- 노드 구현\n",
    "    - 보통 파이썬에서 링크드 리스트 구현시, 파이썬 클래스를 활용함\n",
    "        - 파이썬 객체지향 문법 이해 필요 \n",
    "             - 참고 :https://www.fun-coding.org/PL&OOP1-3.html"
   ]
  },
  {
   "cell_type": "code",
   "execution_count": 2,
   "metadata": {},
   "outputs": [],
   "source": [
    "class Node:\n",
    "    def __init__(self,data):\n",
    "        self.data = data\n",
    "        self.next = None"
   ]
  },
  {
   "cell_type": "code",
   "execution_count": 3,
   "metadata": {},
   "outputs": [],
   "source": [
    "# class Node:\n",
    "#     def __init__(self, data, next=None):\n",
    "#     self.data = data\n",
    "#     self.next = next"
   ]
  },
  {
   "cell_type": "markdown",
   "metadata": {},
   "source": [
    "#### Node와 Node 연결하기 (포인터 활용)"
   ]
  },
  {
   "cell_type": "code",
   "execution_count": 4,
   "metadata": {},
   "outputs": [],
   "source": [
    "# 인자 하나에 디폴트 None \n",
    "# 별도로 객체를 두개를만듬 -> 하지만 연결은 안됨 \n",
    "node1 = Node(1)\n",
    "node2 = Node(2)\n",
    "#  포인더 \n",
    "# node1(head) -> node2\n",
    "node1.next = node2\n",
    "head = node1"
   ]
  },
  {
   "cell_type": "markdown",
   "metadata": {},
   "source": [
    "#### 링크드 리스트로 데이터 추가하기"
   ]
  },
  {
   "cell_type": "code",
   "execution_count": 5,
   "metadata": {},
   "outputs": [],
   "source": [
    "class Node: #next=None**\n",
    "    def __init__(self, data, next=None):\n",
    "        self.data = data\n",
    "        self.next = next\n",
    "\n",
    "# 별도 함수 => 마지막 노드를 찾기 위한 코드\n",
    "def add(data):\n",
    "    node = head #헤드의 값을 저장 \n",
    "    # 링크드리스트가 저장하는 데이터 위치는 맨 뒤 \n",
    "    \n",
    "    # 노드가 가르치는 주소로 노드를 따라가는 구조 \n",
    "    # node1 -> node2 -> node3 ->\n",
    "    while node.next:\n",
    "        # 다음 노드로 가는 주소 저장되어 있다 그러므로 \n",
    "        # 다시 노드 = 경로 저장 \n",
    "        # 다시 while 노드가 가진 경로를 반복하면서 노드 위치값을 추적 반복\n",
    "        node = node.next\n",
    "    #마지막 노드를 찾기 위한 코드    \n",
    "    node.next = Node(data)\n",
    "    #print(node.next)"
   ]
  },
  {
   "cell_type": "code",
   "execution_count": 6,
   "metadata": {},
   "outputs": [],
   "source": [
    "node1 = Node(1)\n",
    "#node2 = Node(2)\n",
    "#node1.next = node2\n",
    "head = node1\n",
    "# 2부터 9까지 반복하면서 add 함수를 호출\n",
    "for index in range(2,10):\n",
    "    add(index)"
   ]
  },
  {
   "cell_type": "code",
   "execution_count": 7,
   "metadata": {},
   "outputs": [
    {
     "name": "stdout",
     "output_type": "stream",
     "text": [
      "2\n",
      "3\n",
      "4\n",
      "5\n",
      "6\n",
      "7\n",
      "8\n",
      "9\n"
     ]
    }
   ],
   "source": [
    "for i in range(2,10):\n",
    "    print(i)"
   ]
  },
  {
   "cell_type": "markdown",
   "metadata": {},
   "source": [
    "#### 링크드 리스트 데이터 출력하기"
   ]
  },
  {
   "cell_type": "code",
   "execution_count": 8,
   "metadata": {
    "scrolled": false
   },
   "outputs": [
    {
     "name": "stdout",
     "output_type": "stream",
     "text": [
      "1\n",
      "2\n",
      "3\n",
      "4\n",
      "5\n",
      "6\n",
      "7\n",
      "8\n",
      "9\n"
     ]
    }
   ],
   "source": [
    "node = head\n",
    "while node.next:\n",
    "    print(node.data)\n",
    "    node = node.next\n",
    "print(node.data)"
   ]
  },
  {
   "cell_type": "markdown",
   "metadata": {},
   "source": [
    "### 3. 링크드 리스트의 장단점\n",
    "- 장점 \n",
    "    - 미리 공간을 할당하지않아도 됨\n",
    "        - 배열은 **미리 데이터 공간을 할당** 해야 함\n",
    "- 단점 \n",
    "    - 배열은 두 개의 데이터는 필요한 데이터 공간만 있으면됨 \n",
    "        - 하지만 링크드 리스트는 연결을 위한 포인터를 담아두는 공간도 별도로 필요함 \n",
    "            => 저장공간의 효율이 높지 않음 \n",
    "    - 배열은 인덱스 번호가 있어서 찾기고 가지고오기 수월함 \n",
    "        - 하지만 링크드 리스트는 연결 정보를 찾는 시간이 필요하므로 접근 속도가 느림\n",
    "    - 배열은 추가 삭제가 수월한데    \n",
    "        - 링크드 리스트는 중간 데이터 삭제시, 앞뒤 데이터의 연결을 **재구성해야 하는 부가적인 작업 필요**\n"
   ]
  },
  {
   "cell_type": "markdown",
   "metadata": {},
   "source": [
    "### 4. 링크드 리스트의 복잡한 기능1 \n",
    "    => 링크드 리스트 데이터 사이에 데이터를 추가\n",
    "- 링크드 리스트는 유지 관리에 부가적인 구현이 필요함\n",
    "\n",
    "<img src=\"https://www.fun-coding.org/00_Images/linkedlistadd.png\" />\n",
    "(출처: wikipedia, https://en.wikipedia.org/wiki/Linked_list)"
   ]
  },
  {
   "cell_type": "code",
   "execution_count": 9,
   "metadata": {},
   "outputs": [
    {
     "name": "stdout",
     "output_type": "stream",
     "text": [
      "1\n",
      "2\n",
      "3\n",
      "4\n",
      "5\n",
      "6\n",
      "7\n",
      "8\n",
      "9\n"
     ]
    }
   ],
   "source": [
    "node = head\n",
    "while node.next:\n",
    "    print(node.data)\n",
    "    node = node.next\n",
    "print (node.data)"
   ]
  },
  {
   "cell_type": "code",
   "execution_count": 10,
   "metadata": {},
   "outputs": [],
   "source": [
    "node3 = Node(1.5)"
   ]
  },
  {
   "cell_type": "code",
   "execution_count": 11,
   "metadata": {},
   "outputs": [],
   "source": [
    "node = head\n",
    "search = True\n",
    "\n",
    "while search:\n",
    "    # 노드를 먼저 찾는다\n",
    "    if node.data == 1:\n",
    "        search = False\n",
    "    else:\n",
    "        node = node.next\n",
    "# new node를 생성 => new node 앞에 들어갈 node 찾고 next node의 위치를 변수(next_node)에 담는다          \n",
    "node_next  = node.next \n",
    "# new node => \n",
    "node.next = node3\n",
    "node3.next = node_next"
   ]
  },
  {
   "cell_type": "code",
   "execution_count": 12,
   "metadata": {},
   "outputs": [
    {
     "name": "stdout",
     "output_type": "stream",
     "text": [
      "1\n",
      "1.5\n",
      "2\n",
      "3\n",
      "4\n",
      "5\n",
      "6\n",
      "7\n",
      "8\n",
      "9\n"
     ]
    }
   ],
   "source": [
    "node = head\n",
    "while node.next:\n",
    "    print(node.data)\n",
    "    node = node.next\n",
    "print (node.data)"
   ]
  },
  {
   "cell_type": "markdown",
   "metadata": {},
   "source": [
    "### 5. 파이썬 객체지향 프로그래밍으로 링크드 리스트 구현"
   ]
  },
  {
   "cell_type": "code",
   "execution_count": 13,
   "metadata": {},
   "outputs": [],
   "source": [
    "# Node = 2개의 데이터를 만들수 있는 구조로 생성\n",
    "class Node: \n",
    "    def __init__(self, data, next=None):\n",
    "        self.data = data\n",
    "        # 주소\n",
    "        self.next = next\n",
    "# ???? \n",
    "class NodeMgmt:\n",
    "    def __init__(self,data):\n",
    "        self.head = Node(data)\n",
    "        \n",
    "    def add(self,data):\n",
    "        if self.head == '':\n",
    "            self.head = Node(data)\n",
    "        else: \n",
    "            node = self.head\n",
    "            while node.next:\n",
    "                node = node.next\n",
    "            node.next = Node(data)\n",
    "        \n",
    "    def desc(self):\n",
    "        node = self.head\n",
    "        while node:\n",
    "            print(node.data)\n",
    "            node = node.next"
   ]
  },
  {
   "cell_type": "code",
   "execution_count": 14,
   "metadata": {},
   "outputs": [
    {
     "name": "stdout",
     "output_type": "stream",
     "text": [
      "0\n"
     ]
    }
   ],
   "source": [
    "linkedlist1 = NodeMgmt(0)\n",
    "linkedlist1.desc()"
   ]
  },
  {
   "cell_type": "code",
   "execution_count": 15,
   "metadata": {},
   "outputs": [
    {
     "name": "stdout",
     "output_type": "stream",
     "text": [
      "0\n",
      "1\n",
      "2\n",
      "3\n",
      "4\n",
      "5\n",
      "6\n",
      "7\n",
      "8\n",
      "9\n"
     ]
    }
   ],
   "source": [
    "for data in range(1,10):\n",
    "    linkedlist1.add(data)\n",
    "linkedlist1.desc()"
   ]
  },
  {
   "cell_type": "markdown",
   "metadata": {},
   "source": [
    "[한번 더 봅시다_1!](https://www.fastcampus.co.kr/online/#/courses/201435/clips/11909)      \n",
    "[한번 더 봅시다_2!](https://www.fastcampus.co.kr/online/#/courses/201435/clips/11909)"
   ]
  },
  {
   "cell_type": "markdown",
   "metadata": {},
   "source": [
    "### 6. 링크드 리스트의 복잡한 기능 2( 특정 노드를 삭제 )\n",
    "   - delete 메서드만 추가한 것이므로 해당 메서드만 확인\n",
    "   - 링크드 리스트는 항상 맨앞의 노드를 가지고 있어야함 => head \n",
    "   - 노드를 삭제 하는 각 경우 \n",
    "       - 1. 첫노드(head) 삭제 : 맨 앞의 노드가 삭제 => 노드의 head 값이 바뀌어야 함 \n",
    "       - 2. 마지막 노드 삭제 : 마지막 노드 삭제 시 => 마지막 값을 => Null,None로 변경 \n",
    "       - 3. 중간노드 삭제 : 중간값(B)은 없애주고 => 앞의 주소값(A)을 중간값(B) 다음순서노드(C)와 연결 \n",
    "       \n",
    "       - 데이터(데이터 주소) | A(b)->B(c)->C(nell) => A(c)->C(nell) \n",
    "       \n",
    "   - 코드는 간단하지먄 여러가지 경우를 구현해야 하기때문에 복잡함    "
   ]
  },
  {
   "cell_type": "code",
   "execution_count": 18,
   "metadata": {},
   "outputs": [],
   "source": [
    "class Node:\n",
    "    def __init__(self, data, next=None):\n",
    "        self.data = data\n",
    "        self.next = next\n",
    "    \n",
    "class NodeMgmt:\n",
    "    def __init__(self, data):\n",
    "        self.head = Node(data)\n",
    "        \n",
    "    def add(self, data):\n",
    "        if self.head == '':\n",
    "            self.head = Node(data)\n",
    "        else:\n",
    "            node = self.head\n",
    "            while node.next:\n",
    "                node = node.next\n",
    "            node.next = Node(data)\n",
    "        \n",
    "    def desc(self): # 데이터를 순회하는 코드\n",
    "        node = self.head\n",
    "        while node:\n",
    "            print (node.data)\n",
    "            node = node.next\n",
    "            \n",
    "    def delete(self, data): # 특정 데이터를 가진 노드를 삭제하라 \n",
    "    # 방어코드\n",
    "        if self.head == '':\n",
    "            print('해당 값을 가진 노드가 없습니다.')\n",
    "            return\n",
    "       \n",
    "    # 실제 코드 \n",
    "        if self.head.data==data :\n",
    "            # 1.head 삭제 하는경우 -> 변수에 head를 담는다 => 담아서 삭제\n",
    "            tmp = self.head\n",
    "            #  그head는 다음노드의 경로이다\n",
    "            self.head = self.head.next # self.head 객체를 삭제 => 코드가 동작을 안함 \n",
    "            del tmp\n",
    "        else:\n",
    "            # head가 아닌 노드를 삭제해야할 경우 :\n",
    "                # 마지막노드삭제,중간노드 삭제  =>  노드의 관계를 재정립 \n",
    "            node = self.head\n",
    "            while node.next:\n",
    "                if node.next.data==data:\n",
    "                    tmp = self.head\n",
    "                    node.next = node.next.next\n",
    "                    del tmp\n",
    "                    return\n",
    "                else:\n",
    "                    node = node.next\n",
    "                    "
   ]
  },
  {
   "cell_type": "markdown",
   "metadata": {},
   "source": [
    "#### 테스트를 위해 1개 노드 생성 "
   ]
  },
  {
   "cell_type": "code",
   "execution_count": 19,
   "metadata": {},
   "outputs": [
    {
     "name": "stdout",
     "output_type": "stream",
     "text": [
      "0\n"
     ]
    }
   ],
   "source": [
    "linkedlist1 = NodeMgmt(0)\n",
    "linkedlist1.desc()"
   ]
  },
  {
   "cell_type": "markdown",
   "metadata": {},
   "source": [
    "#### head 생존 확인 "
   ]
  },
  {
   "cell_type": "code",
   "execution_count": 20,
   "metadata": {},
   "outputs": [
    {
     "data": {
      "text/plain": [
       "<__main__.Node at 0x251fc4f9160>"
      ]
     },
     "execution_count": 20,
     "metadata": {},
     "output_type": "execute_result"
    }
   ],
   "source": [
    "linkedlist1.head"
   ]
  },
  {
   "cell_type": "markdown",
   "metadata": {},
   "source": [
    "#### head를 삭제  "
   ]
  },
  {
   "cell_type": "code",
   "execution_count": 21,
   "metadata": {},
   "outputs": [],
   "source": [
    "linkedlist1.delete(0)"
   ]
  },
  {
   "cell_type": "markdown",
   "metadata": {},
   "source": [
    "#### 코드가 실행이 안된다는 건 linkedlist1.delete(0) 가 정상적으로 삭제 됨을 의미"
   ]
  },
  {
   "cell_type": "code",
   "execution_count": 22,
   "metadata": {},
   "outputs": [],
   "source": [
    "linkedlist1.head"
   ]
  },
  {
   "cell_type": "markdown",
   "metadata": {},
   "source": [
    "#### 노드 재생성  "
   ]
  },
  {
   "cell_type": "code",
   "execution_count": 23,
   "metadata": {},
   "outputs": [
    {
     "name": "stdout",
     "output_type": "stream",
     "text": [
      "0\n"
     ]
    }
   ],
   "source": [
    "linkedlist1 = NodeMgmt(0)\n",
    "linkedlist1.desc()"
   ]
  },
  {
   "cell_type": "markdown",
   "metadata": {},
   "source": [
    "#### 여러개의 노드를 더 추가"
   ]
  },
  {
   "cell_type": "code",
   "execution_count": 24,
   "metadata": {},
   "outputs": [
    {
     "name": "stdout",
     "output_type": "stream",
     "text": [
      "0\n",
      "1\n",
      "2\n",
      "3\n",
      "4\n",
      "5\n",
      "6\n",
      "7\n",
      "8\n",
      "9\n"
     ]
    }
   ],
   "source": [
    "# 위에서 노드를 재생성하면서 0번을 만들어서 1번부터 추가한것 \n",
    "for data in range(1,10):\n",
    "    linkedlist1.add(data)\n",
    "linkedlist1.desc()"
   ]
  },
  {
   "cell_type": "markdown",
   "metadata": {},
   "source": [
    "#### 노드 중에 한개를 삭제 (2. 마지막노드 삭제 )"
   ]
  },
  {
   "cell_type": "code",
   "execution_count": 25,
   "metadata": {},
   "outputs": [],
   "source": [
    "# 중간 노드 삭제 \n",
    "linkedlist1.delete(4)"
   ]
  },
  {
   "cell_type": "markdown",
   "metadata": {},
   "source": [
    "#### 특정노드(4)가 빠진것을 알수 있음  "
   ]
  },
  {
   "cell_type": "code",
   "execution_count": 26,
   "metadata": {
    "scrolled": true
   },
   "outputs": [
    {
     "name": "stdout",
     "output_type": "stream",
     "text": [
      "0\n",
      "1\n",
      "2\n",
      "3\n",
      "5\n",
      "6\n",
      "7\n",
      "8\n",
      "9\n"
     ]
    }
   ],
   "source": [
    "linkedlist1.desc()"
   ]
  },
  {
   "cell_type": "code",
   "execution_count": 31,
   "metadata": {},
   "outputs": [],
   "source": [
    "# 마지막 노드 삭제 \n",
    "linkedlist1.delete(9)"
   ]
  },
  {
   "cell_type": "code",
   "execution_count": 32,
   "metadata": {},
   "outputs": [
    {
     "name": "stdout",
     "output_type": "stream",
     "text": [
      "0\n",
      "1\n",
      "2\n",
      "3\n",
      "5\n",
      "6\n",
      "7\n",
      "8\n"
     ]
    }
   ],
   "source": [
    "linkedlist1.desc()"
   ]
  },
  {
   "cell_type": "markdown",
   "metadata": {},
   "source": [
    "<div class=\"alert alert-block alert-warning\">\n",
    "<strong><font color=\"black\" size=\"5em\">연습 1 : 위 코드에서 노드데이터가 2인 노드를 삭제!!  </font></strong><br>\n",
    "</div>"
   ]
  },
  {
   "cell_type": "code",
   "execution_count": 27,
   "metadata": {},
   "outputs": [
    {
     "name": "stdout",
     "output_type": "stream",
     "text": [
      "0\n"
     ]
    }
   ],
   "source": [
    "linkedlist2 = NodeMgmt(0)\n",
    "linkedlist2.desc()"
   ]
  },
  {
   "cell_type": "code",
   "execution_count": 28,
   "metadata": {
    "scrolled": true
   },
   "outputs": [
    {
     "name": "stdout",
     "output_type": "stream",
     "text": [
      "0\n",
      "1\n",
      "2\n",
      "3\n",
      "4\n",
      "5\n",
      "6\n",
      "7\n",
      "8\n",
      "9\n"
     ]
    }
   ],
   "source": [
    "for data in range(1,10):\n",
    "    linkedlist2.add(data)\n",
    "linkedlist2.desc()"
   ]
  },
  {
   "cell_type": "code",
   "execution_count": 29,
   "metadata": {},
   "outputs": [],
   "source": [
    "linkedlist2.delete(2)"
   ]
  },
  {
   "cell_type": "code",
   "execution_count": 30,
   "metadata": {},
   "outputs": [
    {
     "name": "stdout",
     "output_type": "stream",
     "text": [
      "0\n",
      "1\n",
      "3\n",
      "4\n",
      "5\n",
      "6\n",
      "7\n",
      "8\n",
      "9\n"
     ]
    }
   ],
   "source": [
    "linkedlist2.desc()"
   ]
  },
  {
   "cell_type": "markdown",
   "metadata": {},
   "source": [
    "<div class=\"alert alert-block alert-warning\">\n",
    "<strong><font color=\"black\" size=\"5em\">연습2: 노드 데이터가 특정 숫자인 노드를 찾는 함수를 만들고, 테스트해보기</font></strong><br>\n",
    "테스트: 임의로 1 ~ 9까지 데이터를 링크드 리스트에 넣어보고, 데이터 값이 4인 노드의 데이터 값 출력해보기\n",
    "</div>"
   ]
  },
  {
   "cell_type": "code",
   "execution_count": null,
   "metadata": {},
   "outputs": [],
   "source": []
  },
  {
   "cell_type": "code",
   "execution_count": null,
   "metadata": {},
   "outputs": [],
   "source": [
    "def found(self, data): # 특정 데이터를 가진 노드를 칮아라 \n",
    "    # 방어코드\n",
    "        if self.head == '':\n",
    "            print('해당 값을 가진 노드가 없습니다.')\n",
    "            return\n",
    "       \n",
    "    # 실제 코드 \n",
    "        if self.head.data == data :\n",
    "            tmp = self.head\n",
    "            #  그head는 다음노드의 경로이다\n",
    "            self.head = self.head.next\n",
    "            del tmp\n",
    "        else:\n",
    "            node = self.head\n",
    "            while node.next:\n",
    "                if node.next.data==data:\n",
    "                    tmp = self.head\n",
    "                    node.next = node.next.next\n",
    "                    del tmp\n",
    "                    return\n",
    "                else:\n",
    "                    node = node.next"
   ]
  },
  {
   "cell_type": "markdown",
   "metadata": {},
   "source": [
    "### 7. 다양한 링크드 리스트 구조 \n",
    "- 더블 링크드 리스트(Doubly linked list)기본구조 \n",
    "        - 이중 연결 리스트라고도 함 \n",
    "        - 장점 : 양방향으로 연결 되어 있어서 노드 탐색이 양쪽으로 모두 가능 \n",
    "<img src=\"https://www.fun-coding.org/00_Images/doublelinkedlist.png\" />\n",
    "(출처: wikipedia, https://en.wikipedia.org/wiki/Linked_list)"
   ]
  },
  {
   "cell_type": "code",
   "execution_count": null,
   "metadata": {},
   "outputs": [],
   "source": [
    "# 링크드 리스트의 단점 ! \n",
    "# 임의의 데이터를 찾기 위해서는 그전데이터를 찾아 이동을 해야한다.\n",
    "# 찾고자 하는 데이터가 검색이 필요해 데이터량이 많으면 일일히 다 검색해야한다. "
   ]
  },
  {
   "cell_type": "code",
   "execution_count": null,
   "metadata": {},
   "outputs": [],
   "source": [
    "# 더블 링크드 리스트 \n",
    "# 양방향의 방향성을 가지고있다 \n",
    "# 이는 링크드리스트의 단점인 항상 앞에서부터 읽어드리는것을 보완한것 "
   ]
  },
  {
   "cell_type": "code",
   "execution_count": 3,
   "metadata": {},
   "outputs": [],
   "source": [
    "# 구조 코드 \n",
    "class Node:\n",
    "    def __init__(self, data, prev=None,next=None):\n",
    "        self.data =data\n",
    "        self.prev = prev\n",
    "        self.next = next\n",
    "        \n",
    "class NodeMgmt:\n",
    "    def __init__(self, data):\n",
    "        # 노드 메니지 먼트가 선언되고 그 데이터가 최초의 노드가 헤드가 됨 \n",
    "        self.head = Node(data)\n",
    "        self.tail = self.head\n",
    "        \n",
    "    def insert(self, data):\n",
    "    # 특정 데이터를 ??\n",
    "        if self.head == None:\n",
    "            self.head = Node(data)\n",
    "            self.tail = self.head\n",
    "        else:\n",
    "            # 헤드를 쫒아가야한다 \n",
    "            node = self.head\n",
    "            while node.next:\n",
    "                # 노드의 끝을 찾아가는것\n",
    "                node = node.next\n",
    "            new = Node(data)\n",
    "            node.next = new\n",
    "            # 앞의 주소를 가지고 와야한다. \n",
    "            new.prev = node\n",
    "            # 맨끝의 노드\n",
    "            self.tail = new\n",
    "            \n",
    "    def desc(self):\n",
    "        node = self.head\n",
    "        while node:\n",
    "            print(node.data)\n",
    "            node = node.next"
   ]
  },
  {
   "cell_type": "code",
   "execution_count": 4,
   "metadata": {},
   "outputs": [
    {
     "name": "stdout",
     "output_type": "stream",
     "text": [
      "0\n",
      "1\n",
      "2\n",
      "3\n",
      "4\n",
      "5\n",
      "6\n",
      "7\n",
      "8\n",
      "9\n"
     ]
    }
   ],
   "source": [
    "double_linked_list = NodeMgmt(0)\n",
    "for data in range(1,10):\n",
    "    double_linked_list.insert(data)\n",
    "double_linked_list.desc()"
   ]
  },
  {
   "cell_type": "markdown",
   "metadata": {},
   "source": [
    "<div class=\"alert alert-block alert-warning\">\n",
    "<strong><font color=\"black\" size=\"3em\">연습3: 위 코드에서 노드 데이터가 특정 숫자인 노드 앞에 데이터를 추가하는 함수를 만들고, 테스트해보기</font></strong><br>\n",
    "- 더블 링크드 리스트의 tail 에서부터 뒤로 이동하며, 특정 숫자인 노드를 찾는 방식으로 함수를 구현하기<br>\n",
    "- 테스트: 임의로 0 ~ 9까지 데이터를 링크드 리스트에 넣어보고, 데이터 값이 2인 노드 앞에 1.5 데이터 값을 가진 노드를 추가해보기\n",
    "</div>"
   ]
  },
  {
   "cell_type": "code",
   "execution_count": null,
   "metadata": {},
   "outputs": [],
   "source": [
    "# 구조 코드 \n",
    "class Node:\n",
    "    def __init__(self, data, prev=None,next=None):\n",
    "        self.data =data\n",
    "        self.prev = prev\n",
    "        self.next = next\n",
    "        \n",
    "class NodeMgmt:\n",
    "    def __init__(self, data):\n",
    "        # 노드 메니지 먼트가 선언되고 그 데이터가 최초의 노드가 헤드가 됨 \n",
    "        self.head = Node(data)\n",
    "        self.tail = self.head\n",
    "        \n",
    "    def insert(self, data):\n",
    "    # 특정 데이터를 ??\n",
    "        if self.head == None:\n",
    "            self.head = Node(data)\n",
    "            self.tail = self.head\n",
    "        else:\n",
    "            # 헤드를 쫒아가야한다 \n",
    "            node = self.head\n",
    "            while node.next:\n",
    "                # 노드의 끝을 찾아가는것\n",
    "                node = node.next\n",
    "            new = Node(data)\n",
    "            node.next = new\n",
    "            # 앞의 주소를 가지고 와야한다. \n",
    "            new.prev = node\n",
    "            # 맨끝의 노드\n",
    "            self.tail = new\n",
    "            \n",
    "    def desc(self):\n",
    "        node = self.head\n",
    "        while node:\n",
    "            print(node.data)\n",
    "            node = node.next\n",
    "            \n",
    "    def search_from_head(self, data):\n",
    "        # 방어 코드 \n",
    "        if self.head == None:\n",
    "            return False\n",
    "        \n",
    "        node = self.head\n",
    "        while node:\n",
    "            if node.data == data:\n",
    "                return node\n",
    "            else:\n",
    "                node = node.next\n",
    "        return False\n",
    "            \n",
    "    def search_from_tail(self, data):\n",
    "        # 방어 코드 \n",
    "        if self.head == None:\n",
    "            return False\n",
    "\n",
    "        node = self.tail\n",
    "        while node:\n",
    "            if node.data == data:\n",
    "                return node\n",
    "            else:\n",
    "                node = node.prev\n",
    "        return False"
   ]
  },
  {
   "cell_type": "code",
   "execution_count": null,
   "metadata": {},
   "outputs": [],
   "source": []
  },
  {
   "cell_type": "code",
   "execution_count": null,
   "metadata": {},
   "outputs": [],
   "source": []
  }
 ],
 "metadata": {
  "file_extension": ".py",
  "kernelspec": {
   "display_name": "Python 3",
   "language": "python",
   "name": "python3"
  },
  "language_info": {
   "codemirror_mode": {
    "name": "ipython",
    "version": 3
   },
   "file_extension": ".py",
   "mimetype": "text/x-python",
   "name": "python",
   "nbconvert_exporter": "python",
   "pygments_lexer": "ipython3",
   "version": "3.6.5"
  },
  "mimetype": "text/x-python",
  "name": "python",
  "npconvert_exporter": "python",
  "pygments_lexer": "ipython3",
  "version": 3
 },
 "nbformat": 4,
 "nbformat_minor": 2
}
