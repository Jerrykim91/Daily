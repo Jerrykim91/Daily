{
 "cells": [
  {
   "cell_type": "markdown",
   "metadata": {},
   "source": [
    "##  1. 알고리즘 복잡도 표현방법\n",
    "- 알고리즘 복잡도 표현 방법 : 시간 복잡도***\n",
    "\n",
    "### 하나의 문제를 푸는 알고리즘은 다양할 수 있음 - 알고리즘에 정답은 없다!! \n",
    "- 정수의 절대값 구하기 \n",
    "    - 1,-1 => |1|\n",
    "    - 방법 1 : 정수값을 제곱한 값에 다시 루트 씌우기 \n",
    "    - 방법 2 : 정수가 음수인지 확인해서, 음수일 때만, -1을 곱하기 \n",
    "    \n",
    "> 다양한 알고리즘 중 어느 알고리즘이 더 좋은지 분석하기위해, 복잡도를 정의하고 계산함 "
   ]
  },
  {
   "cell_type": "markdown",
   "metadata": {},
   "source": [
    "## 2. 알고리즘 복잡도 계산 항목 \n",
    "\n",
    "1. **중요)시간 복잡도(Time complexity)** \n",
    "    - 알고리즘 실행속도\n",
    "2. 공간 복잡도(Space Complexity)\n",
    "    - 알고리즘이 사용하는 메모리 사이즈\n",
    "    \n",
    "> 가장 중요한 **시간복잡도를 꼭 이해**하고 계산할 수 있어야한다. \n",
    "\n",
    "\n",
    "## 알고리즘 시간 복잡도의 주요 요소\n",
    " ### - 반복문 ! \n",
    "     => 반복문이 시간 복잡도를 지배한다."
   ]
  },
  {
   "cell_type": "markdown",
   "metadata": {},
   "source": [
    "### 생각해보기 => 자동차로 서울에서 부산을 가기위해, 다음과 같이 항목을 나누었을때, 가장 총시간에 영향을 많이 미칠 것 같은 요소는 ? \n",
    "\n",
    "- 예 :\n",
    "    - 자동차로 서울에서 부산가기 \n",
    "        1. 자동차 문열기 \n",
    "        2. 자동차 문 기 \n",
    "        3. 자동차 운전석 등받이 조정하기 \n",
    "        4. 자동차 시동걸기 \n",
    "        5. 자동차로 서울에서 부산가기 \n",
    "        6. 자동차 시동 끄기 \n",
    "        7. 자동차 문열기\n",
    "        8. 자동차 문닫기"
   ]
  },
  {
   "cell_type": "markdown",
   "metadata": {},
   "source": [
    "### 마찬가지로, 프로그래밍에서 시간복잡도에 가장 영향을 많이 미치는 요소는 반복문 \n",
    "- 입력의 크기가 커지면 커질수록 반복문이 알고리줌 수행 시간을 지배함\n",
    "- 알고리즘의 성능과 수행시간이 달라진다. "
   ]
  },
  {
   "cell_type": "markdown",
   "metadata": {},
   "source": [
    "### 알고리즘 성능 표기법 \n",
    "- Big O(빅-오) 표기법: O(N)\n",
    "     - 알고리즘 **최악의 실행 시간을 표기** => 가장 최악의 경우에 이알고리즘의 시간을 계산(적어도 이정도는 보장 )\n",
    "     - **가장 많이 / 일반적으로 사용함** \n",
    "     - **아무리 최악의 상황이라도, 이정도의 성능은 보장한다는 의미**이기 때문 => 이상황을 표기하는것이 중요하다       \n",
    "     <br>       \n",
    "- Ω (오메가) 표기법:  Ω(N)\n",
    "    - 오메가 표히법은 알고리즘 최상의 실행시간을 표기 \n",
    "    \n",
    "- Θ (세타) 표기법: Θ(N)\n",
    "    - 오메가 표기법은 알고리즘 평균 실행 시간을 표기 \n",
    "    \n",
    "> 시간 복잡도 계산은 반복문이 핵심 요소임을 인지하고, 계산 표기는 최상, 평균, 최악 중 최악의 시간인 **Big-O 표기법을 중심**으로 익히면 된다. "
   ]
  },
  {
   "cell_type": "code",
   "execution_count": null,
   "metadata": {},
   "outputs": [],
   "source": []
  },
  {
   "cell_type": "code",
   "execution_count": null,
   "metadata": {},
   "outputs": [],
   "source": []
  },
  {
   "cell_type": "code",
   "execution_count": null,
   "metadata": {},
   "outputs": [],
   "source": []
  },
  {
   "cell_type": "code",
   "execution_count": null,
   "metadata": {},
   "outputs": [],
   "source": []
  }
 ],
 "metadata": {
  "kernelspec": {
   "display_name": "Python 3",
   "language": "python",
   "name": "python3"
  },
  "language_info": {
   "codemirror_mode": {
    "name": "ipython",
    "version": 3
   },
   "file_extension": ".py",
   "mimetype": "text/x-python",
   "name": "python",
   "nbconvert_exporter": "python",
   "pygments_lexer": "ipython3",
   "version": "3.6.5"
  }
 },
 "nbformat": 4,
 "nbformat_minor": 2
}
