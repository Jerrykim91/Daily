{
 "cells": [
  {
   "cell_type": "markdown",
   "metadata": {},
   "source": [
    "```html\n",
    "<div class=\"alert alert-success\" role=\"alert\">\n",
    "  <h2 class=\"alert-heading\"><font color=\"black\"> 제목 </font></h2>\n",
    "  <p> 내용 </p>\n",
    "</div>\n",
    "```\n",
    "\n",
    "```html\n",
    "<div class=\"alert alert-success\" role=\"alert\">\n",
    "  <h2 class=\"alert-heading\"><font color=\"black\"> 제목 \n",
    "  </font></h2>\n",
    "<p><font color=\"black\"> \n",
    "내용\n",
    "</font></p></div>\n",
    "\n",
    "```"
   ]
  },
  {
   "cell_type": "markdown",
   "metadata": {},
   "source": [
    "컴퓨테이셔널 씽킹과 알고리즘의 차이점은 무엇인가요?\n",
    "\n",
    "**컴퓨테이셔널 씽킹은 4가지**\n",
    "분해: 복잡한 문제를 작은 문제로 나눔\n",
    "패턴 인식: 문제 안에서 유사성을 발견\n",
    "추상화: 문제의 핵심에만 집중, 부차적인 것은 제외\n",
    "알고리즘: 이렇게 정의한 문제를 해결하는 절차(일반화와 모델링은 여기에 포함)\n",
    "\n",
    "현실에서 컴퓨터로 해결하려는 문제는 정형화된 문제가 아니라 비정형화된 문제가 더 많다.\n",
    "비정형화된 문제를 컴퓨터로 해결하는 과정 => 문제를 이해하고 분해, 패턴 인식, 추상화, 알고리즘 작성까지를 컴퓨테이셔널 씽킹"
   ]
  },
  {
   "cell_type": "markdown",
   "metadata": {},
   "source": [
    "# 기본 문법 알아보기\n",
    "\n",
    "0. 항상 먼저 자료형 확인 \n",
    "1. 사칙연산 => ' 더하기( + ), 빼기 ( - ), 곱하기( \\* ), 나누기( / )'    \n",
    "2. **나눗셈 후 소수점이하르 버리는 '//'연산자 **   \n",
    "    =>'//' 는 버리는 나눗셈 => 소숫점 이하는 버림. 실수에 '//' 사용하면 '.0' 이 됨       \n",
    "3. 나눗셈 후 나머지를 구하는 %연산자 =>나누어 떨어지지 않을 때 나머지만 구함.     \n",
    "4. 거듭 제곱 연산자 => 2**10 >>> 1024     \n",
    "5. 값을 정수 => int()     \n",
    "6. 객체형의 자료형 알아내기 => type(값)     \n",
    "7. 실수와 정수 계산 => 실수로 계산이됨 \n",
    "8. 값을 실수로 만들 때 float()안에 넣으면 됨 "
   ]
  },
  {
   "cell_type": "markdown",
   "metadata": {},
   "source": [
    "### 자료형 ??????\n",
    "1. 정수형\n",
    "2. 실수형\n",
    "3. 문자형\n",
    "4. 연속데이터타입(리스트\\_딕셔너리\\_튜플_집합)"
   ]
  },
  {
   "cell_type": "code",
   "execution_count": 2,
   "metadata": {},
   "outputs": [
    {
     "name": "stdout",
     "output_type": "stream",
     "text": [
      "hello,world!\n"
     ]
    }
   ],
   "source": [
    "print('hello,world!')"
   ]
  },
  {
   "cell_type": "code",
   "execution_count": 1,
   "metadata": {},
   "outputs": [
    {
     "name": "stdout",
     "output_type": "stream",
     "text": [
      "Hello\n",
      "world\n"
     ]
    }
   ],
   "source": [
    "# 세미클론 => 한줄에 여러 문장일 때 \n",
    "print('Hello');print('world')"
   ]
  },
  {
   "cell_type": "code",
   "execution_count": 1,
   "metadata": {},
   "outputs": [
    {
     "data": {
      "text/plain": [
       "3"
      ]
     },
     "execution_count": 1,
     "metadata": {},
     "output_type": "execute_result"
    }
   ],
   "source": [
    "# 파이썬은 숫자도 객체이다, 객체는 클래스로 표현한다 \n",
    "int(3.3) # 실수 3.3을 int 클래스로 된 객체로 만든다는 뜻 "
   ]
  },
  {
   "cell_type": "code",
   "execution_count": 2,
   "metadata": {},
   "outputs": [
    {
     "data": {
      "text/plain": [
       "(2, 1)"
      ]
     },
     "execution_count": 2,
     "metadata": {},
     "output_type": "execute_result"
    }
   ],
   "source": [
    "# 몫과 나머지를 함께 구하려면 \n",
    "divmod(5,2)"
   ]
  },
  {
   "cell_type": "markdown",
   "metadata": {},
   "source": [
    "## 연습문제1:아파트에서 소음이 가장 심한 층수를 출력하기\n",
    "국립환경과학원에서는 아파트에서 소음이 가장 심한 층수를 구하는 계산식을 발표했습니다. 소음이 가장 심한 층은 0.2467 * 도로와의 거리(m) + 4.159입니다. 다음 소스 코드를 완성하여 소음이 가장 심한 층수가 출력되게 만드세요. 단, 층수를 출력할 때는 소수점 이하 자리는 버립니다(정수로 출력).\n",
    "도로와의 거리: 12m "
   ]
  },
  {
   "cell_type": "code",
   "execution_count": 1,
   "metadata": {},
   "outputs": [
    {
     "name": "stdout",
     "output_type": "stream",
     "text": [
      "7.1194  정수 값=  7\n"
     ]
    }
   ],
   "source": [
    "#0.2467 * 12(m) + 4.159\n",
    "print(0.2467 * 12 + 4.159,' 정수 값= ',int(0.2467 * 12 + 4.159))"
   ]
  },
  {
   "cell_type": "markdown",
   "metadata": {},
   "source": [
    "<div class=\"alert alert-success\" role=\"alert\">\n",
    "  <h2 class=\"alert-heading\"><font color=\"black\"> 연습문제2: 스킬 공격력 출력하기</font></h2>\n",
    "  <p>L이라는 게임에서 '왜곡' 이라는 스킬이 AP * 0.6+ 225의 피해를 줍니다. 이게임에서 AP(Ability power, 주문력)는 마법능력치를 뜻합니다. 다음 소스 코드를 완성하여 스킹릐 피해량이 출력되게 만드세요 \n",
    "AP : 102</p>\n",
    "</div>"
   ]
  },
  {
   "cell_type": "code",
   "execution_count": 10,
   "metadata": {},
   "outputs": [
    {
     "name": "stdout",
     "output_type": "stream",
     "text": [
      "286.2\n"
     ]
    }
   ],
   "source": [
    "print(102 * 0.6+ 225)"
   ]
  },
  {
   "cell_type": "code",
   "execution_count": null,
   "metadata": {},
   "outputs": [],
   "source": [
    "<div class=\"alert alert-info\" role=\"alert\">"
   ]
  },
  {
   "cell_type": "markdown",
   "metadata": {},
   "source": [
    "### 변수와 입력 사용하기 \n",
    "```x = 10 ``` \n",
    "x 라는 박스에 10을 담는다 \n",
    "변수이름 = 값 \n",
    "\n",
    "### - 변수 생성 규칙 \n",
    "1. 영문 문자와 숫자르 사용할수 있다. \n",
    "2. 대소문자를 구분한다. \n",
    "3. 문자부터 시작해야하며 숫자부터 시작하면 안된다. \n",
    "4. \\_(밑줄문자: 언더 스코어) 시작 가능하다 \n",
    "5. 특수문자(+,-,\\*,\\/,$,@,&,%등)는 사용할수 없다\n",
    "6. 파이썬 키워드(if , for , while, and , or) 등은 사용할수 없다. \n",
    "\n",
    "- 프로그래밍언어에서 '='은 변수에 값을 할당한다라는 의미 \n",
    "    => 수학등호 같은 연산자는 '=='     \n",
    "    "
   ]
  },
  {
   "cell_type": "code",
   "execution_count": 13,
   "metadata": {},
   "outputs": [
    {
     "data": {
      "text/plain": [
       "(10, 20, 30)"
      ]
     },
     "execution_count": 13,
     "metadata": {},
     "output_type": "execute_result"
    }
   ],
   "source": [
    "# 변수 여러개를 한번에 \n",
    "# 변수 이름 1 , 변수 이름 2 , 변수 이름 3 = 값1 ,값 2, 값3 \n",
    "x,y,z = 10, 20, 30 \n",
    "x,y,z"
   ]
  },
  {
   "cell_type": "code",
   "execution_count": 14,
   "metadata": {},
   "outputs": [
    {
     "data": {
      "text/plain": [
       "10"
      ]
     },
     "execution_count": 14,
     "metadata": {},
     "output_type": "execute_result"
    }
   ],
   "source": [
    "x=y=z=10 \n",
    "x"
   ]
  },
  {
   "cell_type": "code",
   "execution_count": 15,
   "metadata": {},
   "outputs": [
    {
     "data": {
      "text/plain": [
       "(20, 10)"
      ]
     },
     "execution_count": 15,
     "metadata": {},
     "output_type": "execute_result"
    }
   ],
   "source": [
    "x,y = 10,20\n",
    "x,y = y,x\n",
    "x,y"
   ]
  },
  {
   "cell_type": "code",
   "execution_count": 16,
   "metadata": {},
   "outputs": [
    {
     "name": "stdout",
     "output_type": "stream",
     "text": [
      "None\n"
     ]
    }
   ],
   "source": [
    "# 빈 변수 만들기 \n",
    "x= None \n",
    "print(x)"
   ]
  },
  {
   "cell_type": "code",
   "execution_count": 18,
   "metadata": {},
   "outputs": [],
   "source": [
    "# 값이 없어서 아무것도 출력이 안됨 \n",
    "x"
   ]
  },
  {
   "cell_type": "code",
   "execution_count": 19,
   "metadata": {},
   "outputs": [
    {
     "data": {
      "text/plain": [
       "20"
      ]
     },
     "execution_count": 19,
     "metadata": {},
     "output_type": "execute_result"
    }
   ],
   "source": [
    "# 변수로 계산하기 \n",
    "a = 10 \n",
    "b = 10 \n",
    "c =a+b \n",
    "c"
   ]
  },
  {
   "cell_type": "code",
   "execution_count": 22,
   "metadata": {},
   "outputs": [
    {
     "data": {
      "text/plain": [
       "(30, 10)"
      ]
     },
     "execution_count": 22,
     "metadata": {},
     "output_type": "execute_result"
    }
   ],
   "source": [
    "# 산술 연산후 할당 연산자 사용하기 \n",
    "a = 10 \n",
    "a+20 , a"
   ]
  },
  {
   "cell_type": "code",
   "execution_count": 24,
   "metadata": {},
   "outputs": [
    {
     "data": {
      "text/plain": [
       "30"
      ]
     },
     "execution_count": 24,
     "metadata": {},
     "output_type": "execute_result"
    }
   ],
   "source": [
    "a = 10 \n",
    "a += 20 \n",
    "a"
   ]
  },
  {
   "cell_type": "markdown",
   "metadata": {},
   "source": [
    "### input() 함수 사용 \n",
    "변수 = input('문자열')    \n",
    "입력 값을 정수로 변환하기     \n",
    "변수 = int(input('첫번째 숫자를 입력하세요: '))    \n",
    "변수 = int(input())    \n",
    "\n",
    "### 입력 받은 값을 두개의 변수에 저장하기    \n",
    "변수 1, 변수 2 = input().split()     \n",
    "변수 1, 변수 2 = input().split('문자열')    \n",
    "변수 1,변수 2 = input('문자열').split()      \n",
    "변수 1,변수 2 = input('문자열').split('기준문자열')    \n",
    "\n",
    "input에 split을 사용하면 입력받은 값을 공백을 기준으로      \n",
    "분리하여 변수에 차례로 저장     \n",
    "\n",
    "### map()을 사용하여 정수로 변환하기 \n",
    "split의 결과를 매번 int로 변경하면 번거롭다-> 이때 map()을 사용         \n",
    "map에 input().split()을 넣으면 split의 결과르 모두 int()로 변환      \n",
    "나중에 map에서 다시 설명      "
   ]
  },
  {
   "cell_type": "code",
   "execution_count": 5,
   "metadata": {
    "scrolled": true
   },
   "outputs": [
    {
     "name": "stdout",
     "output_type": "stream",
     "text": [
      "숫자 두개를 입력하세요: 10 12\n",
      "22\n"
     ]
    }
   ],
   "source": [
    "# map() 공백을 기준으로 분리 \n",
    "a,b = map(int, input('숫자 두개를 입력하세요(,제외): ').split())\n",
    "print(a+b)"
   ]
  },
  {
   "cell_type": "code",
   "execution_count": 6,
   "metadata": {},
   "outputs": [
    {
     "name": "stdout",
     "output_type": "stream",
     "text": [
      "숫자 두 개를 입력하세요: 1,2\n",
      "3\n"
     ]
    }
   ],
   "source": [
    "# 입력 받은 값을 콤마 기준으로 분리하기 \n",
    "a,b = map(int, input('숫자 두 개를 입력하세요: ').split(','))\n",
    "print(a + b)"
   ]
  },
  {
   "cell_type": "markdown",
   "metadata": {},
   "source": [
    "<div class=\"alert alert-success\" role=\"alert\">\n",
    "  <h2 class=\"alert-heading\"><font color=\"black\"> 연습문제3: 정수3개를 입력 받고 합계를 출력하시오 </font></h2>\n",
    "  <p> 다음 소스 코드를 완성하여 정수 세개를 입력받고 합계가 출력되게 만드시오      \n",
    "(입력)  -10, 20, 30 </p></div>"
   ]
  },
  {
   "cell_type": "code",
   "execution_count": 7,
   "metadata": {},
   "outputs": [
    {
     "name": "stdout",
     "output_type": "stream",
     "text": [
      "숫자 세가지 입력:-10,20,30\n",
      "40\n"
     ]
    }
   ],
   "source": [
    "a,b,c = map(int, input('숫자 세가지 입력:').split(','))\n",
    "print(a+b+c)"
   ]
  },
  {
   "cell_type": "markdown",
   "metadata": {},
   "source": [
    "<div class=\"alert alert-success\" role=\"alert\">\n",
    "  <h2 class=\"alert-heading\"><font color=\"black\"> 연습문제4: 변수만들기 </font></h2>\n",
    " <p>\n",
    "다음 소스 코드를 완성하여 50, 100, None 출력되게 만드시오      \n",
    "(표준출력) 50, 100, None</p></div>"
   ]
  },
  {
   "cell_type": "code",
   "execution_count": 8,
   "metadata": {},
   "outputs": [],
   "source": [
    "a,b,c = 50 ,100, None"
   ]
  },
  {
   "cell_type": "code",
   "execution_count": 51,
   "metadata": {},
   "outputs": [
    {
     "name": "stdout",
     "output_type": "stream",
     "text": [
      "50 \n",
      " 100 \n",
      " None\n"
     ]
    }
   ],
   "source": [
    "# print( a,'\\n', b ,'\\n',c)"
   ]
  },
  {
   "cell_type": "code",
   "execution_count": 11,
   "metadata": {},
   "outputs": [
    {
     "name": "stdout",
     "output_type": "stream",
     "text": [
      "50\n"
     ]
    }
   ],
   "source": [
    "print(a)"
   ]
  },
  {
   "cell_type": "code",
   "execution_count": 10,
   "metadata": {},
   "outputs": [
    {
     "name": "stdout",
     "output_type": "stream",
     "text": [
      "100\n"
     ]
    }
   ],
   "source": [
    "print(b)"
   ]
  },
  {
   "cell_type": "code",
   "execution_count": 9,
   "metadata": {},
   "outputs": [
    {
     "name": "stdout",
     "output_type": "stream",
     "text": [
      "None\n"
     ]
    }
   ],
   "source": [
    "print(c)"
   ]
  },
  {
   "cell_type": "markdown",
   "metadata": {},
   "source": [
    "### 출력 방법 알아 보기 "
   ]
  },
  {
   "cell_type": "code",
   "execution_count": 27,
   "metadata": {},
   "outputs": [
    {
     "name": "stdout",
     "output_type": "stream",
     "text": [
      "100x250\n"
     ]
    }
   ],
   "source": [
    "# sep로 값 사이에 문자 넣기 (공백 ,콤마, 줄바꿈 ,문자 다 ok )\n",
    "# sep는 구분자라는 의미 \n",
    "print(100,250, sep = 'x')"
   ]
  },
  {
   "cell_type": "code",
   "execution_count": 29,
   "metadata": {},
   "outputs": [
    {
     "name": "stdout",
     "output_type": "stream",
     "text": [
      "1\n",
      "2\n",
      "3\n"
     ]
    }
   ],
   "source": [
    "print('1\\n2\\n3')"
   ]
  },
  {
   "cell_type": "markdown",
   "metadata": {},
   "source": [
    "### 제어 문자 \n",
    "    \\n : 다음줄로 이동 하며 개행이라고 부름  \n",
    "    \\t : 탭문자, 키보드의  탭과 같음 \n",
    "    \\\\ : \\를 사용하려면 두번 !! "
   ]
  },
  {
   "cell_type": "code",
   "execution_count": null,
   "metadata": {},
   "outputs": [],
   "source": [
    "# 프린트의 다양한 사용 방법 \n",
    "#print(vla , sep , end)"
   ]
  },
  {
   "cell_type": "markdown",
   "metadata": {},
   "source": [
    "<div class=\"alert alert-danger\" role=\"alert\">\n",
    "  <h2 class=\"alert-heading\"><font color=\"black\"> 심사문제: 평균 점수 구하기  </font></h2>\n",
    "<p>\n",
    "표준 입력으로 국어, 영어, 수학, 과학 점수가 입력됩니다. 평균점수를 출력하는 프로그램을 만드세요(input에서 안내 문자열은 출력하지 않아야 합니다.) 단, 평균 점수를 출력할때는 소수점 이하자리는 버립니다.(정수로 출력) </p></div>\n"
   ]
  },
  {
   "cell_type": "code",
   "execution_count": 26,
   "metadata": {
    "scrolled": true
   },
   "outputs": [
    {
     "name": "stdout",
     "output_type": "stream",
     "text": [
      "50 60 70 80\n",
      "check point :  50 60 70 80\n",
      "65\n"
     ]
    }
   ],
   "source": [
    "Korean, English, Math, Science = map(int, input().split())\n",
    "print('check point : ',Korean, English, Math, Science)\n",
    "avg = (Korean + English + Math + Science )/ 4 \n",
    "print(' avg : ',int(avg))\n",
    "# print(int(Korean, English, Math, Science / 4 ))"
   ]
  },
  {
   "cell_type": "markdown",
   "metadata": {},
   "source": [
    "<div class=\"alert alert-success\" role=\"alert\">\n",
    "  <h2 class=\"alert-heading\"><font color=\"black\"> 연습문제5: 날짜와 시간 출력  </font></h2>\n",
    "<p>\n",
    "다음 소스 코드를 완성하여 날짜와 시간을 출력되게 만드시오 \n",
    "</p> \n",
    "\n",
    "<p><font color=\"black\"> \n",
    "< 입력 >      \n",
    "year   = 2000     \n",
    "month  = 10     \n",
    "day    = 27    \n",
    "hour   = 11    \n",
    "minute = 43    \n",
    "second = 59   \n",
    "    \n",
    "print(year,month,day, ---(1)--- )   \n",
    "print(hour,minute,second, ---(2)--- )   \n",
    "\n",
    "< 출력 >   \n",
    "\n",
    "``` >>> 2000 / 10/27 11:43:59```\n",
    "\n",
    "</font></p></div>"
   ]
  },
  {
   "cell_type": "code",
   "execution_count": 27,
   "metadata": {},
   "outputs": [],
   "source": [
    "year   = 2000     \n",
    "month  = 10     \n",
    "day    = 27    \n",
    "hour   = 11    \n",
    "minute = 43    \n",
    "second = 59   "
   ]
  },
  {
   "cell_type": "code",
   "execution_count": 39,
   "metadata": {},
   "outputs": [
    {
     "name": "stdout",
     "output_type": "stream",
     "text": [
      "2000/10/27 11:43:59\n"
     ]
    }
   ],
   "source": [
    "print( year, month, day ,sep = '/', end = ' ')\n",
    "print(hour,minute,second, sep = ':')   "
   ]
  },
  {
   "cell_type": "code",
   "execution_count": 43,
   "metadata": {},
   "outputs": [
    {
     "name": "stdout",
     "output_type": "stream",
     "text": [
      "2000/10/27\n",
      "11:43:59\n"
     ]
    }
   ],
   "source": [
    "print( year, month, day ,sep = '/')\n",
    "print(hour,minute,second, sep = ':')   "
   ]
  },
  {
   "cell_type": "code",
   "execution_count": 35,
   "metadata": {},
   "outputs": [
    {
     "name": "stdout",
     "output_type": "stream",
     "text": [
      "11:43:59\n"
     ]
    }
   ],
   "source": [
    "print(hour,minute,second, sep = ':')   "
   ]
  },
  {
   "cell_type": "code",
   "execution_count": 46,
   "metadata": {},
   "outputs": [
    {
     "ename": "NameError",
     "evalue": "name 'x' is not defined",
     "output_type": "error",
     "traceback": [
      "\u001b[1;31m---------------------------------------------------------------------------\u001b[0m",
      "\u001b[1;31mNameError\u001b[0m                                 Traceback (most recent call last)",
      "\u001b[1;32m<ipython-input-46-a7d56c25d0e6>\u001b[0m in \u001b[0;36m<module>\u001b[1;34m()\u001b[0m\n\u001b[0;32m      1\u001b[0m \u001b[0mx\u001b[0m \u001b[1;33m=\u001b[0m \u001b[1;36m10\u001b[0m\u001b[1;33m\u001b[0m\u001b[0m\n\u001b[0;32m      2\u001b[0m \u001b[1;32mdel\u001b[0m \u001b[0mx\u001b[0m\u001b[1;33m\u001b[0m\u001b[0m\n\u001b[1;32m----> 3\u001b[1;33m \u001b[0mprint\u001b[0m\u001b[1;33m(\u001b[0m\u001b[0mx\u001b[0m\u001b[1;33m)\u001b[0m\u001b[1;33m\u001b[0m\u001b[0m\n\u001b[0m",
      "\u001b[1;31mNameError\u001b[0m: name 'x' is not defined"
     ]
    }
   ],
   "source": [
    "x = 10 \n",
    "del x "
   ]
  },
  {
   "cell_type": "code",
   "execution_count": 48,
   "metadata": {
    "scrolled": true
   },
   "outputs": [
    {
     "ename": "NameError",
     "evalue": "name 'x' is not defined",
     "output_type": "error",
     "traceback": [
      "\u001b[1;31m---------------------------------------------------------------------------\u001b[0m",
      "\u001b[1;31mNameError\u001b[0m                                 Traceback (most recent call last)",
      "\u001b[1;32m<ipython-input-48-fc17d851ef81>\u001b[0m in \u001b[0;36m<module>\u001b[1;34m()\u001b[0m\n\u001b[1;32m----> 1\u001b[1;33m \u001b[0mprint\u001b[0m\u001b[1;33m(\u001b[0m\u001b[0mx\u001b[0m\u001b[1;33m)\u001b[0m\u001b[1;33m\u001b[0m\u001b[0m\n\u001b[0m",
      "\u001b[1;31mNameError\u001b[0m: name 'x' is not defined"
     ]
    }
   ],
   "source": [
    "print(x)"
   ]
  },
  {
   "cell_type": "markdown",
   "metadata": {},
   "source": [
    "# Q&A \n",
    "\n",
    "-    변수에 값이 어떻게 저장되나요? \n",
    "    - 파이썬은 값 자체도 객체 \n",
    "        => 그래서 변수에 값을 그대로 저장하지 않고 객체를 가르키는 방식을 사용\n",
    "        => 예를 들어 다음과 같이 x, y에 1000을 할당 했다면 x, y는 단지 1000이라는 객체를 가르킴 \n",
    "- 행렬 곱셈 연산자는 numpy모듈설치후 사용 \n",
    "- $ pip install numpy "
   ]
  },
  {
   "cell_type": "code",
   "execution_count": 54,
   "metadata": {},
   "outputs": [
    {
     "name": "stdout",
     "output_type": "stream",
     "text": [
      "3\n",
      "3\n",
      "3\n",
      "False\n"
     ]
    }
   ],
   "source": [
    "# import sys\n",
    "# print(sys.getrefcount(1000)) \n",
    "# # 2: 윈도우에서 처음 레퍼런스 카운트는 2\n",
    "# # 3: 리눅스에서 처음 레퍼런스 카운트는 3\n",
    "# x = 1000 \n",
    "# # x에 1000을 저장\n",
    "# print(sys.getrefcount(1000))    \n",
    "# # 3: 1000을 한 번 사용하여 레퍼런스 카운트 1 증가(Windows)\n",
    "# # 4: 리눅스\n",
    "# y = 1000  \n",
    "# # y에 1000을 저장\n",
    "# print(sys.getrefcount(1000))   \n",
    "# # 4: 1000을 한 번 사용하여 레퍼런스 카운트 1 증가(Windows)\n",
    "# # 5: 리눅스\n",
    "# print(x is y)    \n",
    "# # True: x와 y가 같은 객체를 가리키고 있으므로 True가 나옴"
   ]
  },
  {
   "cell_type": "code",
   "execution_count": null,
   "metadata": {},
   "outputs": [],
   "source": []
  }
 ],
 "metadata": {
  "kernelspec": {
   "display_name": "Python 3",
   "language": "python",
   "name": "python3"
  },
  "language_info": {
   "codemirror_mode": {
    "name": "ipython",
    "version": 3
   },
   "file_extension": ".py",
   "mimetype": "text/x-python",
   "name": "python",
   "nbconvert_exporter": "python",
   "pygments_lexer": "ipython3",
   "version": "3.6.5"
  }
 },
 "nbformat": 4,
 "nbformat_minor": 2
}