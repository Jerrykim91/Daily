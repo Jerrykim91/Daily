{
 "cells": [
  {
   "cell_type": "markdown",
   "metadata": {},
   "source": [
    "컴퓨테이셔널 씽킹과 알고리즘의 차이점은 무엇인가요?\n",
    "\n",
    "**컴퓨테이셔널 씽킹은 4가지**\n",
    "분해: 복잡한 문제를 작은 문제로 나눔\n",
    "패턴 인식: 문제 안에서 유사성을 발견\n",
    "추상화: 문제의 핵심에만 집중, 부차적인 것은 제외\n",
    "알고리즘: 이렇게 정의한 문제를 해결하는 절차(일반화와 모델링은 여기에 포함)\n",
    "\n",
    "현실에서 컴퓨터로 해결하려는 문제는 정형화된 문제가 아니라 비정형화된 문제가 더 많다.\n",
    "비정형화된 문제를 컴퓨터로 해결하는 과정 => 문제를 이해하고 분해, 패턴 인식, 추상화, 알고리즘 작성까지를 컴퓨테이셔널 씽킹"
   ]
  },
  {
   "cell_type": "markdown",
   "metadata": {},
   "source": [
    "# 불과 비교 연산자, 논리 연산자 알아보기 \n",
    "\n",
    "- Programming을 하다 보면 참과 거짓을 판단해야 할 때가 많음\n",
    "- Boolean = > 참(True)과 거짓(False)을 나타냄\n",
    "- 두 값의 관계를 판단하는 **비교 연산자**와 두 값의 논리값을 판단하는 **논리 연산자** \n",
    "\n",
    "++ 비교 연산자와 논리 연산자의 판단의 결과 => 참(True)과 거짓(False)     \n",
    "- 숫자가 같은지 다른지 비교 , 문자열도 마찬가지      \n",
    "    => 두숫자의 값을 비교 하려면 ==(equal)     \n",
    "    => 다른지를 비교하려면 !=( not equal)을 사용      \n",
    "    \n",
    "++ 객체가 같은지 다른지 비교 => is, is not => **객체를 비교**     \n",
    "++ 정수 객체와 실수 객체가 다른것을 확인하려면 id()함수를 사용     \n",
    "- 주로 is, is not은 클래스로 객체를 만든뒤 객체가 서로 같은지 비교 할때 사용      \n",
    "    - Point는 ==,!= 는 is, is not 과 같은 느낌이나 **동작 방식이 다르다**는 것이 KeyPoint!\n",
    "    \n",
    "    \n",
    "### 논리 연산자 사용하기 \n",
    "    -> 논리 연산자 (AND, OR , NOT) => 세 연산자가 한식에 들어 있으면 NOT > AND > OR \n",
    "AND : A AND B => 두 값이 모두 True => True     \n",
    "OR  : A  OR B =>두 값 중 하나라도 True => True 이말은 두값이 모드 False => False    \n",
    "NOT : A NOT B => NOT은 논리 값을 뒤집는다 => 이말인 즉, (NOT True => False , NOT False = True)     \n"
   ]
  },
  {
   "cell_type": "code",
   "execution_count": 3,
   "metadata": {},
   "outputs": [
    {
     "data": {
      "text/plain": [
       "(True, False)"
      ]
     },
     "execution_count": 3,
     "metadata": {},
     "output_type": "execute_result"
    }
   ],
   "source": [
    "# 숫자 \n",
    "10 == 10 , 10 != 10"
   ]
  },
  {
   "cell_type": "code",
   "execution_count": 4,
   "metadata": {},
   "outputs": [
    {
     "data": {
      "text/plain": [
       "(False, True)"
      ]
     },
     "execution_count": 4,
     "metadata": {},
     "output_type": "execute_result"
    }
   ],
   "source": [
    "# 문자열 \n",
    "'python' == 'Python' , 'python' != 'Python'"
   ]
  },
  {
   "cell_type": "code",
   "execution_count": 5,
   "metadata": {},
   "outputs": [
    {
     "data": {
      "text/plain": [
       "(False, True, True, True)"
      ]
     },
     "execution_count": 5,
     "metadata": {},
     "output_type": "execute_result"
    }
   ],
   "source": [
    "# 부등호 \n",
    "10 > 20 , 10 < 20 , 10>=10 ,10 <= 10"
   ]
  },
  {
   "cell_type": "code",
   "execution_count": 8,
   "metadata": {},
   "outputs": [
    {
     "data": {
      "text/plain": [
       "(True, False)"
      ]
     },
     "execution_count": 8,
     "metadata": {},
     "output_type": "execute_result"
    }
   ],
   "source": [
    "# 부등호 잘 헷갈림 ** 주의 **\n",
    "# 크거나 같은지 , 작거나 같은지 \n",
    "11 >= 10 , 11 <= 10"
   ]
  },
  {
   "cell_type": "code",
   "execution_count": 11,
   "metadata": {},
   "outputs": [
    {
     "data": {
      "text/plain": [
       "(True, False, True)"
      ]
     },
     "execution_count": 11,
     "metadata": {},
     "output_type": "execute_result"
    }
   ],
   "source": [
    "# 객체가 같은지 다른지 비교 -> is , is not \n",
    "\n",
    "1==1.0, 1 is 10 , 1 is not 1.0"
   ]
  },
  {
   "cell_type": "markdown",
   "metadata": {},
   "source": [
    "<div class=\"alert alert-success\" role=\"alert\">\n",
    "  <h2 class=\"alert-heading\"><font color=\"black\"> 연습문제6: 합격 여부 출력  </font></h2>\n",
    "<p>\n",
    "국어, 영어, 수학, 과학 점수가 있을때 한 과목이라도 50점 미만이면 불합격이라고 정했습니다. \n",
    "    다음 코드를 완성하여 합격이면 True, 불합격이면 False가 출력되게 만드세요.\n",
    "</p> \n",
    "\n",
    "<p><font color=\"black\"> \n",
    "< 입력 >       \n",
    "Korean = 92    \n",
    "English = 47    \n",
    "Math = 86     \n",
    "Science = 81    \n",
    "    \n",
    "print(---(1)--- )   \n",
    "\n",
    "< 출력 >   \n",
    "\n",
    "``` >>> False ```\n",
    "</font></p></div>"
   ]
  },
  {
   "cell_type": "code",
   "execution_count": 20,
   "metadata": {},
   "outputs": [],
   "source": [
    "# 한과목이라도 50점 미만이면 불합격 \n",
    "Korean = 92    \n",
    "English = 47    \n",
    "Math = 86     \n",
    "Science = 50  "
   ]
  },
  {
   "cell_type": "code",
   "execution_count": 22,
   "metadata": {},
   "outputs": [
    {
     "data": {
      "text/plain": [
       "True"
      ]
     },
     "execution_count": 22,
     "metadata": {},
     "output_type": "execute_result"
    }
   ],
   "source": [
    "Science >= 50"
   ]
  },
  {
   "cell_type": "code",
   "execution_count": 19,
   "metadata": {},
   "outputs": [
    {
     "data": {
      "text/plain": [
       "False"
      ]
     },
     "execution_count": 19,
     "metadata": {},
     "output_type": "execute_result"
    }
   ],
   "source": [
    "# 한과목이라도 50점 미만이면 불합격  =  50점 이상이면 합격이라는 말 \n",
    "Korean >= 50 and English >= 50 and Math >= 50 and Science >= 50"
   ]
  },
  {
   "cell_type": "markdown",
   "metadata": {},
   "source": [
    "<div class=\"alert alert-danger\" role=\"alert\">\n",
    "  <h2 class=\"alert-heading\"><font color=\"black\"> 심사문제: 합격여부 구하기   </font></h2>\n",
    "<p>\n",
    "표준 입력은 국,영,수,과 점수가 입력됩니다. 국어는 90점 이상 영어는 80점 초과, 수학은 85점 초과, 과학은 80점 이상일때 합격이라고 정함 \n",
    "(한과목이라도 조건에 만족하지 않으면 불합격)다음 코드를 완성하여 합격이면 True, 불합격이면 False가 출력되게 만드세요(input에서 안내 문자열은 출력하지 않아도 된다.)\n",
    "</p>\n",
    "<표준 입력>     \n",
    "1. 90 81 86 80 >> Ture     \n",
    "2. 90 80 85 80 >> False     \n",
    "</div>"
   ]
  },
  {
   "cell_type": "code",
   "execution_count": null,
   "metadata": {},
   "outputs": [],
   "source": []
  },
  {
   "cell_type": "markdown",
   "metadata": {},
   "source": [
    "# 문자열 사용하기 \n",
    "- 단어 \n",
    "    - ''\n",
    "    - \"\"\n",
    "- 문장 \n",
    "    - ''''''     \n",
    "    - \"\"\"\"\"\"\n",
    "    \n",
    "- 한글 문자열 출력안될때는 => utf- 8로 저장이 안되어 있어서 그럼 \n"
   ]
  },
  {
   "cell_type": "markdown",
   "metadata": {},
   "source": [
    "# 리스트와 튜플 사용하기 \n",
    "\n",
    "- 리스트 \n",
    "    - 리스트 = [값1, 값2 ,값3,.... ]      \n",
    "    \n",
    "        -  리스트에 여러 자료형 저장할수 있다.\n",
    "        - 빈 리스트 => 리스트 = [] , 리스트 = list() 생성 가능 \n",
    "            - 빈리스트는 쓸모는 없어 보이지만 보통 빈리스트를 만들어 값을 추가하는 방식으로 사용 \n",
    "        - range 를 사용하여 리스트 만들기 \n",
    "            - range는 연속된 숫자를 생성 \n",
    "                => 리스트 = list(range(횟수))       \n",
    "                => 리스트 = list(range(시작 , 끝))  -> 시작과 끝인데(시작 , 끝-1)     \n",
    "                => 리스트 = list(range(시작 , 끝, 증가폭)) -> 해당 값을 증가하면서 숫자를 생성     \n",
    "            \n",
    "            \n",
    "- 튜플 \n",
    "    - 튜플 = (값1, 값2 ,값3,....)\n",
    "    \n",
    "    - 튜플 = 값1, 값2 ,값3,....     \n",
    "        => 괄호로 묶지 않아도 값만 콤마로 구분해도 튜플     \n",
    "        - 리스트처럼 값을 일렬로 저장 => 안에 저장된 요소를 변경, 추가, 삭제를 할 수 없다.      \n",
    "            => 쉽게 말해 **읽기 전용 리스트** \n",
    "        - 리스트처럼 여러 자료형 저장할수 있다.\n",
    "        - **보통 튜플은 요소가 변경되지 않고 유디 되어야 할 때 사용됨**\n",
    "        - 잦은 요소 변경은 리스트로 사용!!\n",
    "        - 요소가 하나만 든 튜플은     \n",
    "            => 튜플 = (값,), 튜플 = 값,    "
   ]
  },
  {
   "cell_type": "code",
   "execution_count": 24,
   "metadata": {},
   "outputs": [
    {
     "data": {
      "text/plain": [
       "[1, 2, 3, 4, 5, 6, 7, 8, 9]"
      ]
     },
     "execution_count": 24,
     "metadata": {},
     "output_type": "execute_result"
    }
   ],
   "source": [
    "# 리스트 패킹 \n",
    "a = list(range(1,10))\n",
    "a"
   ]
  },
  {
   "cell_type": "code",
   "execution_count": 25,
   "metadata": {},
   "outputs": [
    {
     "data": {
      "text/plain": [
       "[5, 6, 7, 8, 9, 10, 11]"
      ]
     },
     "execution_count": 25,
     "metadata": {},
     "output_type": "execute_result"
    }
   ],
   "source": [
    "b = list(range(5,12)) #  시작과 끝인데(시작 , 끝-1 )\n",
    "b"
   ]
  },
  {
   "cell_type": "code",
   "execution_count": 28,
   "metadata": {},
   "outputs": [
    {
     "data": {
      "text/plain": [
       "[-4, -2, 0, 2, 4, 6, 8]"
      ]
     },
     "execution_count": 28,
     "metadata": {},
     "output_type": "execute_result"
    }
   ],
   "source": [
    "# 증가 폭을 사용하는 방법 => range()증가 폭을 지정하면  해당 값을 증가하면서 숫자를 생성 \n",
    "c = list(range(-4,10,2))\n",
    "c"
   ]
  },
  {
   "cell_type": "code",
   "execution_count": 29,
   "metadata": {},
   "outputs": [
    {
     "data": {
      "text/plain": [
       "[10, 9, 8, 7, 6, 5, 4, 3, 2, 1]"
      ]
     },
     "execution_count": 29,
     "metadata": {},
     "output_type": "execute_result"
    }
   ],
   "source": [
    "# 10부터 1씩 감소하며 0은 포함 되지 않는다 그래서 1까지 생성된다. \n",
    "d = list(range(10, 0, -1))\n",
    "d "
   ]
  },
  {
   "cell_type": "code",
   "execution_count": null,
   "metadata": {},
   "outputs": [],
   "source": [
    "# 튜플 패킹"
   ]
  },
  {
   "cell_type": "code",
   "execution_count": 31,
   "metadata": {},
   "outputs": [
    {
     "data": {
      "text/plain": [
       "(1, 2, 3, 4, 5)"
      ]
     },
     "execution_count": 31,
     "metadata": {},
     "output_type": "execute_result"
    }
   ],
   "source": [
    "a = 1,2,3,4,5 \n",
    "a"
   ]
  },
  {
   "cell_type": "code",
   "execution_count": 32,
   "metadata": {},
   "outputs": [
    {
     "data": {
      "text/plain": [
       "(1, 2, 3, 4, 5)"
      ]
     },
     "execution_count": 32,
     "metadata": {},
     "output_type": "execute_result"
    }
   ],
   "source": [
    "b = (1, 2, 3, 4, 5)\n",
    "b"
   ]
  },
  {
   "cell_type": "code",
   "execution_count": null,
   "metadata": {},
   "outputs": [],
   "source": [
    "# 요소가 하나만 든 튜플은 => 튜플 = (값,), 튜플 = 값,  \n",
    "# 값이 한개인 튜플이 필요한 이유 \n",
    "# => 함수를 사용하다 보면 값이 아닌 튜플을 넣어야 하는 경우가 발생 \n",
    "# => 이때 값은 한개지만 튜플을 넣을때 (값,)과 같은 형식으로 사용  "
   ]
  },
  {
   "cell_type": "code",
   "execution_count": 34,
   "metadata": {},
   "outputs": [
    {
     "data": {
      "text/plain": [
       "(0, 1, 2, 3, 4, 5, 6, 7, 8, 9)"
      ]
     },
     "execution_count": 34,
     "metadata": {},
     "output_type": "execute_result"
    }
   ],
   "source": [
    "# range를 이용해 튜플 생성하기\n",
    "a = tuple(range(10))\n",
    "a"
   ]
  },
  {
   "cell_type": "code",
   "execution_count": 35,
   "metadata": {},
   "outputs": [],
   "source": [
    "b = tuple(range(10))       \n",
    "c = tuple(range(1 , 10))     #-> 시작과 끝인데(시작 , 끝-1)     \n",
    "d = tuple(range(10 , 0, -1)) #-> 해당 값을 증가하면서 숫자를 생성 "
   ]
  },
  {
   "cell_type": "code",
   "execution_count": 37,
   "metadata": {},
   "outputs": [
    {
     "name": "stdout",
     "output_type": "stream",
     "text": [
      "(0, 1, 2, 3, 4, 5, 6, 7, 8, 9) (1, 2, 3, 4, 5, 6, 7, 8, 9) (10, 9, 8, 7, 6, 5, 4, 3, 2, 1)\n"
     ]
    }
   ],
   "source": [
    "print(b,c,d)"
   ]
  },
  {
   "cell_type": "code",
   "execution_count": 38,
   "metadata": {},
   "outputs": [
    {
     "data": {
      "text/plain": [
       "(1, 2, 3, 4)"
      ]
     },
     "execution_count": 38,
     "metadata": {},
     "output_type": "execute_result"
    }
   ],
   "source": [
    "# 튜플을 리스트로 만들고 리스트를 튜플로 만들기 -1\n",
    "a = [1,2,3,4]\n",
    "tuple(a)"
   ]
  },
  {
   "cell_type": "code",
   "execution_count": 40,
   "metadata": {},
   "outputs": [
    {
     "data": {
      "text/plain": [
       "[5, 6, 7, 8]"
      ]
     },
     "execution_count": 40,
     "metadata": {},
     "output_type": "execute_result"
    }
   ],
   "source": [
    "# 튜플을 리스트로 만들고 리스트를 튜플로 만들기 -2\n",
    "b = (5,6,7,8)\n",
    "list(b)"
   ]
  },
  {
   "cell_type": "code",
   "execution_count": 41,
   "metadata": {},
   "outputs": [
    {
     "data": {
      "text/plain": [
       "(['h', 'e', 'l', 'l', 'o'], ('h', 'e', 'l', 'l', 'o'))"
      ]
     },
     "execution_count": 41,
     "metadata": {},
     "output_type": "execute_result"
    }
   ],
   "source": [
    "# 리스트와 튜플안에 문자열을 넣으면 => 문자 리스트, 문자 튜플이 생성 \n",
    "list('hello'),tuple('hello')\n",
    "# 문자열 'hello'가 문자 하나하나가 리스트의 요소로 들어가서 문해된 형태로 출력이 된다."
   ]
  },
  {
   "cell_type": "code",
   "execution_count": 43,
   "metadata": {},
   "outputs": [
    {
     "name": "stdout",
     "output_type": "stream",
     "text": [
      "1 2 3\n",
      "5 6 7\n"
     ]
    }
   ],
   "source": [
    "# 리스트와 튜플로 변수만들기 \n",
    "a,b,c = [1,2,3]\n",
    "print(a,b,c)\n",
    "d,e,f = (5,6,7)\n",
    "print(d,e,f)"
   ]
  },
  {
   "cell_type": "code",
   "execution_count": 48,
   "metadata": {
    "scrolled": true
   },
   "outputs": [
    {
     "name": "stdout",
     "output_type": "stream",
     "text": [
      "1 2 3\n",
      "=====\n",
      "5 6 7\n"
     ]
    }
   ],
   "source": [
    "# 리스트와 튜플 변수로 변수여러개를 만들 수 있음 \n",
    "# 다음과 같이 리스트와 변수 여러개에 할당하는 것을 리스트 언패킹(list unpacking), 튜플언페킹이라고 함(tuple unpacking)\n",
    "\n",
    "x = [1,2,3]\n",
    "a,b,c = x\n",
    "print(a,b,c)\n",
    "\n",
    "print('='*5)\n",
    "\n",
    "y = (5,6,7)\n",
    "d,e,f = y\n",
    "print(d,e,f)"
   ]
  },
  {
   "cell_type": "markdown",
   "metadata": {},
   "source": [
    "<div class=\"alert alert-success\" role=\"alert\">\n",
    "  <h2 class=\"alert-heading\"><font color=\"black\">  연습문제7 : range로 리스트 만들기  </font></h2>\n",
    "<p>\n",
    "다음 소스 코드를 완성하여 리스트 [5, 3, 1, -1, -3, -5, -7, -9]가 출력되게 만드세요. 리스트를 만들 때는 range를 사용해야 합니다.\n",
    "</p> \n",
    "\n",
    "<p><font color=\"black\"> \n",
    "< 입력 >       \n",
    "a = 문법    \n",
    "print(a)    \n",
    "\n",
    "< 출력 >   \n",
    "\n",
    "``` >>> [5, 3, 1, -1, -3, -5, -7, -9] ```\n",
    "</font></p></div>"
   ]
  },
  {
   "cell_type": "code",
   "execution_count": null,
   "metadata": {},
   "outputs": [],
   "source": []
  },
  {
   "cell_type": "markdown",
   "metadata": {},
   "source": [
    "<div class=\"alert alert-danger\" role=\"alert\">\n",
    "  <h2 class=\"alert-heading\"><font color=\"black\"> 심사문제: range로 리스트 만들기 </font></h2>\n",
    "<p>\n",
    "표준 입력은 정수가  입력됩니다. 시작숫자는 -10, 끝나는 숫자는 10 입력된 정수만큼 증가하는 숫자가 들어가도록 튜플을 만들고, 해당 튜플을 출력하는 프로그램을 만드세요 (input에서 안내 문자열은 제외)\n",
    "</p>\n",
    "<표준 입력>     \n",
    "1. 2    \n",
    "2. 3     \n",
    "<표준 출력>     \n",
    "1. (-10,-8,-6,-4,-2,0,2,4,6,8)       \n",
    "2. (-10,-7,-4,-1,2,5,8)      \n",
    "</div>"
   ]
  },
  {
   "cell_type": "markdown",
   "metadata": {},
   "source": [
    "# 시퀸즈 자료형 활용하기 \n",
    "- 리스트 , 튜플 , range, 문자열 => 연속성(sequence)을 가짐 \n",
    "- 시퀸즈 자료형 => ( 리스트 , 튜플 , range, 문자열)\n",
    "- 시퀸즈 자료형의 공통기능 사용 \n",
    "    - 시퀸스 자료형의 큰 특징을 공통동작과 기능을 제공 \n",
    "    - 시퀸즈 자료형으로 만든 객체를 시퀴즈 객체라고 함 => 각 값을 요소라고 칭 함 \n",
    "    - 특정 값을 확인 \n",
    "        => 값 in 시퀸즈 객체\n",
    "        => 값 not in 시퀸즈 객체\n",
    "        => 값 in range(값)\n",
    "    - 시퀸즈 객채 연결하기 \n",
    "        - 시퀸즈 객체 1 + 시퀸즈 객체 2  \n",
    "        - **range는 + , \\* 연산자로 객체를 연결 할 수 없다.** \n",
    "            - 근데!  리스트, 튜플로 묶어서 연결하면 가능 => 아래 예시 참조\n",
    "     - 시퀸즈 객체 반복 \n",
    "         - 시퀸즈 객체 * 정수\n",
    "         - 정수 * 시퀸즈 객체 \n",
    "     - 시퀸즈 요소 개수 구하기 \n",
    "         - len(시퀸즈 객체)\n",
    "             -> 리스트, 튜플, 문자열도 마찬가지로 길이를 구할 수 있다. \n",
    "             - range의 숫자 생성 개수 구하기 =>len(range( 값 ))"
   ]
  },
  {
   "cell_type": "code",
   "execution_count": 49,
   "metadata": {},
   "outputs": [
    {
     "data": {
      "text/plain": [
       "[1, 2, 3, 6, 7, 8]"
      ]
     },
     "execution_count": 49,
     "metadata": {},
     "output_type": "execute_result"
    }
   ],
   "source": [
    "# 시퀸즈 객채 연결하기 -> 시퀸즈 객체 1 + 시퀸즈 객체 2  \n",
    "a  = [1,2,3]\n",
    "b  = [6,7,8]\n",
    "a + b"
   ]
  },
  {
   "cell_type": "code",
   "execution_count": 50,
   "metadata": {},
   "outputs": [
    {
     "data": {
      "text/plain": [
       "[0, 1, 2, 3, 4, 6, 7, 8, 9, 10, 11]"
      ]
     },
     "execution_count": 50,
     "metadata": {},
     "output_type": "execute_result"
    }
   ],
   "source": [
    "# 이렇게\n",
    "list(range(0,5))+list(range(6,12))"
   ]
  },
  {
   "cell_type": "code",
   "execution_count": 51,
   "metadata": {},
   "outputs": [
    {
     "data": {
      "text/plain": [
       "[1, 2, 3, 1, 2, 3, 1, 2, 3, 1, 2, 3, 1, 2, 3]"
      ]
     },
     "execution_count": 51,
     "metadata": {},
     "output_type": "execute_result"
    }
   ],
   "source": [
    "# 시퀸즈 객체 반복 \n",
    "[1,2,3] *5"
   ]
  },
  {
   "cell_type": "code",
   "execution_count": 53,
   "metadata": {},
   "outputs": [
    {
     "data": {
      "text/plain": [
       "3"
      ]
     },
     "execution_count": 53,
     "metadata": {},
     "output_type": "execute_result"
    }
   ],
   "source": [
    "# 시퀸즈 요소 개수 구하기  -> 리스트 튜플도 구해짐 \n",
    "a  = [1,2,3]\n",
    "len(a)"
   ]
  },
  {
   "cell_type": "code",
   "execution_count": 54,
   "metadata": {},
   "outputs": [
    {
     "data": {
      "text/plain": [
       "5"
      ]
     },
     "execution_count": 54,
     "metadata": {},
     "output_type": "execute_result"
    }
   ],
   "source": [
    "# range의 숫자 생성 개수 구하기 \n",
    "len(range(0,10,2))"
   ]
  },
  {
   "cell_type": "code",
   "execution_count": null,
   "metadata": {},
   "outputs": [],
   "source": []
  }
 ],
 "metadata": {
  "kernelspec": {
   "display_name": "Python 3",
   "language": "python",
   "name": "python3"
  },
  "language_info": {
   "codemirror_mode": {
    "name": "ipython",
    "version": 3
   },
   "file_extension": ".py",
   "mimetype": "text/x-python",
   "name": "python",
   "nbconvert_exporter": "python",
   "pygments_lexer": "ipython3",
   "version": "3.6.5"
  }
 },
 "nbformat": 4,
 "nbformat_minor": 2
}
