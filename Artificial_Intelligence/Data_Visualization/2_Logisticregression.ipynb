{
 "cells": [
  {
   "cell_type": "markdown",
   "metadata": {},
   "source": [
    "# 로지스틱 회귀 하이퍼 파라미터 튜닝 "
   ]
  },
  {
   "cell_type": "markdown",
   "metadata": {},
   "source": [
    "---"
   ]
  },
  {
   "cell_type": "markdown",
   "metadata": {},
   "source": [
    "## 로지스틱 회귀 파라미터 -> C\n",
    "\n",
    "**C**값이 클수록 모델은 지도 데이터를 완전히 분류하라 수있는 식별 경계선을 학습\n",
    "scikit-learn 로지스틱 회귀 C 기본값 1.0이다.\n",
    "\n",
    "## 로지스틱 회귀 파라미터 -> penalty\n",
    "\n",
    "**penalty**는 모델의 복잡성에 대한 패널티 L1, L2\n",
    "- L1 : 데이터의 특징량을 중심으로 실별 경계선의 일반화를 도모\n",
    "- L2 : 데이터 전체의 가중치를 줄임으로써 식별 경계선의 일반화를 도모\n",
    "\n",
    "## 로지스틱 회귀 파라미터 -> mult_class\n",
    "\n",
    "**mult_class** 는 다항 분류에서 모델의 동작을 결정\n",
    "- ovr : 클래스에 대해 '속하는/속하지 않는' 두 값으로 답하는 문제에 적합하다. \n",
    "- multnormail : 각 클래스로 분류될 확률도 고려되어 '속하는/속하지않는' 그리고 '속할 가능성이 얼마인가' 를 다루는 문제에 적합.\n",
    "\n",
    "## 로지스틱 회귀 파라미터 -> random_state\n",
    "\n",
    "모델은 학습시 데이터를 임의의 순서로 처리해 나간다.   \n",
    "그리고 **random_state** 는 그 순서를 제어\n",
    "로지스틱 회귀 모델은 처리 순서 때문에 경계선이 변경되는 경우가 있다.\n",
    "random_state 값을 고정시켜 동일한 학습 결과를 보전할 경우."
   ]
  },
  {
   "cell_type": "code",
   "execution_count": 18,
   "metadata": {},
   "outputs": [],
   "source": [
    "import matplotlib.pyplot as plt \n",
    "\n",
    "# sklearn\n",
    "from sklearn import preprocessing\n",
    "from sklearn.linear_model import LogisticRegression\n",
    "from sklearn.datasets import make_classification\n",
    "from sklearn.model_selection import train_test_split\n",
    "%matplotlib inline"
   ]
  },
  {
   "cell_type": "code",
   "execution_count": 19,
   "metadata": {},
   "outputs": [],
   "source": [
    "# 데이터 생성 -1 \n",
    "X, y = make_classification(\n",
    "                        n_samples= 1250, n_features=4, \n",
    "                        n_informative=2, n_redundant=2, \n",
    "                        random_state=42\n",
    "                        )\n",
    "# 데이터 생성 -2 \n",
    "train_X, test_X, train_y, test_y = train_test_split(X, y, random_state = 42)"
   ]
  },
  {
   "cell_type": "code",
   "execution_count": 33,
   "metadata": {},
   "outputs": [
    {
     "name": "stdout",
     "output_type": "stream",
     "text": [
      "[[-0.81455417  0.88143187 -1.09546086 -1.22309015]\n",
      " [-1.07499797 -1.71767614 -1.40258857 -0.73732044]\n",
      " [ 0.63291613  1.04880568  0.82522693  0.42268967]\n",
      " ...\n",
      " [ 0.25362208 -1.52023728  0.35973771  0.75999282]\n",
      " [-0.66087654  1.01283219 -0.89324306 -1.08294241]\n",
      " [ 0.91391116 -0.88899824  1.22758564  1.34185908]] [0 0 1 0 1 1 0 0 0 0 1 1 1 1 1 0 0 0 0 1 0 1 0 0 0 1 0 1 0 1 0 1 1 0 1 0 1\n",
      " 0 0 0 0 0 1 1 1 0 0 0 1 1 0 0 1 1 0 0 0 0 0 1 0 1 1 1 1 1 0 1 0 1 0 0 0 1\n",
      " 1 0 0 0 0 1 1 0 1 0 1 0 0 0 0 1 1 1 0 0 1 1 0 1 1 1 1 0 0 0 1 1 0 1 0 0 1\n",
      " 1 0 0 1 1 0 0 1 1 1 0 1 1 0 1 0 0 1 0 1 1 0 0 0 1 0 0 1 1 1 0 1 1 1 0 1 1\n",
      " 1 1 1 1 1 1 0 0 0 1 0 1 1 1 1 1 0 1 0 0 0 1 1 1 1 1 0 1 1 0 0 1 1 0 0 0 0\n",
      " 0 1 1 1 1 0 0 0 0 1 0 1 1 1 0 0 0 1 1 1 0 1 1 0 0 0 1 1 0 0 1 1 0 0 0 1 0\n",
      " 1 0 0 1 1 0 0 1 1 0 0 1 1 1 1 0 1 0 1 0 0 0 1 1 0 0 1 1 0 1 1 0 1 0 1 1 1\n",
      " 0 1 0 0 1 1 1 0 0 1 0 0 1 1 1 1 0 0 1 0 0 1 0 0 1 1 0 1 1 1 0 1 0 1 1 0 0\n",
      " 0 0 0 1 0 1 1 1 0 0 1 0 0 0 0 1 1 1 1 0 1 1 0 0 1 1 0 1 1 1 1 0 1 1 0 0 1\n",
      " 0 1 1 0 0 1 1 0 0 1 0 0 0 0 1 0 1 0 1 1 1 1 1 0 0 1 0 0 1 0 0 1 0 1 1 0 1\n",
      " 1 0 1 1 0 1 0 0 0 0 1 0 1 0 0 1 1 0 0 0 0 1 0 0 0 1 0 1 0 1 0 0 1 1 0 1 0\n",
      " 0 1 1 1 1 1 1 1 1 1 0 0 0 1 0 1 1 1 1 0 0 1 1 0 1 1 1 0 0 1 1 0 1 1 1 1 1\n",
      " 1 1 0 1 0 1 1 1 1 0 0 0 1 1 1 0 0 0 0 1 1 0 1 0 0 1 1 0 1 0 0 1 0 0 0 1 0\n",
      " 0 0 0 0 0 1 0 0 0 0 0 0 1 1 1 0 0 1 1 0 1 0 0 0 0 0 1 0 1 0 0 0 0 0 1 0 1\n",
      " 0 1 1 0 1 0 1 1 0 0 0 0 1 1 1 1 1 1 1 0 1 0 0 0 1 1 1 1 0 1 0 1 1 1 0 1 1\n",
      " 1 0 0 1 0 1 0 1 1 0 0 0 0 0 1 1 0 1 0 0 1 0 0 0 1 0 0 0 1 0 1 0 1 0 1 1 1\n",
      " 0 1 0 0 0 1 1 0 1 1 1 0 0 1 0 1 0 1 0 0 0 0 1 0 1 0 0 0 0 0 0 1 1 1 1 1 1\n",
      " 1 1 1 1 0 0 1 0 1 1 0 1 0 0 1 0 0 0 1 1 0 0 1 1 0 0 0 0 0 1 1 1 0 0 0 1 1\n",
      " 1 1 1 1 0 1 0 1 1 1 1 1 0 0 0 1 1 0 1 1 0 0 1 1 0 0 1 0 1 0 0 1 1 1 0 0 0\n",
      " 0 0 0 1 1 1 1 1 1 0 1 1 1 0 0 1 0 1 0 0 0 0 0 0 0 0 0 0 0 1 0 0 0 0 0 0 0\n",
      " 1 0 0 1 1 1 0 0 0 0 1 1 0 1 0 0 1 0 1 1 0 0 0 1 0 1 0 1 0 0 1 1 0 1 1 0 0\n",
      " 0 0 1 1 0 1 1 0 1 1 1 0 1 1 0 0 1 1 1 0 1 1 1 1 0 0 0 1 1 0 0 0 0 0 0 1 0\n",
      " 1 1 0 0 0 0 0 0 1 1 0 0 1 1 1 0 1 1 0 1 0 1 1 0 0 0 1 0 0 1 1 0 1 0 1 1 0\n",
      " 0 1 0 0 1 0 0 0 1 1 1 0 1 1 0 0 0 1 1 1 1 0 1 1 0 0 1 0 1 0 0 1 1 0 0 0 0\n",
      " 0 0 1 0 1 0 0 1 0 1 0 0 0 1 1 1 1 1 1 1 1 0 0 0 1 0 0 1 0 0 1 1 0 0 0 1 1\n",
      " 0 1 1 1 1 1 1 1 0 1 0 1]\n"
     ]
    }
   ],
   "source": [
    "print(train_X,train_y)"
   ]
  },
  {
   "cell_type": "code",
   "execution_count": 34,
   "metadata": {
    "scrolled": true
   },
   "outputs": [
    {
     "name": "stdout",
     "output_type": "stream",
     "text": [
      "[[-0.79163596  0.98533855 -1.06656604 -1.22785037]\n",
      " [-0.19730452  1.87683097 -0.29024974 -0.80250993]\n",
      " [-0.94796607 -1.45258387 -1.23777544 -0.66909708]\n",
      " ...\n",
      " [-0.53311695 -0.46699238 -0.70133866 -0.48278528]\n",
      " [ 0.76636587  0.99149775  1.00339406  0.59656134]\n",
      " [-0.24130232  0.20550366 -0.32368511 -0.34540089]] [0 0 0 0 0 1 0 0 0 1 1 0 0 0 0 0 1 1 0 1 1 1 1 1 0 1 1 1 0 1 1 0 1 0 1 0 0\n",
      " 1 1 0 1 1 1 1 1 1 0 1 1 1 1 1 1 0 0 1 0 1 1 1 1 1 0 0 0 1 0 0 0 0 1 1 0 0\n",
      " 1 1 1 0 1 1 0 0 0 1 0 0 0 0 0 1 1 0 0 1 1 0 1 1 1 1 1 1 0 0 0 1 1 1 1 0 0\n",
      " 1 1 1 1 1 1 1 1 0 0 0 0 1 1 1 0 0 0 1 1 1 1 1 0 0 0 1 0 0 1 1 1 1 1 0 0 1\n",
      " 0 0 0 0 1 0 1 0 0 1 1 1 1 1 1 0 0 0 0 0 1 1 0 0 0 1 1 1 0 0 1 0 0 0 1 1 0\n",
      " 0 0 1 0 1 0 0 1 1 0 0 0 0 0 0 0 1 1 1 1 1 0 1 1 0 0 1 1 1 1 1 0 1 1 0 1 1\n",
      " 1 0 0 0 1 0 1 1 1 0 1 1 1 1 0 1 1 1 0 1 0 0 0 0 0 1 1 1 0 0 0 0 0 0 0 1 0\n",
      " 1 0 0 1 1 1 1 0 1 1 0 1 1 1 1 0 0 1 0 0 1 0 0 0 1 1 0 0 0 0 0 1 0 1 0 1 1\n",
      " 1 0 0 0 0 1 1 1 0 1 0 0 0 1 0 1 0]\n"
     ]
    }
   ],
   "source": [
    "print(test_X, test_y )"
   ]
  },
  {
   "cell_type": "code",
   "execution_count": 20,
   "metadata": {},
   "outputs": [],
   "source": [
    "# # 데이터 생성 -2 \n",
    "# train_X, test_X, train_y, test_y = train_test_split(X, y, random_state = 42)"
   ]
  },
  {
   "cell_type": "code",
   "execution_count": 21,
   "metadata": {},
   "outputs": [
    {
     "data": {
      "text/plain": [
       "[1e-05, 0.0001, 0.001, 0.01, 0.1, 1, 10, 100, 1000, 10000]"
      ]
     },
     "execution_count": 21,
     "metadata": {},
     "output_type": "execute_result"
    }
   ],
   "source": [
    "# C값의 범위를 설정(0.00001 ~ 10000) \n",
    "C_list = [10 **i for i in range(-5, 5)]\n",
    "C_list"
   ]
  },
  {
   "cell_type": "code",
   "execution_count": 22,
   "metadata": {},
   "outputs": [],
   "source": [
    "# 그래프 작성용 빈 리스트 선언 \n",
    "train_accuracy = []\n",
    "test_accuracy  = []"
   ]
  },
  {
   "cell_type": "code",
   "execution_count": null,
   "metadata": {},
   "outputs": [],
   "source": [
    "# 여기가 문제 "
   ]
  },
  {
   "cell_type": "code",
   "execution_count": 23,
   "metadata": {},
   "outputs": [],
   "source": [
    "for c in C_list:\n",
    "    model = LogisticRegression(C=c, random_state=42) # 이게문제인것같아 \n",
    "    model.fit(train_X, train_y)\n",
    "    print('train_score >>> ', model.score(train_X, train_y))\n",
    "    print('test_score >>> ',  model.score(test_X, test_y))\n",
    "    \n",
    "    train_accuracy.append(model.score(train_X, train_y))\n",
    "    test_accuracy.append(model.score(test_X, test_y))"
   ]
  },
  {
   "cell_type": "code",
   "execution_count": 31,
   "metadata": {},
   "outputs": [
    {
     "data": {
      "text/plain": [
       "([0.6232657417289221,\n",
       "  0.9295624332977588,\n",
       "  0.9295624332977588,\n",
       "  0.927427961579509,\n",
       "  0.9306296691568837,\n",
       "  0.9306296691568837,\n",
       "  0.9306296691568837,\n",
       "  0.9306296691568837,\n",
       "  0.9306296691568837,\n",
       "  0.9306296691568837],\n",
       " 10)"
      ]
     },
     "execution_count": 31,
     "metadata": {},
     "output_type": "execute_result"
    }
   ],
   "source": [
    "train_accuracy, len(train_accuracy)"
   ]
  },
  {
   "cell_type": "code",
   "execution_count": 25,
   "metadata": {},
   "outputs": [
    {
     "data": {
      "text/plain": [
       "[0.5942492012779552,\n",
       " 0.9329073482428115,\n",
       " 0.9297124600638977,\n",
       " 0.9201277955271565,\n",
       " 0.9265175718849841,\n",
       " 0.9265175718849841,\n",
       " 0.9265175718849841,\n",
       " 0.9265175718849841,\n",
       " 0.9265175718849841,\n",
       " 0.9265175718849841]"
      ]
     },
     "execution_count": 25,
     "metadata": {},
     "output_type": "execute_result"
    }
   ],
   "source": [
    "test_accuracy"
   ]
  },
  {
   "cell_type": "markdown",
   "metadata": {},
   "source": [
    "# 정확도 시각화 \n",
    "\n",
    "- semilogx()\n",
    "    - x 축을 로그 스케일로 표시 할 때 사용\n",
    "    - x의 스케일을 10의 x승 스케일로 변경"
   ]
  },
  {
   "cell_type": "code",
   "execution_count": 26,
   "metadata": {
    "scrolled": false
   },
   "outputs": [],
   "source": [
    "# train_accuracy= train_accuracy[1:]"
   ]
  },
  {
   "cell_type": "code",
   "execution_count": 27,
   "metadata": {},
   "outputs": [],
   "source": [
    "# test_accuracy= test_accuracy[1:]"
   ]
  },
  {
   "cell_type": "code",
   "execution_count": 28,
   "metadata": {
    "scrolled": true
   },
   "outputs": [
    {
     "data": {
      "text/plain": [
       "[<matplotlib.lines.Line2D at 0x13e0ed10f28>]"
      ]
     },
     "execution_count": 28,
     "metadata": {},
     "output_type": "execute_result"
    },
    {
     "data": {
      "image/png": "[encoded data removed]",
      "text/plain": [
       "<Figure size 432x288 with 1 Axes>"
      ]
     },
     "metadata": {
      "needs_background": "light"
     },
     "output_type": "display_data"
    }
   ],
   "source": [
    "plt.semilogx(C_list, train_accuracy, label='accuracy of train_data')"
   ]
  },
  {
   "cell_type": "code",
   "execution_count": 29,
   "metadata": {},
   "outputs": [
    {
     "data": {
      "text/plain": [
       "[<matplotlib.lines.Line2D at 0x13e0f1001d0>]"
      ]
     },
     "execution_count": 29,
     "metadata": {},
     "output_type": "execute_result"
    },
    {
     "data": {
      "image/png": "[encoded data removed]",
      "text/plain": [
       "<Figure size 432x288 with 1 Axes>"
      ]
     },
     "metadata": {
      "needs_background": "light"
     },
     "output_type": "display_data"
    }
   ],
   "source": [
    "plt.semilogx(C_list, test_accuracy, label='accuracy of test_data')"
   ]
  },
  {
   "cell_type": "code",
   "execution_count": 35,
   "metadata": {},
   "outputs": [
    {
     "data": {
      "image/png": "[encoded data removed]",
      "text/plain": [
       "<Figure size 432x288 with 1 Axes>"
      ]
     },
     "metadata": {
      "needs_background": "light"
     },
     "output_type": "display_data"
    }
   ],
   "source": [
    "# 정확도 시각화\n",
    "# semilogx()는 x의 스케일을 10의 x승 스케일로 변경\n",
    "plt.semilogx(C_list, train_accuracy, label='accuracy of train_data')\n",
    "plt.semilogx(C_list, test_accuracy, label='accuracy of test_data')\n",
    "plt.title('accuracy by changing C')\n",
    "plt.xlabel('C')\n",
    "plt.ylabel('accuracy')\n",
    "plt.legend()\n",
    "plt.show()"
   ]
  },
  {
   "cell_type": "code",
   "execution_count": 30,
   "metadata": {},
   "outputs": [
    {
     "data": {
      "image/png": "[encoded data removed]",
      "text/plain": [
       "<Figure size 432x288 with 1 Axes>"
      ]
     },
     "metadata": {
      "needs_background": "light"
     },
     "output_type": "display_data"
    }
   ],
   "source": [
    "plt.semilogx(C_list[1:], train_accuracy[1:], label='accuracy of train_data')\n",
    "plt.semilogx(C_list[1:], test_accuracy[1:], label='accuracy of test_data')\n",
    "plt.title('accuracy by changing C')\n",
    "plt.xlabel('C')\n",
    "plt.ylabel('accuracy')\n",
    "plt.legend()\n",
    "plt.show()"
   ]
  },
  {
   "cell_type": "code",
   "execution_count": null,
   "metadata": {},
   "outputs": [],
   "source": []
  }
 ],
 "metadata": {
  "kernelspec": {
   "display_name": "Python 3",
   "language": "python",
   "name": "python3"
  },
  "language_info": {
   "codemirror_mode": {
    "name": "ipython",
    "version": 3
   },
   "file_extension": ".py",
   "mimetype": "text/x-python",
   "name": "python",
   "nbconvert_exporter": "python",
   "pygments_lexer": "ipython3",
   "version": "3.6.5"
  }
 },
 "nbformat": 4,
 "nbformat_minor": 4
}
