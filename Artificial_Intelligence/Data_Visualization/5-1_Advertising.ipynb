{
 "cells": [
  {
   "cell_type": "markdown",
   "metadata": {},
   "source": [
    "# Domain Knowledge : 온라인 광고 KPI - 1 "
   ]
  },
  {
   "cell_type": "code",
   "execution_count": 39,
   "metadata": {},
   "outputs": [],
   "source": [
    "import pandas as pd \n",
    "from pandas import DataFrame\n",
    "from pandas import Series\n",
    "\n",
    "import platform\n",
    "import matplotlib\n",
    "from matplotlib import font_manager, rc\n",
    "\n",
    "# 시각\n",
    "import matplotlib.pyplot as plt\n",
    "%matplotlib inline\n",
    "\n",
    "# 워닝 방지\n",
    "# ignore warnings\n",
    "import warnings\n",
    "warnings.filterwarnings('ignore')"
   ]
  },
  {
   "cell_type": "markdown",
   "metadata": {},
   "source": [
    "### 그래프 폰드 설정 옵션 "
   ]
  },
  {
   "cell_type": "code",
   "execution_count": 40,
   "metadata": {},
   "outputs": [],
   "source": [
    "try :\n",
    "    if platform.system() == 'Windows':\n",
    "        font_name = font_manager.FontProperties(fname=\"c:/Windows/Fonts/malgun.ttf\").get_name()\n",
    "        rc('font', family=font_name)\n",
    "    else:\n",
    "        rc('font', family='AppleGothic')\n",
    "except :\n",
    "    pass\n",
    "matplotlib.rcParams['axes.unicode_minus'] = False"
   ]
  },
  {
   "cell_type": "markdown",
   "metadata": {},
   "source": [
    "## 광고 KPI : 계산식\n",
    "\n",
    "- CTR(Click Through Rate) : 클릭수 / 노출수 * 100\n",
    "- CPM(Cost per Mile) : 광고비용 / 노출수 * 1000\n",
    "- CPC(Cost per Click) :  광고비용 /클릭수\n",
    "- CPA(Cost Per Action) : 광고비용 / 구매수"
   ]
  },
  {
   "cell_type": "code",
   "execution_count": 41,
   "metadata": {},
   "outputs": [],
   "source": [
    "imp  = 1000     # 노출\n",
    "clk  = 100      # 클릭 \n",
    "conv = 10       # 구매 \n",
    "cost = 100000   # 비용"
   ]
  },
  {
   "cell_type": "code",
   "execution_count": 42,
   "metadata": {},
   "outputs": [
    {
     "data": {
      "text/plain": [
       "10.0"
      ]
     },
     "execution_count": 42,
     "metadata": {},
     "output_type": "execute_result"
    }
   ],
   "source": [
    "# CRT(click through Rate) : 클릭수 / 노출수 * 100 \n",
    "crt = clk / imp * 100  # 클릭수 / 노출수 * 100 \n",
    "crt"
   ]
  },
  {
   "cell_type": "code",
   "execution_count": 43,
   "metadata": {},
   "outputs": [
    {
     "data": {
      "text/plain": [
       "100000.0"
      ]
     },
     "execution_count": 43,
     "metadata": {},
     "output_type": "execute_result"
    }
   ],
   "source": [
    "# CPM (cost Per Mile) : 광고 비용 / 노출수 * 1000\n",
    "cmp = cost / imp * 1000 # 광고 비용 / 노출수 * 1000\n",
    "cmp"
   ]
  },
  {
   "cell_type": "code",
   "execution_count": 44,
   "metadata": {},
   "outputs": [],
   "source": [
    "# CPA (Cost Per Action) : 광고비용 / 구매수\n",
    "cpa = cost / conv"
   ]
  },
  {
   "cell_type": "markdown",
   "metadata": {},
   "source": [
    "# 1. 데이터 불러오기  "
   ]
  },
  {
   "cell_type": "code",
   "execution_count": 45,
   "metadata": {},
   "outputs": [],
   "source": [
    "df = pd.read_excel('./input/네이버보고서.xls',skiprows=[0])\n",
    "\n",
    "# 사본만들기 \n",
    "df_naver = df.iloc[:,:]"
   ]
  },
  {
   "cell_type": "code",
   "execution_count": 53,
   "metadata": {},
   "outputs": [
    {
     "data": {
      "text/html": [
       "<div>\n",
       "<style scoped>\n",
       "    .dataframe tbody tr th:only-of-type {\n",
       "        vertical-align: middle;\n",
       "    }\n",
       "\n",
       "    .dataframe tbody tr th {\n",
       "        vertical-align: top;\n",
       "    }\n",
       "\n",
       "    .dataframe thead th {\n",
       "        text-align: right;\n",
       "    }\n",
       "</style>\n",
       "<table border=\"1\" class=\"dataframe\">\n",
       "  <thead>\n",
       "    <tr style=\"text-align: right;\">\n",
       "      <th></th>\n",
       "      <th>광고그룹</th>\n",
       "      <th>키워드</th>\n",
       "      <th>노출수</th>\n",
       "      <th>클릭수</th>\n",
       "      <th>클릭률(%)</th>\n",
       "      <th>평균클릭비용(VAT포함,원)</th>\n",
       "      <th>총비용(VAT포함,원)</th>\n",
       "    </tr>\n",
       "  </thead>\n",
       "  <tbody>\n",
       "    <tr>\n",
       "      <th>0</th>\n",
       "      <td>올인원 패키지 : 디자인 툴_파워컨텐츠_포토샵</td>\n",
       "      <td>-</td>\n",
       "      <td>2319456</td>\n",
       "      <td>9606.0</td>\n",
       "      <td>0.414149</td>\n",
       "      <td>261.549448</td>\n",
       "      <td>2512444</td>\n",
       "    </tr>\n",
       "  </tbody>\n",
       "</table>\n",
       "</div>"
      ],
      "text/plain": [
       "                        광고그룹 키워드      노출수     클릭수    클릭률(%)  평균클릭비용(VAT포함,원)  \\\n",
       "0  올인원 패키지 : 디자인 툴_파워컨텐츠_포토샵   -  2319456  9606.0  0.414149       261.549448   \n",
       "\n",
       "   총비용(VAT포함,원)  \n",
       "0       2512444  "
      ]
     },
     "execution_count": 53,
     "metadata": {},
     "output_type": "execute_result"
    }
   ],
   "source": [
    "df_naver.head(1)"
   ]
  },
  {
   "cell_type": "markdown",
   "metadata": {},
   "source": [
    "---\n",
    "\n",
    "```py\n",
    "(((df['노출수'].sort_values()/1000).reset_index()).drop('index', axis=1)).plot(figsize=[13, 5])\n",
    "\n",
    "# (\n",
    "#     (\n",
    "#         (\n",
    "#             df['노출수'].sort_values()/1000\n",
    "#         ).reset_index()\n",
    "#     ).drop('index', axis=1)\n",
    "# ).plot(figsize=[13, 5])\n",
    "plt.yticks([0, 2000, 4000, 6000, 8000, 10000],\n",
    "           [0, '2,000,000', '4,000,000', '6,000,000', '8,000,000', '10,000,000'])\n",
    "plt.title('노출수 plot', fontsize=20)\n",
    "plt.show()\n",
    "\n",
    "```\n",
    "\n",
    "---"
   ]
  },
  {
   "cell_type": "code",
   "execution_count": 47,
   "metadata": {
    "scrolled": true
   },
   "outputs": [
    {
     "data": {
      "text/plain": [
       "(      index       노출수\n",
       " 0      1057     1.001\n",
       " 1       445     1.003\n",
       " 2       597     1.005\n",
       " 3       983     1.006\n",
       " 4       442     1.007\n",
       " ...     ...       ...\n",
       " 1376     13  1470.452\n",
       " 1377      9  1887.822\n",
       " 1378      0  2319.456\n",
       " 1379    173  3095.998\n",
       " 1380      4  9626.374\n",
       " \n",
       " [1381 rows x 2 columns],\n",
       " <matplotlib.axes._subplots.AxesSubplot at 0x1c8629e6128>)"
      ]
     },
     "execution_count": 47,
     "metadata": {},
     "output_type": "execute_result"
    },
    {
     "data": {
      "image/png": "[encoded data removed]",
      "text/plain": [
       "<Figure size 432x288 with 1 Axes>"
      ]
     },
     "metadata": {
      "needs_background": "light"
     },
     "output_type": "display_data"
    }
   ],
   "source": [
    "sort_redata = df_naver['노출수'].sort_values()/1000\n",
    "redata = sort_redata.reset_index()\n",
    "redata , redata.plot()"
   ]
  },
  {
   "cell_type": "code",
   "execution_count": 48,
   "metadata": {
    "scrolled": true
   },
   "outputs": [
    {
     "data": {
      "text/plain": [
       "<matplotlib.axes._subplots.AxesSubplot at 0x1c8629c2860>"
      ]
     },
     "execution_count": 48,
     "metadata": {},
     "output_type": "execute_result"
    },
    {
     "data": {
      "image/png": "[encoded data removed]",
      "text/plain": [
       "<Figure size 432x288 with 1 Axes>"
      ]
     },
     "metadata": {
      "needs_background": "light"
     },
     "output_type": "display_data"
    }
   ],
   "source": [
    "redata = redata.drop('index', axis =1)\n",
    "redata.plot()"
   ]
  },
  {
   "cell_type": "code",
   "execution_count": 49,
   "metadata": {
    "scrolled": true
   },
   "outputs": [
    {
     "data": {
      "text/plain": [
       "<matplotlib.axes._subplots.AxesSubplot at 0x1c862a1c7f0>"
      ]
     },
     "execution_count": 49,
     "metadata": {},
     "output_type": "execute_result"
    },
    {
     "data": {
      "image/png": "[encoded data removed]",
      "text/plain": [
       "<Figure size 936x360 with 1 Axes>"
      ]
     },
     "metadata": {
      "needs_background": "light"
     },
     "output_type": "display_data"
    }
   ],
   "source": [
    "redata.plot(figsize=[13,5])"
   ]
  },
  {
   "cell_type": "code",
   "execution_count": 50,
   "metadata": {},
   "outputs": [
    {
     "data": {
      "text/plain": [
       "<matplotlib.axes._subplots.AxesSubplot at 0x1c862aad1d0>"
      ]
     },
     "execution_count": 50,
     "metadata": {},
     "output_type": "execute_result"
    },
    {
     "data": {
      "image/png": "[encoded data removed]",
      "text/plain": [
       "<Figure size 936x360 with 1 Axes>"
      ]
     },
     "metadata": {
      "needs_background": "light"
     },
     "output_type": "display_data"
    }
   ],
   "source": [
    "(((df['노출수'].sort_values()/1000).reset_index()).drop('index', axis=1)).plot(figsize=[13, 5])"
   ]
  },
  {
   "cell_type": "code",
   "execution_count": 51,
   "metadata": {},
   "outputs": [
    {
     "data": {
      "image/png": "[encoded data removed]",
      "text/plain": [
       "<Figure size 936x360 with 1 Axes>"
      ]
     },
     "metadata": {
      "needs_background": "light"
     },
     "output_type": "display_data"
    }
   ],
   "source": [
    "((sort_redata.reset_index()).drop('index', axis=1)).plot(figsize=[13, 5])\n",
    "\n",
    "# (\n",
    "#     (\n",
    "#         (\n",
    "#             df['노출수'].sort_values()/1000\n",
    "#         ).reset_index()\n",
    "#     ).drop('index', axis=1)\n",
    "# ).plot(figsize=[13, 5])\n",
    "plt.yticks([0, 2000, 4000, 6000, 8000, 10000],\n",
    "           [0, '2,000,000', '4,000,000', '6,000,000', '8,000,000', '10,000,000'])\n",
    "plt.title('노출수 plot', fontsize=20)\n",
    "plt.show()"
   ]
  },
  {
   "cell_type": "code",
   "execution_count": 52,
   "metadata": {},
   "outputs": [],
   "source": [
    "# 블로그 x 올리지 말것 - 네이버 리포트 데이터 "
   ]
  }
 ],
 "metadata": {
  "kernelspec": {
   "display_name": "Python 3",
   "language": "python",
   "name": "python3"
  },
  "language_info": {
   "codemirror_mode": {
    "name": "ipython",
    "version": 3
   },
   "file_extension": ".py",
   "mimetype": "text/x-python",
   "name": "python",
   "nbconvert_exporter": "python",
   "pygments_lexer": "ipython3",
   "version": "3.6.5"
  }
 },
 "nbformat": 4,
 "nbformat_minor": 4
}
