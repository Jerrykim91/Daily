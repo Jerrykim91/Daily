{
 "cells": [
  {
   "cell_type": "markdown",
   "metadata": {},
   "source": [
    "# 선형 SVM"
   ]
  },
  {
   "cell_type": "code",
   "execution_count": 4,
   "metadata": {},
   "outputs": [],
   "source": [
    "import matplotlib.pyplot as plt \n",
    "\n",
    "# sklearn\n",
    "from sklearn import preprocessing\n",
    "from sklearn.linear_model import LogisticRegression\n",
    "from sklearn.svm import LinearSVC\n",
    "from sklearn.datasets import make_classification\n",
    "from sklearn.model_selection import train_test_split\n",
    "\n",
    "%matplotlib inline"
   ]
  },
  {
   "cell_type": "code",
   "execution_count": 5,
   "metadata": {},
   "outputs": [],
   "source": [
    "# 데이터 생성 - 1\n",
    "X, y = make_classification(\n",
    "                        n_samples= 1250, n_features=4, \n",
    "                        n_informative=2, n_redundant=2, \n",
    "                        random_state=42\n",
    "                        )"
   ]
  },
  {
   "cell_type": "code",
   "execution_count": 6,
   "metadata": {},
   "outputs": [],
   "source": [
    "# 데이터 생성 -2 \n",
    "train_X, test_X, train_y, test_y = train_test_split(X, y, random_state = 42)"
   ]
  },
  {
   "cell_type": "code",
   "execution_count": 7,
   "metadata": {},
   "outputs": [
    {
     "data": {
      "text/plain": [
       "[1e-05, 0.0001, 0.001, 0.01, 0.1, 1, 10, 100, 1000, 10000]"
      ]
     },
     "execution_count": 7,
     "metadata": {},
     "output_type": "execute_result"
    }
   ],
   "source": [
    "# C값의 범위를 설정(0.00001 ~ 10000) \n",
    "C_list = [10 **i for i in range(-5, 5)]\n",
    "C_list"
   ]
  },
  {
   "cell_type": "code",
   "execution_count": 8,
   "metadata": {},
   "outputs": [],
   "source": [
    "# 결과 저장 \n",
    "svm_train_accuracy = []\n",
    "svm_test_accuracy  = []\n",
    "log_train_accuracy = []\n",
    "log_test_accuracy  = []"
   ]
  },
  {
   "cell_type": "code",
   "execution_count": 10,
   "metadata": {},
   "outputs": [
    {
     "name": "stderr",
     "output_type": "stream",
     "text": [
      "C:\\Users\\admin\\Anaconda3\\lib\\site-packages\\sklearn\\svm\\_base.py:947: ConvergenceWarning: Liblinear failed to converge, increase the number of iterations.\n",
      "  \"the number of iterations.\", ConvergenceWarning)\n",
      "C:\\Users\\admin\\Anaconda3\\lib\\site-packages\\sklearn\\svm\\_base.py:947: ConvergenceWarning: Liblinear failed to converge, increase the number of iterations.\n",
      "  \"the number of iterations.\", ConvergenceWarning)\n",
      "C:\\Users\\admin\\Anaconda3\\lib\\site-packages\\sklearn\\svm\\_base.py:947: ConvergenceWarning: Liblinear failed to converge, increase the number of iterations.\n",
      "  \"the number of iterations.\", ConvergenceWarning)\n",
      "C:\\Users\\admin\\Anaconda3\\lib\\site-packages\\sklearn\\svm\\_base.py:947: ConvergenceWarning: Liblinear failed to converge, increase the number of iterations.\n",
      "  \"the number of iterations.\", ConvergenceWarning)\n"
     ]
    }
   ],
   "source": [
    "# 데이터 뽑아내기 \n",
    "random_state = 42 \n",
    "\n",
    "for C in C_list:\n",
    "    model_one = LinearSVC( C = C , random_state= random_state )\n",
    "    model_one.fit(train_X ,train_y)\n",
    "    # 결과 저장 \n",
    "    svm_train_accuracy.append(model_one.score(train_X, train_y))\n",
    "    svm_test_accuracy.append(model_one.score(test_X, test_y))\n",
    "    \n",
    "    # 두번째 모델\n",
    "    model_two = LogisticRegression(C = C , random_state= random_state)\n",
    "    model_two.fit(train_X ,train_y)\n",
    "    # 로그 남기기 \n",
    "    log_train_accuracy.append(model_two.score(train_X, train_y))\n",
    "    log_test_accuracy.append(model_two.score(test_X, test_y))"
   ]
  },
  {
   "cell_type": "code",
   "execution_count": 13,
   "metadata": {},
   "outputs": [
    {
     "data": {
      "text/plain": [
       "[0.928495197438634,\n",
       " 0.928495197438634,\n",
       " 0.928495197438634,\n",
       " 0.927427961579509,\n",
       " 0.9295624332977588,\n",
       " 0.927427961579509,\n",
       " 0.9295624332977588,\n",
       " 0.8687299893276414,\n",
       " 0.7342582710779082,\n",
       " 0.9028815368196371]"
      ]
     },
     "execution_count": 13,
     "metadata": {},
     "output_type": "execute_result"
    }
   ],
   "source": [
    "svm_train_accuracy"
   ]
  },
  {
   "cell_type": "code",
   "execution_count": 14,
   "metadata": {},
   "outputs": [
    {
     "data": {
      "text/plain": [
       "[0.9265175718849841,\n",
       " 0.9265175718849841,\n",
       " 0.9329073482428115,\n",
       " 0.9233226837060703,\n",
       " 0.9265175718849841,\n",
       " 0.9265175718849841,\n",
       " 0.9265175718849841,\n",
       " 0.8817891373801917,\n",
       " 0.7028753993610224,\n",
       " 0.9265175718849841]"
      ]
     },
     "execution_count": 14,
     "metadata": {},
     "output_type": "execute_result"
    }
   ],
   "source": [
    "svm_test_accuracy"
   ]
  },
  {
   "cell_type": "code",
   "execution_count": 12,
   "metadata": {},
   "outputs": [
    {
     "data": {
      "image/png": "[encoded data removed]",
      "text/plain": [
       "<Figure size 432x288 with 1 Axes>"
      ]
     },
     "metadata": {
      "needs_background": "light"
     },
     "output_type": "display_data"
    }
   ],
   "source": [
    "# 그래프 그리기 \n",
    "fig = plt.figure()\n",
    "plt.subplots_adjust(wspace=0.4, hspace=0.4)\n",
    "ax = fig.add_subplot(1, 1, 1)\n",
    "\n",
    "ax.semilogx(C_list, svm_train_accuracy, label=\"accuracy of train_data\")\n",
    "ax.semilogx(C_list, svm_test_accuracy, label=\"accuarcy of test_data\")\n",
    "\n",
    "ax.grid(True)\n",
    "ax.set_title(\"SVM\")\n",
    "ax.set_xlabel(\"C\")\n",
    "ax.set_ylabel(\"accuracy\")\n",
    "\n",
    "\n",
    "ax.legend()\n",
    "ax.plot()\n",
    "plt.show()"
   ]
  },
  {
   "cell_type": "code",
   "execution_count": 15,
   "metadata": {
    "scrolled": true
   },
   "outputs": [
    {
     "data": {
      "text/plain": [
       "[0.9265175718849841,\n",
       " 0.9265175718849841,\n",
       " 0.9329073482428115,\n",
       " 0.9233226837060703,\n",
       " 0.9265175718849841,\n",
       " 0.9265175718849841,\n",
       " 0.9265175718849841,\n",
       " 0.8817891373801917,\n",
       " 0.7028753993610224,\n",
       " 0.9265175718849841]"
      ]
     },
     "execution_count": 15,
     "metadata": {},
     "output_type": "execute_result"
    }
   ],
   "source": [
    "svm_test_accuracy"
   ]
  },
  {
   "cell_type": "code",
   "execution_count": 16,
   "metadata": {},
   "outputs": [
    {
     "data": {
      "image/png": "[encoded data removed]",
      "text/plain": [
       "<Figure size 432x288 with 1 Axes>"
      ]
     },
     "metadata": {
      "needs_background": "light"
     },
     "output_type": "display_data"
    }
   ],
   "source": [
    "fig2 = plt.figure()\n",
    "ax2 = fig2.add_subplot(1, 1, 1)\n",
    "ax2.grid(True)\n",
    "ax2.set_title(\"Logistic Regression\")\n",
    "ax2.set_xlabel(\"C\")\n",
    "ax2.set_ylabel(\"accuracy\")\n",
    "ax2.semilogx(C_list, log_train_accuracy, label=\"accuracy of train_data\")\n",
    "ax2.semilogx(C_list, log_test_accuracy, label=\"accuarcy of test_data\")\n",
    "ax2.legend()\n",
    "ax2.plot()\n",
    "plt.show()"
   ]
  },
  {
   "cell_type": "code",
   "execution_count": 17,
   "metadata": {},
   "outputs": [
    {
     "data": {
      "text/plain": [
       "[0.5942492012779552,\n",
       " 0.9329073482428115,\n",
       " 0.9297124600638977,\n",
       " 0.9201277955271565,\n",
       " 0.9265175718849841,\n",
       " 0.9265175718849841,\n",
       " 0.9265175718849841,\n",
       " 0.9265175718849841,\n",
       " 0.9265175718849841,\n",
       " 0.9265175718849841]"
      ]
     },
     "execution_count": 17,
     "metadata": {},
     "output_type": "execute_result"
    }
   ],
   "source": [
    "log_test_accuracy"
   ]
  },
  {
   "cell_type": "code",
   "execution_count": null,
   "metadata": {},
   "outputs": [],
   "source": []
  }
 ],
 "metadata": {
  "kernelspec": {
   "display_name": "Python 3",
   "language": "python",
   "name": "python3"
  },
  "language_info": {
   "codemirror_mode": {
    "name": "ipython",
    "version": 3
   },
   "file_extension": ".py",
   "mimetype": "text/x-python",
   "name": "python",
   "nbconvert_exporter": "python",
   "pygments_lexer": "ipython3",
   "version": "3.6.5"
  }
 },
 "nbformat": 4,
 "nbformat_minor": 4
}
