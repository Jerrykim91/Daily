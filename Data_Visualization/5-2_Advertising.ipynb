{
 "cells": [
  {
   "cell_type": "markdown",
   "metadata": {},
   "source": [
    "# Domain Knowledge : 온라인 광고 KPI - 2 "
   ]
  },
  {
   "cell_type": "markdown",
   "metadata": {},
   "source": [
    "## 분석 목표\n",
    "\n",
    "1. 중점관리 키워드 , 저효율 키워드 추출 \n",
    "2. 중점관리 광고그룹, 저효율 광고그룹 추출 "
   ]
  },
  {
   "cell_type": "markdown",
   "metadata": {},
   "source": [
    "## 분석 과정 \n",
    "\n",
    "1. 데이터 전처리 \n",
    "2. 데이터 탐색 \n",
    "3. 시각화 \n",
    "4. 데이터 분석 "
   ]
  },
  {
   "cell_type": "markdown",
   "metadata": {},
   "source": [
    "# 1. 데이터 전처리 \n",
    "\n",
    "- read_exec 함수를 사용하여 데이터 불러오기\n",
    "- 데이터프레임 열단위 수치연산 및 데이터 타입 다루기"
   ]
  },
  {
   "cell_type": "code",
   "execution_count": 1,
   "metadata": {},
   "outputs": [],
   "source": [
    "import pandas as pd\n",
    "from pandas import DataFrame\n",
    "from pandas import Series\n",
    "\n",
    "import platform\n",
    "import matplotlib\n",
    "from matplotlib import font_manager, rc\n",
    "\n",
    "# 시각\n",
    "import matplotlib.pyplot as plt\n",
    "%matplotlib inline\n",
    "\n",
    "# 워닝 방지\n",
    "# ignore warnings\n",
    "import warnings\n",
    "warnings.filterwarnings('ignore')"
   ]
  },
  {
   "cell_type": "code",
   "execution_count": 2,
   "metadata": {},
   "outputs": [],
   "source": [
    "try :\n",
    "    if platform.system() == 'Windows':\n",
    "        font_name = font_manager.FontProperties(fname=\"c:/Windows/Fonts/malgun.ttf\").get_name()\n",
    "        rc('font', family=font_name)\n",
    "    else:\n",
    "        rc('font', family='AppleGothic')\n",
    "except :\n",
    "    pass\n",
    "\n",
    "matplotlib.rcParams['axes.unicode_minus'] = False"
   ]
  },
  {
   "cell_type": "markdown",
   "metadata": {},
   "source": [
    "### 운영체제 디렉토리 경로 구분자가 다름\n",
    "\n",
    "- windows : 역슬래쉬(\\)\n",
    "- Mac : 슬래쉬(/)\n"
   ]
  },
  {
   "cell_type": "code",
   "execution_count": 3,
   "metadata": {},
   "outputs": [
    {
     "name": "stdout",
     "output_type": "stream",
     "text": [
      "Requirement already satisfied: xlrd in c:\\users\\admin\\anaconda3\\envs\\cv\\lib\\site-packages (1.2.0)\n"
     ]
    }
   ],
   "source": [
    "!pip install xlrd"
   ]
  },
  {
   "cell_type": "code",
   "execution_count": 4,
   "metadata": {
    "scrolled": true
   },
   "outputs": [],
   "source": [
    "df = pd.read_excel('./input/네이버보고서.xls')"
   ]
  },
  {
   "cell_type": "code",
   "execution_count": 5,
   "metadata": {},
   "outputs": [
    {
     "data": {
      "text/html": [
       "<div>\n",
       "<style scoped>\n",
       "    .dataframe tbody tr th:only-of-type {\n",
       "        vertical-align: middle;\n",
       "    }\n",
       "\n",
       "    .dataframe tbody tr th {\n",
       "        vertical-align: top;\n",
       "    }\n",
       "\n",
       "    .dataframe thead th {\n",
       "        text-align: right;\n",
       "    }\n",
       "</style>\n",
       "<table border=\"1\" class=\"dataframe\">\n",
       "  <thead>\n",
       "    <tr style=\"text-align: right;\">\n",
       "      <th></th>\n",
       "      <th>캠페인보고서(2019.02.01.~2019.04.30.),ftasia</th>\n",
       "      <th>Unnamed: 1</th>\n",
       "      <th>Unnamed: 2</th>\n",
       "      <th>Unnamed: 3</th>\n",
       "      <th>Unnamed: 4</th>\n",
       "      <th>Unnamed: 5</th>\n",
       "      <th>Unnamed: 6</th>\n",
       "    </tr>\n",
       "  </thead>\n",
       "  <tbody>\n",
       "    <tr>\n",
       "      <th>0</th>\n",
       "      <td>광고그룹</td>\n",
       "      <td>키워드</td>\n",
       "      <td>노출수</td>\n",
       "      <td>클릭수</td>\n",
       "      <td>클릭률(%)</td>\n",
       "      <td>평균클릭비용(VAT포함,원)</td>\n",
       "      <td>총비용(VAT포함,원)</td>\n",
       "    </tr>\n",
       "    <tr>\n",
       "      <th>1</th>\n",
       "      <td>올인원 패키지 : 디자인 툴_파워컨텐츠_포토샵</td>\n",
       "      <td>-</td>\n",
       "      <td>2319456</td>\n",
       "      <td>9606</td>\n",
       "      <td>0.414149</td>\n",
       "      <td>261.549</td>\n",
       "      <td>2512444</td>\n",
       "    </tr>\n",
       "  </tbody>\n",
       "</table>\n",
       "</div>"
      ],
      "text/plain": [
       "  캠페인보고서(2019.02.01.~2019.04.30.),ftasia Unnamed: 1 Unnamed: 2 Unnamed: 3  \\\n",
       "0                                   광고그룹        키워드        노출수        클릭수   \n",
       "1              올인원 패키지 : 디자인 툴_파워컨텐츠_포토샵          -    2319456       9606   \n",
       "\n",
       "  Unnamed: 4       Unnamed: 5    Unnamed: 6  \n",
       "0     클릭률(%)  평균클릭비용(VAT포함,원)  총비용(VAT포함,원)  \n",
       "1   0.414149          261.549       2512444  "
      ]
     },
     "execution_count": 5,
     "metadata": {},
     "output_type": "execute_result"
    }
   ],
   "source": [
    "df.head(2)"
   ]
  },
  {
   "cell_type": "code",
   "execution_count": 6,
   "metadata": {},
   "outputs": [],
   "source": [
    "df = pd.read_excel('./input/네이버보고서.xls', skiprows=[0])\n",
    "\n",
    "# 사본만들기 \n",
    "df_naver = df.iloc[:,:]"
   ]
  },
  {
   "cell_type": "code",
   "execution_count": 7,
   "metadata": {},
   "outputs": [
    {
     "data": {
      "text/html": [
       "<div>\n",
       "<style scoped>\n",
       "    .dataframe tbody tr th:only-of-type {\n",
       "        vertical-align: middle;\n",
       "    }\n",
       "\n",
       "    .dataframe tbody tr th {\n",
       "        vertical-align: top;\n",
       "    }\n",
       "\n",
       "    .dataframe thead th {\n",
       "        text-align: right;\n",
       "    }\n",
       "</style>\n",
       "<table border=\"1\" class=\"dataframe\">\n",
       "  <thead>\n",
       "    <tr style=\"text-align: right;\">\n",
       "      <th></th>\n",
       "      <th>광고그룹</th>\n",
       "      <th>키워드</th>\n",
       "      <th>노출수</th>\n",
       "      <th>클릭수</th>\n",
       "      <th>클릭률(%)</th>\n",
       "      <th>평균클릭비용(VAT포함,원)</th>\n",
       "      <th>총비용(VAT포함,원)</th>\n",
       "    </tr>\n",
       "  </thead>\n",
       "  <tbody>\n",
       "    <tr>\n",
       "      <th>0</th>\n",
       "      <td>올인원 패키지 : 디자인 툴_파워컨텐츠_포토샵</td>\n",
       "      <td>-</td>\n",
       "      <td>2319456</td>\n",
       "      <td>9606.0</td>\n",
       "      <td>0.414149</td>\n",
       "      <td>261.549448</td>\n",
       "      <td>2512444</td>\n",
       "    </tr>\n",
       "    <tr>\n",
       "      <th>1</th>\n",
       "      <td>올인원 패키지 : 업무자동화_VBA</td>\n",
       "      <td>-</td>\n",
       "      <td>767491</td>\n",
       "      <td>8058.0</td>\n",
       "      <td>1.049915</td>\n",
       "      <td>295.974808</td>\n",
       "      <td>2384965</td>\n",
       "    </tr>\n",
       "  </tbody>\n",
       "</table>\n",
       "</div>"
      ],
      "text/plain": [
       "                        광고그룹 키워드      노출수     클릭수    클릭률(%)  평균클릭비용(VAT포함,원)  \\\n",
       "0  올인원 패키지 : 디자인 툴_파워컨텐츠_포토샵   -  2319456  9606.0  0.414149       261.549448   \n",
       "1        올인원 패키지 : 업무자동화_VBA   -   767491  8058.0  1.049915       295.974808   \n",
       "\n",
       "   총비용(VAT포함,원)  \n",
       "0       2512444  \n",
       "1       2384965  "
      ]
     },
     "execution_count": 7,
     "metadata": {},
     "output_type": "execute_result"
    }
   ],
   "source": [
    "df_naver.head(2)"
   ]
  },
  {
   "cell_type": "code",
   "execution_count": 8,
   "metadata": {},
   "outputs": [
    {
     "data": {
      "text/html": [
       "<div>\n",
       "<style scoped>\n",
       "    .dataframe tbody tr th:only-of-type {\n",
       "        vertical-align: middle;\n",
       "    }\n",
       "\n",
       "    .dataframe tbody tr th {\n",
       "        vertical-align: top;\n",
       "    }\n",
       "\n",
       "    .dataframe thead th {\n",
       "        text-align: right;\n",
       "    }\n",
       "</style>\n",
       "<table border=\"1\" class=\"dataframe\">\n",
       "  <thead>\n",
       "    <tr style=\"text-align: right;\">\n",
       "      <th></th>\n",
       "      <th>광고그룹</th>\n",
       "      <th>키워드</th>\n",
       "      <th>노출수</th>\n",
       "      <th>클릭수</th>\n",
       "      <th>클릭률(%)</th>\n",
       "      <th>평균클릭비용(VAT포함,원)</th>\n",
       "      <th>총비용(VAT포함,원)</th>\n",
       "    </tr>\n",
       "  </thead>\n",
       "  <tbody>\n",
       "    <tr>\n",
       "      <th>1379</th>\n",
       "      <td>data_camp_rmp_8</td>\n",
       "      <td>DECISION</td>\n",
       "      <td>60844</td>\n",
       "      <td>0.0</td>\n",
       "      <td>0.0</td>\n",
       "      <td>0.0</td>\n",
       "      <td>0</td>\n",
       "    </tr>\n",
       "    <tr>\n",
       "      <th>1380</th>\n",
       "      <td>4. 웹의 동작</td>\n",
       "      <td>REST</td>\n",
       "      <td>61193</td>\n",
       "      <td>0.0</td>\n",
       "      <td>0.0</td>\n",
       "      <td>0.0</td>\n",
       "      <td>0</td>\n",
       "    </tr>\n",
       "  </tbody>\n",
       "</table>\n",
       "</div>"
      ],
      "text/plain": [
       "                 광고그룹       키워드    노출수  클릭수  클릭률(%)  평균클릭비용(VAT포함,원)  \\\n",
       "1379  data_camp_rmp_8  DECISION  60844  0.0     0.0              0.0   \n",
       "1380         4. 웹의 동작      REST  61193  0.0     0.0              0.0   \n",
       "\n",
       "      총비용(VAT포함,원)  \n",
       "1379             0  \n",
       "1380             0  "
      ]
     },
     "execution_count": 8,
     "metadata": {},
     "output_type": "execute_result"
    }
   ],
   "source": [
    "df_naver.tail(2)"
   ]
  },
  {
   "cell_type": "code",
   "execution_count": 9,
   "metadata": {},
   "outputs": [
    {
     "data": {
      "text/html": [
       "<div>\n",
       "<style scoped>\n",
       "    .dataframe tbody tr th:only-of-type {\n",
       "        vertical-align: middle;\n",
       "    }\n",
       "\n",
       "    .dataframe tbody tr th {\n",
       "        vertical-align: top;\n",
       "    }\n",
       "\n",
       "    .dataframe thead th {\n",
       "        text-align: right;\n",
       "    }\n",
       "</style>\n",
       "<table border=\"1\" class=\"dataframe\">\n",
       "  <thead>\n",
       "    <tr style=\"text-align: right;\">\n",
       "      <th></th>\n",
       "      <th>올인원 패키지 : 디자인 툴_파워컨텐츠_포토샵</th>\n",
       "      <th>-</th>\n",
       "      <th>2319456</th>\n",
       "      <th>9606</th>\n",
       "      <th>0.4141488348992178</th>\n",
       "      <th>261.54944826150324</th>\n",
       "      <th>2512444</th>\n",
       "    </tr>\n",
       "  </thead>\n",
       "  <tbody>\n",
       "    <tr>\n",
       "      <th>0</th>\n",
       "      <td>ㅍAOP 전체_중복키워드_디자인(삭제)</td>\n",
       "      <td>일러스트</td>\n",
       "      <td>1137840</td>\n",
       "      <td>324.0</td>\n",
       "      <td>0.028475</td>\n",
       "      <td>4841.663580</td>\n",
       "      <td>1568699</td>\n",
       "    </tr>\n",
       "    <tr>\n",
       "      <th>1</th>\n",
       "      <td>3. html</td>\n",
       "      <td>HTML</td>\n",
       "      <td>9626374</td>\n",
       "      <td>813.6</td>\n",
       "      <td>0.008452</td>\n",
       "      <td>1408.435349</td>\n",
       "      <td>1145903</td>\n",
       "    </tr>\n",
       "    <tr>\n",
       "      <th>2</th>\n",
       "      <td>6. 파이썬</td>\n",
       "      <td>파이썬</td>\n",
       "      <td>384522</td>\n",
       "      <td>260.4</td>\n",
       "      <td>0.067720</td>\n",
       "      <td>3705.360983</td>\n",
       "      <td>964876</td>\n",
       "    </tr>\n",
       "    <tr>\n",
       "      <th>3</th>\n",
       "      <td>1. 코딩</td>\n",
       "      <td>코딩</td>\n",
       "      <td>562162</td>\n",
       "      <td>271.2</td>\n",
       "      <td>0.048242</td>\n",
       "      <td>3243.215339</td>\n",
       "      <td>879560</td>\n",
       "    </tr>\n",
       "    <tr>\n",
       "      <th>4</th>\n",
       "      <td>2. C언어 일반</td>\n",
       "      <td>C언어</td>\n",
       "      <td>271370</td>\n",
       "      <td>153.6</td>\n",
       "      <td>0.056602</td>\n",
       "      <td>5269.257812</td>\n",
       "      <td>809358</td>\n",
       "    </tr>\n",
       "  </tbody>\n",
       "</table>\n",
       "</div>"
      ],
      "text/plain": [
       "  올인원 패키지 : 디자인 툴_파워컨텐츠_포토샵     -  2319456   9606  0.4141488348992178  \\\n",
       "0     ㅍAOP 전체_중복키워드_디자인(삭제)  일러스트  1137840  324.0            0.028475   \n",
       "1                   3. html  HTML  9626374  813.6            0.008452   \n",
       "2                    6. 파이썬   파이썬   384522  260.4            0.067720   \n",
       "3                     1. 코딩    코딩   562162  271.2            0.048242   \n",
       "4                 2. C언어 일반   C언어   271370  153.6            0.056602   \n",
       "\n",
       "   261.54944826150324  2512444  \n",
       "0         4841.663580  1568699  \n",
       "1         1408.435349  1145903  \n",
       "2         3705.360983   964876  \n",
       "3         3243.215339   879560  \n",
       "4         5269.257812   809358  "
      ]
     },
     "execution_count": 9,
     "metadata": {},
     "output_type": "execute_result"
    }
   ],
   "source": [
    "df = pd.read_excel('./input/네이버보고서.xls', skiprows=[0, 1, 3, 5])\n",
    "df.head()"
   ]
  },
  {
   "cell_type": "code",
   "execution_count": 10,
   "metadata": {},
   "outputs": [],
   "source": [
    "df = pd.read_excel('./input/네이버보고서.xls', skiprows=[0])\n",
    "\n",
    "# 사본만들기 \n",
    "df_naver = df.iloc[:,:]"
   ]
  },
  {
   "cell_type": "markdown",
   "metadata": {},
   "source": [
    "# 2. 결측치 확인 "
   ]
  },
  {
   "cell_type": "code",
   "execution_count": 11,
   "metadata": {},
   "outputs": [
    {
     "data": {
      "text/html": [
       "<div>\n",
       "<style scoped>\n",
       "    .dataframe tbody tr th:only-of-type {\n",
       "        vertical-align: middle;\n",
       "    }\n",
       "\n",
       "    .dataframe tbody tr th {\n",
       "        vertical-align: top;\n",
       "    }\n",
       "\n",
       "    .dataframe thead th {\n",
       "        text-align: right;\n",
       "    }\n",
       "</style>\n",
       "<table border=\"1\" class=\"dataframe\">\n",
       "  <thead>\n",
       "    <tr style=\"text-align: right;\">\n",
       "      <th></th>\n",
       "      <th>광고그룹</th>\n",
       "      <th>키워드</th>\n",
       "      <th>노출수</th>\n",
       "      <th>클릭수</th>\n",
       "      <th>클릭률(%)</th>\n",
       "      <th>평균클릭비용(VAT포함,원)</th>\n",
       "      <th>총비용(VAT포함,원)</th>\n",
       "    </tr>\n",
       "  </thead>\n",
       "  <tbody>\n",
       "    <tr>\n",
       "      <th>0</th>\n",
       "      <td>False</td>\n",
       "      <td>False</td>\n",
       "      <td>False</td>\n",
       "      <td>False</td>\n",
       "      <td>False</td>\n",
       "      <td>False</td>\n",
       "      <td>False</td>\n",
       "    </tr>\n",
       "    <tr>\n",
       "      <th>1</th>\n",
       "      <td>False</td>\n",
       "      <td>False</td>\n",
       "      <td>False</td>\n",
       "      <td>False</td>\n",
       "      <td>False</td>\n",
       "      <td>False</td>\n",
       "      <td>False</td>\n",
       "    </tr>\n",
       "    <tr>\n",
       "      <th>2</th>\n",
       "      <td>False</td>\n",
       "      <td>False</td>\n",
       "      <td>False</td>\n",
       "      <td>False</td>\n",
       "      <td>False</td>\n",
       "      <td>False</td>\n",
       "      <td>False</td>\n",
       "    </tr>\n",
       "    <tr>\n",
       "      <th>3</th>\n",
       "      <td>False</td>\n",
       "      <td>False</td>\n",
       "      <td>False</td>\n",
       "      <td>False</td>\n",
       "      <td>False</td>\n",
       "      <td>False</td>\n",
       "      <td>False</td>\n",
       "    </tr>\n",
       "    <tr>\n",
       "      <th>4</th>\n",
       "      <td>False</td>\n",
       "      <td>False</td>\n",
       "      <td>False</td>\n",
       "      <td>False</td>\n",
       "      <td>False</td>\n",
       "      <td>False</td>\n",
       "      <td>False</td>\n",
       "    </tr>\n",
       "    <tr>\n",
       "      <th>...</th>\n",
       "      <td>...</td>\n",
       "      <td>...</td>\n",
       "      <td>...</td>\n",
       "      <td>...</td>\n",
       "      <td>...</td>\n",
       "      <td>...</td>\n",
       "      <td>...</td>\n",
       "    </tr>\n",
       "    <tr>\n",
       "      <th>1376</th>\n",
       "      <td>False</td>\n",
       "      <td>False</td>\n",
       "      <td>False</td>\n",
       "      <td>False</td>\n",
       "      <td>False</td>\n",
       "      <td>False</td>\n",
       "      <td>False</td>\n",
       "    </tr>\n",
       "    <tr>\n",
       "      <th>1377</th>\n",
       "      <td>False</td>\n",
       "      <td>False</td>\n",
       "      <td>False</td>\n",
       "      <td>False</td>\n",
       "      <td>False</td>\n",
       "      <td>False</td>\n",
       "      <td>False</td>\n",
       "    </tr>\n",
       "    <tr>\n",
       "      <th>1378</th>\n",
       "      <td>False</td>\n",
       "      <td>False</td>\n",
       "      <td>False</td>\n",
       "      <td>False</td>\n",
       "      <td>False</td>\n",
       "      <td>False</td>\n",
       "      <td>False</td>\n",
       "    </tr>\n",
       "    <tr>\n",
       "      <th>1379</th>\n",
       "      <td>False</td>\n",
       "      <td>False</td>\n",
       "      <td>False</td>\n",
       "      <td>False</td>\n",
       "      <td>False</td>\n",
       "      <td>False</td>\n",
       "      <td>False</td>\n",
       "    </tr>\n",
       "    <tr>\n",
       "      <th>1380</th>\n",
       "      <td>False</td>\n",
       "      <td>False</td>\n",
       "      <td>False</td>\n",
       "      <td>False</td>\n",
       "      <td>False</td>\n",
       "      <td>False</td>\n",
       "      <td>False</td>\n",
       "    </tr>\n",
       "  </tbody>\n",
       "</table>\n",
       "<p>1381 rows × 7 columns</p>\n",
       "</div>"
      ],
      "text/plain": [
       "       광고그룹    키워드    노출수    클릭수  클릭률(%)  평균클릭비용(VAT포함,원)  총비용(VAT포함,원)\n",
       "0     False  False  False  False   False            False         False\n",
       "1     False  False  False  False   False            False         False\n",
       "2     False  False  False  False   False            False         False\n",
       "3     False  False  False  False   False            False         False\n",
       "4     False  False  False  False   False            False         False\n",
       "...     ...    ...    ...    ...     ...              ...           ...\n",
       "1376  False  False  False  False   False            False         False\n",
       "1377  False  False  False  False   False            False         False\n",
       "1378  False  False  False  False   False            False         False\n",
       "1379  False  False  False  False   False            False         False\n",
       "1380  False  False  False  False   False            False         False\n",
       "\n",
       "[1381 rows x 7 columns]"
      ]
     },
     "execution_count": 11,
     "metadata": {},
     "output_type": "execute_result"
    }
   ],
   "source": [
    "df_naver.isnull()"
   ]
  },
  {
   "cell_type": "code",
   "execution_count": 12,
   "metadata": {
    "scrolled": true
   },
   "outputs": [
    {
     "data": {
      "text/plain": [
       "광고그룹               0\n",
       "키워드                0\n",
       "노출수                0\n",
       "클릭수                0\n",
       "클릭률(%)             0\n",
       "평균클릭비용(VAT포함,원)    0\n",
       "총비용(VAT포함,원)       0\n",
       "dtype: int64"
      ]
     },
     "execution_count": 12,
     "metadata": {},
     "output_type": "execute_result"
    }
   ],
   "source": [
    "df_naver.isnull().sum()"
   ]
  },
  {
   "cell_type": "code",
   "execution_count": 13,
   "metadata": {},
   "outputs": [
    {
     "data": {
      "text/plain": [
       "0       0\n",
       "1       0\n",
       "2       0\n",
       "3       0\n",
       "4       0\n",
       "       ..\n",
       "1376    0\n",
       "1377    0\n",
       "1378    0\n",
       "1379    0\n",
       "1380    0\n",
       "Length: 1381, dtype: int64"
      ]
     },
     "execution_count": 13,
     "metadata": {},
     "output_type": "execute_result"
    }
   ],
   "source": [
    "df_naver.isnull().sum(axis=1)"
   ]
  },
  {
   "cell_type": "markdown",
   "metadata": {},
   "source": [
    "## 3. 데이터 타입 다루기 "
   ]
  },
  {
   "cell_type": "markdown",
   "metadata": {},
   "source": [
    "### 데이터프레임의 열단위 수치연산 및 데이터 타입 다루기\n",
    "\n",
    "- 클릭수(반올림, 일의 자리로 변경)  \n",
    "- 클릭률  \n",
    "- 평균클릭비용(VAT포함, 원)  "
   ]
  },
  {
   "cell_type": "code",
   "execution_count": 14,
   "metadata": {},
   "outputs": [],
   "source": [
    "# 클릭수 : 한번의 클릭이 총 몇번 이루어 졌는지 나타내는 지표 -> 반올림 처리 \n",
    "clk = round(df_naver['클릭수'], 0)"
   ]
  },
  {
   "cell_type": "code",
   "execution_count": 15,
   "metadata": {},
   "outputs": [
    {
     "data": {
      "text/plain": [
       "0       9606.0\n",
       "1       8058.0\n",
       "2        324.0\n",
       "3       1864.0\n",
       "4        814.0\n",
       "         ...  \n",
       "1376       0.0\n",
       "1377       0.0\n",
       "1378       0.0\n",
       "1379       0.0\n",
       "1380       0.0\n",
       "Name: 클릭수, Length: 1381, dtype: float64"
      ]
     },
     "execution_count": 15,
     "metadata": {},
     "output_type": "execute_result"
    }
   ],
   "source": [
    "clk"
   ]
  },
  {
   "cell_type": "code",
   "execution_count": 16,
   "metadata": {},
   "outputs": [
    {
     "data": {
      "text/plain": [
       "0       9606\n",
       "1       8058\n",
       "2        324\n",
       "3       1864\n",
       "4        814\n",
       "        ... \n",
       "1376       0\n",
       "1377       0\n",
       "1378       0\n",
       "1379       0\n",
       "1380       0\n",
       "Name: 클릭수, Length: 1381, dtype: int32"
      ]
     },
     "execution_count": 16,
     "metadata": {},
     "output_type": "execute_result"
    }
   ],
   "source": [
    "clk.astype(int)"
   ]
  },
  {
   "cell_type": "code",
   "execution_count": 17,
   "metadata": {},
   "outputs": [],
   "source": [
    "df_naver['클릭수'] = clk.astype(int)"
   ]
  },
  {
   "cell_type": "code",
   "execution_count": 18,
   "metadata": {},
   "outputs": [
    {
     "data": {
      "text/html": [
       "<div>\n",
       "<style scoped>\n",
       "    .dataframe tbody tr th:only-of-type {\n",
       "        vertical-align: middle;\n",
       "    }\n",
       "\n",
       "    .dataframe tbody tr th {\n",
       "        vertical-align: top;\n",
       "    }\n",
       "\n",
       "    .dataframe thead th {\n",
       "        text-align: right;\n",
       "    }\n",
       "</style>\n",
       "<table border=\"1\" class=\"dataframe\">\n",
       "  <thead>\n",
       "    <tr style=\"text-align: right;\">\n",
       "      <th></th>\n",
       "      <th>광고그룹</th>\n",
       "      <th>키워드</th>\n",
       "      <th>노출수</th>\n",
       "      <th>클릭수</th>\n",
       "      <th>클릭률(%)</th>\n",
       "      <th>평균클릭비용(VAT포함,원)</th>\n",
       "      <th>총비용(VAT포함,원)</th>\n",
       "    </tr>\n",
       "  </thead>\n",
       "  <tbody>\n",
       "    <tr>\n",
       "      <th>0</th>\n",
       "      <td>올인원 패키지 : 디자인 툴_파워컨텐츠_포토샵</td>\n",
       "      <td>-</td>\n",
       "      <td>2319456</td>\n",
       "      <td>9606</td>\n",
       "      <td>0.414149</td>\n",
       "      <td>261.549448</td>\n",
       "      <td>2512444</td>\n",
       "    </tr>\n",
       "    <tr>\n",
       "      <th>1</th>\n",
       "      <td>올인원 패키지 : 업무자동화_VBA</td>\n",
       "      <td>-</td>\n",
       "      <td>767491</td>\n",
       "      <td>8058</td>\n",
       "      <td>1.049915</td>\n",
       "      <td>295.974808</td>\n",
       "      <td>2384965</td>\n",
       "    </tr>\n",
       "    <tr>\n",
       "      <th>2</th>\n",
       "      <td>ㅍAOP 전체_중복키워드_디자인(삭제)</td>\n",
       "      <td>일러스트</td>\n",
       "      <td>1137840</td>\n",
       "      <td>324</td>\n",
       "      <td>0.028475</td>\n",
       "      <td>4841.663580</td>\n",
       "      <td>1568699</td>\n",
       "    </tr>\n",
       "    <tr>\n",
       "      <th>3</th>\n",
       "      <td>올인원 패키지 : 데이터 분석 입문 온라인_파콘</td>\n",
       "      <td>-</td>\n",
       "      <td>694106</td>\n",
       "      <td>1864</td>\n",
       "      <td>0.268489</td>\n",
       "      <td>630.593475</td>\n",
       "      <td>1175174</td>\n",
       "    </tr>\n",
       "    <tr>\n",
       "      <th>4</th>\n",
       "      <td>3. html</td>\n",
       "      <td>HTML</td>\n",
       "      <td>9626374</td>\n",
       "      <td>814</td>\n",
       "      <td>0.008452</td>\n",
       "      <td>1408.435349</td>\n",
       "      <td>1145903</td>\n",
       "    </tr>\n",
       "  </tbody>\n",
       "</table>\n",
       "</div>"
      ],
      "text/plain": [
       "                         광고그룹   키워드      노출수   클릭수    클릭률(%)  평균클릭비용(VAT포함,원)  \\\n",
       "0   올인원 패키지 : 디자인 툴_파워컨텐츠_포토샵     -  2319456  9606  0.414149       261.549448   \n",
       "1         올인원 패키지 : 업무자동화_VBA     -   767491  8058  1.049915       295.974808   \n",
       "2       ㅍAOP 전체_중복키워드_디자인(삭제)  일러스트  1137840   324  0.028475      4841.663580   \n",
       "3  올인원 패키지 : 데이터 분석 입문 온라인_파콘     -   694106  1864  0.268489       630.593475   \n",
       "4                     3. html  HTML  9626374   814  0.008452      1408.435349   \n",
       "\n",
       "   총비용(VAT포함,원)  \n",
       "0       2512444  \n",
       "1       2384965  \n",
       "2       1568699  \n",
       "3       1175174  \n",
       "4       1145903  "
      ]
     },
     "execution_count": 18,
     "metadata": {},
     "output_type": "execute_result"
    }
   ],
   "source": [
    "df_naver.head()"
   ]
  },
  {
   "cell_type": "code",
   "execution_count": 19,
   "metadata": {},
   "outputs": [],
   "source": [
    "# CTR\n",
    "df_naver['클릭률(%)'] = df_naver['클릭수'] / df_naver['노출수'] * 100"
   ]
  },
  {
   "cell_type": "code",
   "execution_count": 20,
   "metadata": {},
   "outputs": [],
   "source": [
    "# CPC\n",
    "cpc = round(df_naver['평균클릭비용(VAT포함,원)'], 0)\n",
    "df_naver['평균클릭비용(VAT포함,원)'] = cpc.astype(int)"
   ]
  },
  {
   "cell_type": "code",
   "execution_count": 21,
   "metadata": {},
   "outputs": [
    {
     "data": {
      "text/html": [
       "<div>\n",
       "<style scoped>\n",
       "    .dataframe tbody tr th:only-of-type {\n",
       "        vertical-align: middle;\n",
       "    }\n",
       "\n",
       "    .dataframe tbody tr th {\n",
       "        vertical-align: top;\n",
       "    }\n",
       "\n",
       "    .dataframe thead th {\n",
       "        text-align: right;\n",
       "    }\n",
       "</style>\n",
       "<table border=\"1\" class=\"dataframe\">\n",
       "  <thead>\n",
       "    <tr style=\"text-align: right;\">\n",
       "      <th></th>\n",
       "      <th>광고그룹</th>\n",
       "      <th>키워드</th>\n",
       "      <th>노출수</th>\n",
       "      <th>클릭수</th>\n",
       "      <th>클릭률(%)</th>\n",
       "      <th>평균클릭비용(VAT포함,원)</th>\n",
       "      <th>총비용(VAT포함,원)</th>\n",
       "    </tr>\n",
       "  </thead>\n",
       "  <tbody>\n",
       "    <tr>\n",
       "      <th>0</th>\n",
       "      <td>올인원 패키지 : 디자인 툴_파워컨텐츠_포토샵</td>\n",
       "      <td>-</td>\n",
       "      <td>2319456</td>\n",
       "      <td>9606</td>\n",
       "      <td>0.414149</td>\n",
       "      <td>262</td>\n",
       "      <td>2512444</td>\n",
       "    </tr>\n",
       "    <tr>\n",
       "      <th>1</th>\n",
       "      <td>올인원 패키지 : 업무자동화_VBA</td>\n",
       "      <td>-</td>\n",
       "      <td>767491</td>\n",
       "      <td>8058</td>\n",
       "      <td>1.049915</td>\n",
       "      <td>296</td>\n",
       "      <td>2384965</td>\n",
       "    </tr>\n",
       "    <tr>\n",
       "      <th>2</th>\n",
       "      <td>ㅍAOP 전체_중복키워드_디자인(삭제)</td>\n",
       "      <td>일러스트</td>\n",
       "      <td>1137840</td>\n",
       "      <td>324</td>\n",
       "      <td>0.028475</td>\n",
       "      <td>4842</td>\n",
       "      <td>1568699</td>\n",
       "    </tr>\n",
       "    <tr>\n",
       "      <th>3</th>\n",
       "      <td>올인원 패키지 : 데이터 분석 입문 온라인_파콘</td>\n",
       "      <td>-</td>\n",
       "      <td>694106</td>\n",
       "      <td>1864</td>\n",
       "      <td>0.268547</td>\n",
       "      <td>631</td>\n",
       "      <td>1175174</td>\n",
       "    </tr>\n",
       "    <tr>\n",
       "      <th>4</th>\n",
       "      <td>3. html</td>\n",
       "      <td>HTML</td>\n",
       "      <td>9626374</td>\n",
       "      <td>814</td>\n",
       "      <td>0.008456</td>\n",
       "      <td>1408</td>\n",
       "      <td>1145903</td>\n",
       "    </tr>\n",
       "  </tbody>\n",
       "</table>\n",
       "</div>"
      ],
      "text/plain": [
       "                         광고그룹   키워드      노출수   클릭수    클릭률(%)  평균클릭비용(VAT포함,원)  \\\n",
       "0   올인원 패키지 : 디자인 툴_파워컨텐츠_포토샵     -  2319456  9606  0.414149              262   \n",
       "1         올인원 패키지 : 업무자동화_VBA     -   767491  8058  1.049915              296   \n",
       "2       ㅍAOP 전체_중복키워드_디자인(삭제)  일러스트  1137840   324  0.028475             4842   \n",
       "3  올인원 패키지 : 데이터 분석 입문 온라인_파콘     -   694106  1864  0.268547              631   \n",
       "4                     3. html  HTML  9626374   814  0.008456             1408   \n",
       "\n",
       "   총비용(VAT포함,원)  \n",
       "0       2512444  \n",
       "1       2384965  \n",
       "2       1568699  \n",
       "3       1175174  \n",
       "4       1145903  "
      ]
     },
     "execution_count": 21,
     "metadata": {},
     "output_type": "execute_result"
    }
   ],
   "source": [
    "df_naver.head()"
   ]
  },
  {
   "cell_type": "code",
   "execution_count": 22,
   "metadata": {},
   "outputs": [
    {
     "data": {
      "text/html": [
       "<div>\n",
       "<style scoped>\n",
       "    .dataframe tbody tr th:only-of-type {\n",
       "        vertical-align: middle;\n",
       "    }\n",
       "\n",
       "    .dataframe tbody tr th {\n",
       "        vertical-align: top;\n",
       "    }\n",
       "\n",
       "    .dataframe thead th {\n",
       "        text-align: right;\n",
       "    }\n",
       "</style>\n",
       "<table border=\"1\" class=\"dataframe\">\n",
       "  <thead>\n",
       "    <tr style=\"text-align: right;\">\n",
       "      <th></th>\n",
       "      <th>노출수</th>\n",
       "      <th>클릭수</th>\n",
       "      <th>클릭률(%)</th>\n",
       "      <th>평균클릭비용(VAT포함,원)</th>\n",
       "      <th>총비용(VAT포함,원)</th>\n",
       "    </tr>\n",
       "  </thead>\n",
       "  <tbody>\n",
       "    <tr>\n",
       "      <th>count</th>\n",
       "      <td>1.381000e+03</td>\n",
       "      <td>1381.000000</td>\n",
       "      <td>1381.000000</td>\n",
       "      <td>1381.000000</td>\n",
       "      <td>1.381000e+03</td>\n",
       "    </tr>\n",
       "    <tr>\n",
       "      <th>mean</th>\n",
       "      <td>3.505415e+04</td>\n",
       "      <td>52.504707</td>\n",
       "      <td>0.352023</td>\n",
       "      <td>981.624909</td>\n",
       "      <td>3.791958e+04</td>\n",
       "    </tr>\n",
       "    <tr>\n",
       "      <th>std</th>\n",
       "      <td>2.964650e+05</td>\n",
       "      <td>387.513479</td>\n",
       "      <td>1.000998</td>\n",
       "      <td>1372.401050</td>\n",
       "      <td>1.421492e+05</td>\n",
       "    </tr>\n",
       "    <tr>\n",
       "      <th>min</th>\n",
       "      <td>1.001000e+03</td>\n",
       "      <td>0.000000</td>\n",
       "      <td>0.000000</td>\n",
       "      <td>0.000000</td>\n",
       "      <td>0.000000e+00</td>\n",
       "    </tr>\n",
       "    <tr>\n",
       "      <th>25%</th>\n",
       "      <td>1.814000e+03</td>\n",
       "      <td>1.000000</td>\n",
       "      <td>0.006539</td>\n",
       "      <td>64.000000</td>\n",
       "      <td>7.700000e+01</td>\n",
       "    </tr>\n",
       "    <tr>\n",
       "      <th>50%</th>\n",
       "      <td>3.805000e+03</td>\n",
       "      <td>4.000000</td>\n",
       "      <td>0.056721</td>\n",
       "      <td>396.000000</td>\n",
       "      <td>2.123000e+03</td>\n",
       "    </tr>\n",
       "    <tr>\n",
       "      <th>75%</th>\n",
       "      <td>1.073400e+04</td>\n",
       "      <td>14.000000</td>\n",
       "      <td>0.243309</td>\n",
       "      <td>1303.000000</td>\n",
       "      <td>1.743500e+04</td>\n",
       "    </tr>\n",
       "    <tr>\n",
       "      <th>max</th>\n",
       "      <td>9.626374e+06</td>\n",
       "      <td>9606.000000</td>\n",
       "      <td>13.590551</td>\n",
       "      <td>9363.000000</td>\n",
       "      <td>2.512444e+06</td>\n",
       "    </tr>\n",
       "  </tbody>\n",
       "</table>\n",
       "</div>"
      ],
      "text/plain": [
       "                노출수          클릭수       클릭률(%)  평균클릭비용(VAT포함,원)  총비용(VAT포함,원)\n",
       "count  1.381000e+03  1381.000000  1381.000000      1381.000000  1.381000e+03\n",
       "mean   3.505415e+04    52.504707     0.352023       981.624909  3.791958e+04\n",
       "std    2.964650e+05   387.513479     1.000998      1372.401050  1.421492e+05\n",
       "min    1.001000e+03     0.000000     0.000000         0.000000  0.000000e+00\n",
       "25%    1.814000e+03     1.000000     0.006539        64.000000  7.700000e+01\n",
       "50%    3.805000e+03     4.000000     0.056721       396.000000  2.123000e+03\n",
       "75%    1.073400e+04    14.000000     0.243309      1303.000000  1.743500e+04\n",
       "max    9.626374e+06  9606.000000    13.590551      9363.000000  2.512444e+06"
      ]
     },
     "execution_count": 22,
     "metadata": {},
     "output_type": "execute_result"
    }
   ],
   "source": [
    "df_naver.describe()"
   ]
  },
  {
   "cell_type": "code",
   "execution_count": 23,
   "metadata": {},
   "outputs": [],
   "source": [
    "# 형식 float 형식으로\n",
    "pd.set_option('display.float_format', '{:.2f}'.format) "
   ]
  },
  {
   "cell_type": "code",
   "execution_count": 24,
   "metadata": {
    "scrolled": true
   },
   "outputs": [
    {
     "data": {
      "text/html": [
       "<div>\n",
       "<style scoped>\n",
       "    .dataframe tbody tr th:only-of-type {\n",
       "        vertical-align: middle;\n",
       "    }\n",
       "\n",
       "    .dataframe tbody tr th {\n",
       "        vertical-align: top;\n",
       "    }\n",
       "\n",
       "    .dataframe thead th {\n",
       "        text-align: right;\n",
       "    }\n",
       "</style>\n",
       "<table border=\"1\" class=\"dataframe\">\n",
       "  <thead>\n",
       "    <tr style=\"text-align: right;\">\n",
       "      <th></th>\n",
       "      <th>노출수</th>\n",
       "      <th>클릭수</th>\n",
       "      <th>클릭률(%)</th>\n",
       "      <th>평균클릭비용(VAT포함,원)</th>\n",
       "      <th>총비용(VAT포함,원)</th>\n",
       "    </tr>\n",
       "  </thead>\n",
       "  <tbody>\n",
       "    <tr>\n",
       "      <th>count</th>\n",
       "      <td>1381.00</td>\n",
       "      <td>1381.00</td>\n",
       "      <td>1381.00</td>\n",
       "      <td>1381.00</td>\n",
       "      <td>1381.00</td>\n",
       "    </tr>\n",
       "    <tr>\n",
       "      <th>mean</th>\n",
       "      <td>35054.15</td>\n",
       "      <td>52.50</td>\n",
       "      <td>0.35</td>\n",
       "      <td>981.62</td>\n",
       "      <td>37919.58</td>\n",
       "    </tr>\n",
       "    <tr>\n",
       "      <th>std</th>\n",
       "      <td>296465.03</td>\n",
       "      <td>387.51</td>\n",
       "      <td>1.00</td>\n",
       "      <td>1372.40</td>\n",
       "      <td>142149.16</td>\n",
       "    </tr>\n",
       "    <tr>\n",
       "      <th>min</th>\n",
       "      <td>1001.00</td>\n",
       "      <td>0.00</td>\n",
       "      <td>0.00</td>\n",
       "      <td>0.00</td>\n",
       "      <td>0.00</td>\n",
       "    </tr>\n",
       "    <tr>\n",
       "      <th>25%</th>\n",
       "      <td>1814.00</td>\n",
       "      <td>1.00</td>\n",
       "      <td>0.01</td>\n",
       "      <td>64.00</td>\n",
       "      <td>77.00</td>\n",
       "    </tr>\n",
       "    <tr>\n",
       "      <th>50%</th>\n",
       "      <td>3805.00</td>\n",
       "      <td>4.00</td>\n",
       "      <td>0.06</td>\n",
       "      <td>396.00</td>\n",
       "      <td>2123.00</td>\n",
       "    </tr>\n",
       "    <tr>\n",
       "      <th>75%</th>\n",
       "      <td>10734.00</td>\n",
       "      <td>14.00</td>\n",
       "      <td>0.24</td>\n",
       "      <td>1303.00</td>\n",
       "      <td>17435.00</td>\n",
       "    </tr>\n",
       "    <tr>\n",
       "      <th>max</th>\n",
       "      <td>9626374.00</td>\n",
       "      <td>9606.00</td>\n",
       "      <td>13.59</td>\n",
       "      <td>9363.00</td>\n",
       "      <td>2512444.00</td>\n",
       "    </tr>\n",
       "  </tbody>\n",
       "</table>\n",
       "</div>"
      ],
      "text/plain": [
       "             노출수     클릭수  클릭률(%)  평균클릭비용(VAT포함,원)  총비용(VAT포함,원)\n",
       "count    1381.00 1381.00 1381.00          1381.00       1381.00\n",
       "mean    35054.15   52.50    0.35           981.62      37919.58\n",
       "std    296465.03  387.51    1.00          1372.40     142149.16\n",
       "min      1001.00    0.00    0.00             0.00          0.00\n",
       "25%      1814.00    1.00    0.01            64.00         77.00\n",
       "50%      3805.00    4.00    0.06           396.00       2123.00\n",
       "75%     10734.00   14.00    0.24          1303.00      17435.00\n",
       "max   9626374.00 9606.00   13.59          9363.00    2512444.00"
      ]
     },
     "execution_count": 24,
     "metadata": {},
     "output_type": "execute_result"
    }
   ],
   "source": [
    "df_naver.describe()"
   ]
  },
  {
   "cell_type": "markdown",
   "metadata": {},
   "source": [
    "### 중점관리키워드 추출\n",
    "\n",
    "- 노출수, 클릭수 기준 상위 5%에 해당하는 키워드 추출  \n",
    "    - 95 백분위수 찾기 (quantile 함수 사용)  \n",
    "    - 95 백분위수 이상의 노출수 추출  \n",
    "    - 상위 5%에 해당하는 키워드 추출  "
   ]
  },
  {
   "cell_type": "code",
   "execution_count": 25,
   "metadata": {},
   "outputs": [],
   "source": [
    "imp = df_naver['노출수']"
   ]
  },
  {
   "cell_type": "code",
   "execution_count": 26,
   "metadata": {},
   "outputs": [
    {
     "data": {
      "text/plain": [
       "3805.0"
      ]
     },
     "execution_count": 26,
     "metadata": {},
     "output_type": "execute_result"
    }
   ],
   "source": [
    "# 95 백분위 수 찾기\n",
    "imp.quantile()"
   ]
  },
  {
   "cell_type": "code",
   "execution_count": 27,
   "metadata": {},
   "outputs": [
    {
     "data": {
      "text/plain": [
       "3805.0"
      ]
     },
     "execution_count": 27,
     "metadata": {},
     "output_type": "execute_result"
    }
   ],
   "source": [
    "imp.quantile()"
   ]
  },
  {
   "cell_type": "code",
   "execution_count": 28,
   "metadata": {},
   "outputs": [
    {
     "name": "stdout",
     "output_type": "stream",
     "text": [
      "1001.0\n",
      "1001\n"
     ]
    }
   ],
   "source": [
    "print(imp.quantile(0))\n",
    "print(imp.min())"
   ]
  },
  {
   "cell_type": "code",
   "execution_count": 29,
   "metadata": {},
   "outputs": [
    {
     "name": "stdout",
     "output_type": "stream",
     "text": [
      "9626374.0\n",
      "9626374\n"
     ]
    }
   ],
   "source": [
    "print(imp.quantile(1))\n",
    "print(imp.max())"
   ]
  },
  {
   "cell_type": "code",
   "execution_count": 30,
   "metadata": {},
   "outputs": [],
   "source": [
    "imp = imp[imp >= imp.quantile(0.95)]"
   ]
  },
  {
   "cell_type": "code",
   "execution_count": 31,
   "metadata": {},
   "outputs": [
    {
     "data": {
      "text/plain": [
       "0      2319456\n",
       "1       767491\n",
       "2      1137840\n",
       "3       694106\n",
       "4      9626374\n",
       "        ...   \n",
       "698     196862\n",
       "741      94933\n",
       "763      82858\n",
       "777     126393\n",
       "780      90041\n",
       "Name: 노출수, Length: 70, dtype: int64"
      ]
     },
     "execution_count": 31,
     "metadata": {},
     "output_type": "execute_result"
    }
   ],
   "source": [
    "imp"
   ]
  },
  {
   "cell_type": "code",
   "execution_count": 32,
   "metadata": {},
   "outputs": [],
   "source": [
    "df_index = df_naver.set_index('키워드')"
   ]
  },
  {
   "cell_type": "code",
   "execution_count": 33,
   "metadata": {},
   "outputs": [
    {
     "data": {
      "text/html": [
       "<div>\n",
       "<style scoped>\n",
       "    .dataframe tbody tr th:only-of-type {\n",
       "        vertical-align: middle;\n",
       "    }\n",
       "\n",
       "    .dataframe tbody tr th {\n",
       "        vertical-align: top;\n",
       "    }\n",
       "\n",
       "    .dataframe thead th {\n",
       "        text-align: right;\n",
       "    }\n",
       "</style>\n",
       "<table border=\"1\" class=\"dataframe\">\n",
       "  <thead>\n",
       "    <tr style=\"text-align: right;\">\n",
       "      <th></th>\n",
       "      <th>광고그룹</th>\n",
       "      <th>노출수</th>\n",
       "      <th>클릭수</th>\n",
       "      <th>클릭률(%)</th>\n",
       "      <th>평균클릭비용(VAT포함,원)</th>\n",
       "      <th>총비용(VAT포함,원)</th>\n",
       "    </tr>\n",
       "    <tr>\n",
       "      <th>키워드</th>\n",
       "      <th></th>\n",
       "      <th></th>\n",
       "      <th></th>\n",
       "      <th></th>\n",
       "      <th></th>\n",
       "      <th></th>\n",
       "    </tr>\n",
       "  </thead>\n",
       "  <tbody>\n",
       "    <tr>\n",
       "      <th>-</th>\n",
       "      <td>올인원 패키지 : 디자인 툴_파워컨텐츠_포토샵</td>\n",
       "      <td>2319456</td>\n",
       "      <td>9606</td>\n",
       "      <td>0.41</td>\n",
       "      <td>262</td>\n",
       "      <td>2512444</td>\n",
       "    </tr>\n",
       "    <tr>\n",
       "      <th>-</th>\n",
       "      <td>올인원 패키지 : 업무자동화_VBA</td>\n",
       "      <td>767491</td>\n",
       "      <td>8058</td>\n",
       "      <td>1.05</td>\n",
       "      <td>296</td>\n",
       "      <td>2384965</td>\n",
       "    </tr>\n",
       "    <tr>\n",
       "      <th>일러스트</th>\n",
       "      <td>ㅍAOP 전체_중복키워드_디자인(삭제)</td>\n",
       "      <td>1137840</td>\n",
       "      <td>324</td>\n",
       "      <td>0.03</td>\n",
       "      <td>4842</td>\n",
       "      <td>1568699</td>\n",
       "    </tr>\n",
       "    <tr>\n",
       "      <th>-</th>\n",
       "      <td>올인원 패키지 : 데이터 분석 입문 온라인_파콘</td>\n",
       "      <td>694106</td>\n",
       "      <td>1864</td>\n",
       "      <td>0.27</td>\n",
       "      <td>631</td>\n",
       "      <td>1175174</td>\n",
       "    </tr>\n",
       "    <tr>\n",
       "      <th>HTML</th>\n",
       "      <td>3. html</td>\n",
       "      <td>9626374</td>\n",
       "      <td>814</td>\n",
       "      <td>0.01</td>\n",
       "      <td>1408</td>\n",
       "      <td>1145903</td>\n",
       "    </tr>\n",
       "  </tbody>\n",
       "</table>\n",
       "</div>"
      ],
      "text/plain": [
       "                            광고그룹      노출수   클릭수  클릭률(%)  평균클릭비용(VAT포함,원)  \\\n",
       "키워드                                                                        \n",
       "-      올인원 패키지 : 디자인 툴_파워컨텐츠_포토샵  2319456  9606    0.41              262   \n",
       "-            올인원 패키지 : 업무자동화_VBA   767491  8058    1.05              296   \n",
       "일러스트       ㅍAOP 전체_중복키워드_디자인(삭제)  1137840   324    0.03             4842   \n",
       "-     올인원 패키지 : 데이터 분석 입문 온라인_파콘   694106  1864    0.27              631   \n",
       "HTML                     3. html  9626374   814    0.01             1408   \n",
       "\n",
       "      총비용(VAT포함,원)  \n",
       "키워드                 \n",
       "-          2512444  \n",
       "-          2384965  \n",
       "일러스트       1568699  \n",
       "-          1175174  \n",
       "HTML       1145903  "
      ]
     },
     "execution_count": 33,
     "metadata": {},
     "output_type": "execute_result"
    }
   ],
   "source": [
    "df_index.head()"
   ]
  },
  {
   "cell_type": "code",
   "execution_count": 34,
   "metadata": {},
   "outputs": [],
   "source": [
    "imp = df_index['노출수']\n",
    "imp = imp[imp >= imp.quantile(0.95)]"
   ]
  },
  {
   "cell_type": "code",
   "execution_count": 35,
   "metadata": {},
   "outputs": [
    {
     "data": {
      "text/plain": [
       "키워드\n",
       "-       2319456\n",
       "-        767491\n",
       "일러스트    1137840\n",
       "-        694106\n",
       "HTML    9626374\n",
       "Name: 노출수, dtype: int64"
      ]
     },
     "execution_count": 35,
     "metadata": {},
     "output_type": "execute_result"
    }
   ],
   "source": [
    "imp.head()"
   ]
  },
  {
   "cell_type": "code",
   "execution_count": 36,
   "metadata": {},
   "outputs": [],
   "source": [
    "clk = df_index['클릭수']\n",
    "clk = clk[clk >= clk.quantile(0.95)]"
   ]
  },
  {
   "cell_type": "code",
   "execution_count": 37,
   "metadata": {},
   "outputs": [
    {
     "data": {
      "text/plain": [
       "키워드\n",
       "-       9606\n",
       "-       8058\n",
       "일러스트     324\n",
       "-       1864\n",
       "HTML     814\n",
       "Name: 클릭수, dtype: int32"
      ]
     },
     "execution_count": 37,
     "metadata": {},
     "output_type": "execute_result"
    }
   ],
   "source": [
    "clk.head()"
   ]
  },
  {
   "cell_type": "code",
   "execution_count": 38,
   "metadata": {},
   "outputs": [],
   "source": [
    "# 노출수와 클릭수 모두 95 백분위수 이상 인 키워드\n",
    "imp = df_index['노출수']\n",
    "clk = df_index['클릭수']"
   ]
  },
  {
   "cell_type": "code",
   "execution_count": 39,
   "metadata": {},
   "outputs": [],
   "source": [
    "result = df_index[(imp >= imp.quantile(0.95)) & (clk >= clk.quantile(0.95))]"
   ]
  },
  {
   "cell_type": "code",
   "execution_count": 40,
   "metadata": {},
   "outputs": [
    {
     "data": {
      "text/html": [
       "<div>\n",
       "<style scoped>\n",
       "    .dataframe tbody tr th:only-of-type {\n",
       "        vertical-align: middle;\n",
       "    }\n",
       "\n",
       "    .dataframe tbody tr th {\n",
       "        vertical-align: top;\n",
       "    }\n",
       "\n",
       "    .dataframe thead th {\n",
       "        text-align: right;\n",
       "    }\n",
       "</style>\n",
       "<table border=\"1\" class=\"dataframe\">\n",
       "  <thead>\n",
       "    <tr style=\"text-align: right;\">\n",
       "      <th></th>\n",
       "      <th>광고그룹</th>\n",
       "      <th>노출수</th>\n",
       "      <th>클릭수</th>\n",
       "      <th>클릭률(%)</th>\n",
       "      <th>평균클릭비용(VAT포함,원)</th>\n",
       "      <th>총비용(VAT포함,원)</th>\n",
       "    </tr>\n",
       "    <tr>\n",
       "      <th>키워드</th>\n",
       "      <th></th>\n",
       "      <th></th>\n",
       "      <th></th>\n",
       "      <th></th>\n",
       "      <th></th>\n",
       "      <th></th>\n",
       "    </tr>\n",
       "  </thead>\n",
       "  <tbody>\n",
       "    <tr>\n",
       "      <th>-</th>\n",
       "      <td>올인원 패키지 : 디자인 툴_파워컨텐츠_포토샵</td>\n",
       "      <td>2319456</td>\n",
       "      <td>9606</td>\n",
       "      <td>0.41</td>\n",
       "      <td>262</td>\n",
       "      <td>2512444</td>\n",
       "    </tr>\n",
       "    <tr>\n",
       "      <th>-</th>\n",
       "      <td>올인원 패키지 : 업무자동화_VBA</td>\n",
       "      <td>767491</td>\n",
       "      <td>8058</td>\n",
       "      <td>1.05</td>\n",
       "      <td>296</td>\n",
       "      <td>2384965</td>\n",
       "    </tr>\n",
       "    <tr>\n",
       "      <th>일러스트</th>\n",
       "      <td>ㅍAOP 전체_중복키워드_디자인(삭제)</td>\n",
       "      <td>1137840</td>\n",
       "      <td>324</td>\n",
       "      <td>0.03</td>\n",
       "      <td>4842</td>\n",
       "      <td>1568699</td>\n",
       "    </tr>\n",
       "    <tr>\n",
       "      <th>-</th>\n",
       "      <td>올인원 패키지 : 데이터 분석 입문 온라인_파콘</td>\n",
       "      <td>694106</td>\n",
       "      <td>1864</td>\n",
       "      <td>0.27</td>\n",
       "      <td>631</td>\n",
       "      <td>1175174</td>\n",
       "    </tr>\n",
       "    <tr>\n",
       "      <th>HTML</th>\n",
       "      <td>3. html</td>\n",
       "      <td>9626374</td>\n",
       "      <td>814</td>\n",
       "      <td>0.01</td>\n",
       "      <td>1408</td>\n",
       "      <td>1145903</td>\n",
       "    </tr>\n",
       "  </tbody>\n",
       "</table>\n",
       "</div>"
      ],
      "text/plain": [
       "                            광고그룹      노출수   클릭수  클릭률(%)  평균클릭비용(VAT포함,원)  \\\n",
       "키워드                                                                        \n",
       "-      올인원 패키지 : 디자인 툴_파워컨텐츠_포토샵  2319456  9606    0.41              262   \n",
       "-            올인원 패키지 : 업무자동화_VBA   767491  8058    1.05              296   \n",
       "일러스트       ㅍAOP 전체_중복키워드_디자인(삭제)  1137840   324    0.03             4842   \n",
       "-     올인원 패키지 : 데이터 분석 입문 온라인_파콘   694106  1864    0.27              631   \n",
       "HTML                     3. html  9626374   814    0.01             1408   \n",
       "\n",
       "      총비용(VAT포함,원)  \n",
       "키워드                 \n",
       "-          2512444  \n",
       "-          2384965  \n",
       "일러스트       1568699  \n",
       "-          1175174  \n",
       "HTML       1145903  "
      ]
     },
     "execution_count": 40,
     "metadata": {},
     "output_type": "execute_result"
    }
   ],
   "source": [
    "result.head()"
   ]
  },
  {
   "cell_type": "code",
   "execution_count": 41,
   "metadata": {},
   "outputs": [
    {
     "data": {
      "text/plain": [
       "Index(['-', '-', '일러스트', '-', 'HTML', '파이썬', '코딩', 'C언어', '가상화폐', '포토샵',\n",
       "       '블록체인', '엑셀', '-', '포토샵', '컴퓨터활용능력', '컴퓨터활용능력2급', '컴퓨터활용능력1급', '포토샵',\n",
       "       '-', '프리미어프로', '폰트', '스케치', '포토샵', '글씨체', '한글폰트', '마블', '바이럴마케팅'],\n",
       "      dtype='object', name='키워드')"
      ]
     },
     "execution_count": 41,
     "metadata": {},
     "output_type": "execute_result"
    }
   ],
   "source": [
    "result.index"
   ]
  },
  {
   "cell_type": "markdown",
   "metadata": {},
   "source": [
    "### 노출수, 클릭수 기준 상위 5%의 키워드가 아닌데도 비용이 많이 쓰이는 키워드\n",
    "\n",
    "- 노출수 95백분위수 미만  \n",
    "- 클릭수 95백분위수 미만  \n",
    "- 총비용 85백분위수 이상  \n",
    "- 총비용 95백분위수 미만  "
   ]
  },
  {
   "cell_type": "code",
   "execution_count": 42,
   "metadata": {},
   "outputs": [],
   "source": [
    "cost = df_index['총비용(VAT포함,원)']"
   ]
  },
  {
   "cell_type": "code",
   "execution_count": 43,
   "metadata": {},
   "outputs": [],
   "source": [
    "result = df_index[(imp < imp.quantile(0.95)) & (clk < clk.quantile(0.95))\n",
    "                  &\n",
    "                 (cost >= cost.quantile(0.85)) & (cost < cost.quantile(0.95))]"
   ]
  },
  {
   "cell_type": "code",
   "execution_count": 44,
   "metadata": {},
   "outputs": [
    {
     "data": {
      "text/plain": [
       "Index(['온라인마케팅교육', '온라인마케팅', '어플제작비용', '부동산경매', '퍼포먼스마케팅', '블록체인', 'C++',\n",
       "       '게임만드는프로그램', '엑셀배우기', '앱만들기', '영상제작', '쇼핑몰제작', '에프터이펙트', '어플리케이션제작',\n",
       "       '강남빌딩매매', '웹디자인', '디지털마케팅', '포토샵강의', '구글애널리틱스자격증', 'PYTHON', '페이스북광고',\n",
       "       '유튜브마케팅', '게임제작', '부동산투자', '마케팅전략', 'PYTHON', '홈페이지만들기', 'B2B사이트',\n",
       "       'JAVASCRIPT', '파이썬강좌', '인스타그램광고', '동영상제작', 'SEO', '쇼핑몰창업', '인터넷쇼핑몰',\n",
       "       '게임프로그래밍학원', '프로그래밍', '서울빌딩매매', '데이터사이언스', '모바일게임제작', '엑셀학원',\n",
       "       '유튜브크리에이터', '엑셀VBA', '영상편집학원', '텐서플로우', '쇼핑몰홈페이지제작', '엑셀교육', '그로스해킹',\n",
       "       '게임개발', '광고대행사', '통계학원', '모바일앱개발', '안드로이드앱만들기', '파이썬기초', '하이브리드앱',\n",
       "       '온라인마케팅', '인디자인', '검색엔진최적화', '엑셀실무', '인터넷쇼핑몰제작', '상가빌딩매매', '퍼포먼스마케팅',\n",
       "       '쇼핑몰', 'UX디자인', '유니티강좌', 'VBA', '코딩이란', 'SNS마케팅', 'GA자격증', '콘텐츠제작',\n",
       "       '구글애널리틱스', 'UI디자인', '1인미디어', '포토샵자격증', '하이브리드앱', '포토샵자격증', '브랜드네이밍',\n",
       "       '리플렛디자인', '데이터사이언티스트', '유니티3D', '자바스크립트', '일러스트레이터강좌', '데이터분석준전문가',\n",
       "       '유튜브편집', '모션그래픽', '리플렛디자인', 'SPRING', '어도비일러스트레이터', 'SNS광고', '쇼핑몰촬영',\n",
       "       '브랜드마케팅', '데이터분석', 'PHP', 'UXUI', 'SQL', 'UI디자인', '웹크롤링'],\n",
       "      dtype='object', name='키워드')"
      ]
     },
     "execution_count": 44,
     "metadata": {},
     "output_type": "execute_result"
    }
   ],
   "source": [
    "result.index"
   ]
  },
  {
   "cell_type": "markdown",
   "metadata": {},
   "source": [
    "### 광고그룹 분석 \n",
    "\n",
    "- as-is : 키워드 기준 분석 \n",
    "    - 키워드의 노출수/ 클릭수 / 총 비용 ...\n",
    "- to-do : 광고그룹 기준 분석 \n",
    "    - 데이터의 구성을 광고 그룹 기준으로 변경\n",
    "    - 광고 그룹의 노출수/ 클릭수 / 총비용 \n",
    "    - 그룹바이 함수를 사용해서 진행 ..."
   ]
  },
  {
   "cell_type": "code",
   "execution_count": 45,
   "metadata": {},
   "outputs": [],
   "source": [
    "grouped = df.groupby('광고그룹')"
   ]
  },
  {
   "cell_type": "code",
   "execution_count": 46,
   "metadata": {},
   "outputs": [
    {
     "data": {
      "text/html": [
       "<div>\n",
       "<style scoped>\n",
       "    .dataframe tbody tr th:only-of-type {\n",
       "        vertical-align: middle;\n",
       "    }\n",
       "\n",
       "    .dataframe tbody tr th {\n",
       "        vertical-align: top;\n",
       "    }\n",
       "\n",
       "    .dataframe thead th {\n",
       "        text-align: right;\n",
       "    }\n",
       "</style>\n",
       "<table border=\"1\" class=\"dataframe\">\n",
       "  <thead>\n",
       "    <tr style=\"text-align: right;\">\n",
       "      <th></th>\n",
       "      <th>키워드</th>\n",
       "      <th>노출수</th>\n",
       "      <th>클릭수</th>\n",
       "      <th>클릭률(%)</th>\n",
       "      <th>평균클릭비용(VAT포함,원)</th>\n",
       "      <th>총비용(VAT포함,원)</th>\n",
       "    </tr>\n",
       "    <tr>\n",
       "      <th>광고그룹</th>\n",
       "      <th></th>\n",
       "      <th></th>\n",
       "      <th></th>\n",
       "      <th></th>\n",
       "      <th></th>\n",
       "      <th></th>\n",
       "    </tr>\n",
       "  </thead>\n",
       "  <tbody>\n",
       "    <tr>\n",
       "      <th>#000_마케팅 전체_main</th>\n",
       "      <td>48</td>\n",
       "      <td>48</td>\n",
       "      <td>48</td>\n",
       "      <td>48</td>\n",
       "      <td>48</td>\n",
       "      <td>48</td>\n",
       "    </tr>\n",
       "    <tr>\n",
       "      <th>001.BASIC DESIGN</th>\n",
       "      <td>9</td>\n",
       "      <td>9</td>\n",
       "      <td>9</td>\n",
       "      <td>9</td>\n",
       "      <td>9</td>\n",
       "      <td>9</td>\n",
       "    </tr>\n",
       "    <tr>\n",
       "      <th>001.데이터분석/ 통계</th>\n",
       "      <td>10</td>\n",
       "      <td>10</td>\n",
       "      <td>10</td>\n",
       "      <td>10</td>\n",
       "      <td>10</td>\n",
       "      <td>10</td>\n",
       "    </tr>\n",
       "    <tr>\n",
       "      <th>002.R</th>\n",
       "      <td>9</td>\n",
       "      <td>9</td>\n",
       "      <td>9</td>\n",
       "      <td>9</td>\n",
       "      <td>9</td>\n",
       "      <td>9</td>\n",
       "    </tr>\n",
       "    <tr>\n",
       "      <th>002.UX/UI</th>\n",
       "      <td>5</td>\n",
       "      <td>5</td>\n",
       "      <td>5</td>\n",
       "      <td>5</td>\n",
       "      <td>5</td>\n",
       "      <td>5</td>\n",
       "    </tr>\n",
       "    <tr>\n",
       "      <th>...</th>\n",
       "      <td>...</td>\n",
       "      <td>...</td>\n",
       "      <td>...</td>\n",
       "      <td>...</td>\n",
       "      <td>...</td>\n",
       "      <td>...</td>\n",
       "    </tr>\n",
       "    <tr>\n",
       "      <th>포토샵 유치원_일러스트레이터 유치원</th>\n",
       "      <td>13</td>\n",
       "      <td>13</td>\n",
       "      <td>13</td>\n",
       "      <td>13</td>\n",
       "      <td>13</td>\n",
       "      <td>13</td>\n",
       "    </tr>\n",
       "    <tr>\n",
       "      <th>프로그래밍 유치원</th>\n",
       "      <td>8</td>\n",
       "      <td>8</td>\n",
       "      <td>8</td>\n",
       "      <td>8</td>\n",
       "      <td>8</td>\n",
       "      <td>8</td>\n",
       "    </tr>\n",
       "    <tr>\n",
       "      <th>프로그래밍 전체</th>\n",
       "      <td>12</td>\n",
       "      <td>12</td>\n",
       "      <td>12</td>\n",
       "      <td>12</td>\n",
       "      <td>12</td>\n",
       "      <td>12</td>\n",
       "    </tr>\n",
       "    <tr>\n",
       "      <th>프로그래밍 전체_파워컨텐츠_블록체인(삭제)</th>\n",
       "      <td>3</td>\n",
       "      <td>3</td>\n",
       "      <td>3</td>\n",
       "      <td>3</td>\n",
       "      <td>3</td>\n",
       "      <td>3</td>\n",
       "    </tr>\n",
       "    <tr>\n",
       "      <th>프론트엔드 개발 스쿨 12기_기존 키워드</th>\n",
       "      <td>1</td>\n",
       "      <td>1</td>\n",
       "      <td>1</td>\n",
       "      <td>1</td>\n",
       "      <td>1</td>\n",
       "      <td>1</td>\n",
       "    </tr>\n",
       "  </tbody>\n",
       "</table>\n",
       "<p>186 rows × 6 columns</p>\n",
       "</div>"
      ],
      "text/plain": [
       "                         키워드  노출수  클릭수  클릭률(%)  평균클릭비용(VAT포함,원)  총비용(VAT포함,원)\n",
       "광고그룹                                                                         \n",
       "#000_마케팅 전체_main          48   48   48      48               48            48\n",
       "001.BASIC DESIGN           9    9    9       9                9             9\n",
       "001.데이터분석/ 통계             10   10   10      10               10            10\n",
       "002.R                      9    9    9       9                9             9\n",
       "002.UX/UI                  5    5    5       5                5             5\n",
       "...                      ...  ...  ...     ...              ...           ...\n",
       "포토샵 유치원_일러스트레이터 유치원       13   13   13      13               13            13\n",
       "프로그래밍 유치원                  8    8    8       8                8             8\n",
       "프로그래밍 전체                  12   12   12      12               12            12\n",
       "프로그래밍 전체_파워컨텐츠_블록체인(삭제)    3    3    3       3                3             3\n",
       "프론트엔드 개발 스쿨 12기_기존 키워드     1    1    1       1                1             1\n",
       "\n",
       "[186 rows x 6 columns]"
      ]
     },
     "execution_count": 46,
     "metadata": {},
     "output_type": "execute_result"
    }
   ],
   "source": [
    "# 갯수\n",
    "grouped.count()"
   ]
  },
  {
   "cell_type": "code",
   "execution_count": 47,
   "metadata": {},
   "outputs": [
    {
     "data": {
      "text/html": [
       "<div>\n",
       "<style scoped>\n",
       "    .dataframe tbody tr th:only-of-type {\n",
       "        vertical-align: middle;\n",
       "    }\n",
       "\n",
       "    .dataframe tbody tr th {\n",
       "        vertical-align: top;\n",
       "    }\n",
       "\n",
       "    .dataframe thead th {\n",
       "        text-align: right;\n",
       "    }\n",
       "</style>\n",
       "<table border=\"1\" class=\"dataframe\">\n",
       "  <thead>\n",
       "    <tr style=\"text-align: right;\">\n",
       "      <th></th>\n",
       "      <th>노출수</th>\n",
       "      <th>클릭수</th>\n",
       "      <th>클릭률(%)</th>\n",
       "      <th>평균클릭비용(VAT포함,원)</th>\n",
       "      <th>총비용(VAT포함,원)</th>\n",
       "    </tr>\n",
       "    <tr>\n",
       "      <th>광고그룹</th>\n",
       "      <th></th>\n",
       "      <th></th>\n",
       "      <th></th>\n",
       "      <th></th>\n",
       "      <th></th>\n",
       "    </tr>\n",
       "  </thead>\n",
       "  <tbody>\n",
       "    <tr>\n",
       "      <th>#000_마케팅 전체_main</th>\n",
       "      <td>14780.15</td>\n",
       "      <td>8.35</td>\n",
       "      <td>0.18</td>\n",
       "      <td>625.06</td>\n",
       "      <td>7243.96</td>\n",
       "    </tr>\n",
       "    <tr>\n",
       "      <th>001.BASIC DESIGN</th>\n",
       "      <td>5738.56</td>\n",
       "      <td>6.67</td>\n",
       "      <td>0.23</td>\n",
       "      <td>298.67</td>\n",
       "      <td>2427.33</td>\n",
       "    </tr>\n",
       "    <tr>\n",
       "      <th>001.데이터분석/ 통계</th>\n",
       "      <td>3715.00</td>\n",
       "      <td>20.20</td>\n",
       "      <td>0.89</td>\n",
       "      <td>1021.70</td>\n",
       "      <td>19575.60</td>\n",
       "    </tr>\n",
       "    <tr>\n",
       "      <th>002.R</th>\n",
       "      <td>13413.78</td>\n",
       "      <td>8.67</td>\n",
       "      <td>0.11</td>\n",
       "      <td>360.00</td>\n",
       "      <td>4796.00</td>\n",
       "    </tr>\n",
       "    <tr>\n",
       "      <th>002.UX/UI</th>\n",
       "      <td>3090.80</td>\n",
       "      <td>4.00</td>\n",
       "      <td>0.08</td>\n",
       "      <td>70.00</td>\n",
       "      <td>550.00</td>\n",
       "    </tr>\n",
       "    <tr>\n",
       "      <th>...</th>\n",
       "      <td>...</td>\n",
       "      <td>...</td>\n",
       "      <td>...</td>\n",
       "      <td>...</td>\n",
       "      <td>...</td>\n",
       "    </tr>\n",
       "    <tr>\n",
       "      <th>포토샵 유치원_일러스트레이터 유치원</th>\n",
       "      <td>72092.69</td>\n",
       "      <td>16.77</td>\n",
       "      <td>0.05</td>\n",
       "      <td>648.38</td>\n",
       "      <td>15781.62</td>\n",
       "    </tr>\n",
       "    <tr>\n",
       "      <th>프로그래밍 유치원</th>\n",
       "      <td>5921.62</td>\n",
       "      <td>7.75</td>\n",
       "      <td>0.23</td>\n",
       "      <td>2032.50</td>\n",
       "      <td>23617.00</td>\n",
       "    </tr>\n",
       "    <tr>\n",
       "      <th>프로그래밍 전체</th>\n",
       "      <td>90375.00</td>\n",
       "      <td>9.17</td>\n",
       "      <td>0.02</td>\n",
       "      <td>123.92</td>\n",
       "      <td>1626.17</td>\n",
       "    </tr>\n",
       "    <tr>\n",
       "      <th>프로그래밍 전체_파워컨텐츠_블록체인(삭제)</th>\n",
       "      <td>65353.33</td>\n",
       "      <td>2344.33</td>\n",
       "      <td>3.64</td>\n",
       "      <td>192.67</td>\n",
       "      <td>431159.67</td>\n",
       "    </tr>\n",
       "    <tr>\n",
       "      <th>프론트엔드 개발 스쿨 12기_기존 키워드</th>\n",
       "      <td>2015.00</td>\n",
       "      <td>2.00</td>\n",
       "      <td>0.10</td>\n",
       "      <td>64.00</td>\n",
       "      <td>154.00</td>\n",
       "    </tr>\n",
       "  </tbody>\n",
       "</table>\n",
       "<p>186 rows × 5 columns</p>\n",
       "</div>"
      ],
      "text/plain": [
       "                             노출수     클릭수  클릭률(%)  평균클릭비용(VAT포함,원)  \\\n",
       "광고그룹                                                                \n",
       "#000_마케팅 전체_main        14780.15    8.35    0.18           625.06   \n",
       "001.BASIC DESIGN         5738.56    6.67    0.23           298.67   \n",
       "001.데이터분석/ 통계            3715.00   20.20    0.89          1021.70   \n",
       "002.R                   13413.78    8.67    0.11           360.00   \n",
       "002.UX/UI                3090.80    4.00    0.08            70.00   \n",
       "...                          ...     ...     ...              ...   \n",
       "포토샵 유치원_일러스트레이터 유치원     72092.69   16.77    0.05           648.38   \n",
       "프로그래밍 유치원                5921.62    7.75    0.23          2032.50   \n",
       "프로그래밍 전체                90375.00    9.17    0.02           123.92   \n",
       "프로그래밍 전체_파워컨텐츠_블록체인(삭제) 65353.33 2344.33    3.64           192.67   \n",
       "프론트엔드 개발 스쿨 12기_기존 키워드   2015.00    2.00    0.10            64.00   \n",
       "\n",
       "                         총비용(VAT포함,원)  \n",
       "광고그룹                                   \n",
       "#000_마케팅 전체_main              7243.96  \n",
       "001.BASIC DESIGN              2427.33  \n",
       "001.데이터분석/ 통계                19575.60  \n",
       "002.R                         4796.00  \n",
       "002.UX/UI                      550.00  \n",
       "...                               ...  \n",
       "포토샵 유치원_일러스트레이터 유치원          15781.62  \n",
       "프로그래밍 유치원                    23617.00  \n",
       "프로그래밍 전체                      1626.17  \n",
       "프로그래밍 전체_파워컨텐츠_블록체인(삭제)     431159.67  \n",
       "프론트엔드 개발 스쿨 12기_기존 키워드         154.00  \n",
       "\n",
       "[186 rows x 5 columns]"
      ]
     },
     "execution_count": 47,
     "metadata": {},
     "output_type": "execute_result"
    }
   ],
   "source": [
    "# 평균값\n",
    "grouped.mean()"
   ]
  },
  {
   "cell_type": "code",
   "execution_count": 48,
   "metadata": {},
   "outputs": [
    {
     "data": {
      "text/html": [
       "<div>\n",
       "<style scoped>\n",
       "    .dataframe tbody tr th:only-of-type {\n",
       "        vertical-align: middle;\n",
       "    }\n",
       "\n",
       "    .dataframe tbody tr th {\n",
       "        vertical-align: top;\n",
       "    }\n",
       "\n",
       "    .dataframe thead th {\n",
       "        text-align: right;\n",
       "    }\n",
       "</style>\n",
       "<table border=\"1\" class=\"dataframe\">\n",
       "  <thead>\n",
       "    <tr style=\"text-align: right;\">\n",
       "      <th></th>\n",
       "      <th>노출수</th>\n",
       "      <th>클릭수</th>\n",
       "      <th>클릭률(%)</th>\n",
       "      <th>평균클릭비용(VAT포함,원)</th>\n",
       "      <th>총비용(VAT포함,원)</th>\n",
       "    </tr>\n",
       "    <tr>\n",
       "      <th>광고그룹</th>\n",
       "      <th></th>\n",
       "      <th></th>\n",
       "      <th></th>\n",
       "      <th></th>\n",
       "      <th></th>\n",
       "    </tr>\n",
       "  </thead>\n",
       "  <tbody>\n",
       "    <tr>\n",
       "      <th>#000_마케팅 전체_main</th>\n",
       "      <td>2765.00</td>\n",
       "      <td>4.00</td>\n",
       "      <td>0.05</td>\n",
       "      <td>766.00</td>\n",
       "      <td>2458.50</td>\n",
       "    </tr>\n",
       "    <tr>\n",
       "      <th>001.BASIC DESIGN</th>\n",
       "      <td>5524.00</td>\n",
       "      <td>2.00</td>\n",
       "      <td>0.03</td>\n",
       "      <td>358.00</td>\n",
       "      <td>1023.00</td>\n",
       "    </tr>\n",
       "    <tr>\n",
       "      <th>001.데이터분석/ 통계</th>\n",
       "      <td>1813.00</td>\n",
       "      <td>13.50</td>\n",
       "      <td>0.57</td>\n",
       "      <td>1097.00</td>\n",
       "      <td>13464.00</td>\n",
       "    </tr>\n",
       "    <tr>\n",
       "      <th>002.R</th>\n",
       "      <td>5184.00</td>\n",
       "      <td>4.00</td>\n",
       "      <td>0.03</td>\n",
       "      <td>119.00</td>\n",
       "      <td>1287.00</td>\n",
       "    </tr>\n",
       "    <tr>\n",
       "      <th>002.UX/UI</th>\n",
       "      <td>2649.00</td>\n",
       "      <td>1.00</td>\n",
       "      <td>0.08</td>\n",
       "      <td>73.00</td>\n",
       "      <td>88.00</td>\n",
       "    </tr>\n",
       "    <tr>\n",
       "      <th>...</th>\n",
       "      <td>...</td>\n",
       "      <td>...</td>\n",
       "      <td>...</td>\n",
       "      <td>...</td>\n",
       "      <td>...</td>\n",
       "    </tr>\n",
       "    <tr>\n",
       "      <th>포토샵 유치원_일러스트레이터 유치원</th>\n",
       "      <td>5763.00</td>\n",
       "      <td>4.00</td>\n",
       "      <td>0.02</td>\n",
       "      <td>853.00</td>\n",
       "      <td>2706.00</td>\n",
       "    </tr>\n",
       "    <tr>\n",
       "      <th>프로그래밍 유치원</th>\n",
       "      <td>3748.00</td>\n",
       "      <td>3.00</td>\n",
       "      <td>0.11</td>\n",
       "      <td>1764.00</td>\n",
       "      <td>8002.50</td>\n",
       "    </tr>\n",
       "    <tr>\n",
       "      <th>프로그래밍 전체</th>\n",
       "      <td>3455.50</td>\n",
       "      <td>1.00</td>\n",
       "      <td>0.01</td>\n",
       "      <td>130.50</td>\n",
       "      <td>225.50</td>\n",
       "    </tr>\n",
       "    <tr>\n",
       "      <th>프로그래밍 전체_파워컨텐츠_블록체인(삭제)</th>\n",
       "      <td>64981.00</td>\n",
       "      <td>2798.00</td>\n",
       "      <td>3.52</td>\n",
       "      <td>240.00</td>\n",
       "      <td>334961.00</td>\n",
       "    </tr>\n",
       "    <tr>\n",
       "      <th>프론트엔드 개발 스쿨 12기_기존 키워드</th>\n",
       "      <td>2015.00</td>\n",
       "      <td>2.00</td>\n",
       "      <td>0.10</td>\n",
       "      <td>64.00</td>\n",
       "      <td>154.00</td>\n",
       "    </tr>\n",
       "  </tbody>\n",
       "</table>\n",
       "<p>186 rows × 5 columns</p>\n",
       "</div>"
      ],
      "text/plain": [
       "                             노출수     클릭수  클릭률(%)  평균클릭비용(VAT포함,원)  \\\n",
       "광고그룹                                                                \n",
       "#000_마케팅 전체_main         2765.00    4.00    0.05           766.00   \n",
       "001.BASIC DESIGN         5524.00    2.00    0.03           358.00   \n",
       "001.데이터분석/ 통계            1813.00   13.50    0.57          1097.00   \n",
       "002.R                    5184.00    4.00    0.03           119.00   \n",
       "002.UX/UI                2649.00    1.00    0.08            73.00   \n",
       "...                          ...     ...     ...              ...   \n",
       "포토샵 유치원_일러스트레이터 유치원      5763.00    4.00    0.02           853.00   \n",
       "프로그래밍 유치원                3748.00    3.00    0.11          1764.00   \n",
       "프로그래밍 전체                 3455.50    1.00    0.01           130.50   \n",
       "프로그래밍 전체_파워컨텐츠_블록체인(삭제) 64981.00 2798.00    3.52           240.00   \n",
       "프론트엔드 개발 스쿨 12기_기존 키워드   2015.00    2.00    0.10            64.00   \n",
       "\n",
       "                         총비용(VAT포함,원)  \n",
       "광고그룹                                   \n",
       "#000_마케팅 전체_main              2458.50  \n",
       "001.BASIC DESIGN              1023.00  \n",
       "001.데이터분석/ 통계                13464.00  \n",
       "002.R                         1287.00  \n",
       "002.UX/UI                       88.00  \n",
       "...                               ...  \n",
       "포토샵 유치원_일러스트레이터 유치원           2706.00  \n",
       "프로그래밍 유치원                     8002.50  \n",
       "프로그래밍 전체                       225.50  \n",
       "프로그래밍 전체_파워컨텐츠_블록체인(삭제)     334961.00  \n",
       "프론트엔드 개발 스쿨 12기_기존 키워드         154.00  \n",
       "\n",
       "[186 rows x 5 columns]"
      ]
     },
     "execution_count": 48,
     "metadata": {},
     "output_type": "execute_result"
    }
   ],
   "source": [
    "# 중앙값\n",
    "grouped.median()"
   ]
  },
  {
   "cell_type": "code",
   "execution_count": 49,
   "metadata": {},
   "outputs": [
    {
     "data": {
      "text/html": [
       "<div>\n",
       "<style scoped>\n",
       "    .dataframe tbody tr th:only-of-type {\n",
       "        vertical-align: middle;\n",
       "    }\n",
       "\n",
       "    .dataframe tbody tr th {\n",
       "        vertical-align: top;\n",
       "    }\n",
       "\n",
       "    .dataframe thead th {\n",
       "        text-align: right;\n",
       "    }\n",
       "</style>\n",
       "<table border=\"1\" class=\"dataframe\">\n",
       "  <thead>\n",
       "    <tr style=\"text-align: right;\">\n",
       "      <th></th>\n",
       "      <th>노출수</th>\n",
       "      <th>클릭수</th>\n",
       "      <th>클릭률(%)</th>\n",
       "      <th>평균클릭비용(VAT포함,원)</th>\n",
       "      <th>총비용(VAT포함,원)</th>\n",
       "    </tr>\n",
       "    <tr>\n",
       "      <th>광고그룹</th>\n",
       "      <th></th>\n",
       "      <th></th>\n",
       "      <th></th>\n",
       "      <th></th>\n",
       "      <th></th>\n",
       "    </tr>\n",
       "  </thead>\n",
       "  <tbody>\n",
       "    <tr>\n",
       "      <th>#000_마케팅 전체_main</th>\n",
       "      <td>709447</td>\n",
       "      <td>401</td>\n",
       "      <td>8.83</td>\n",
       "      <td>30003</td>\n",
       "      <td>347710</td>\n",
       "    </tr>\n",
       "    <tr>\n",
       "      <th>001.BASIC DESIGN</th>\n",
       "      <td>51647</td>\n",
       "      <td>60</td>\n",
       "      <td>2.04</td>\n",
       "      <td>2688</td>\n",
       "      <td>21846</td>\n",
       "    </tr>\n",
       "    <tr>\n",
       "      <th>001.데이터분석/ 통계</th>\n",
       "      <td>37150</td>\n",
       "      <td>202</td>\n",
       "      <td>8.89</td>\n",
       "      <td>10217</td>\n",
       "      <td>195756</td>\n",
       "    </tr>\n",
       "    <tr>\n",
       "      <th>002.R</th>\n",
       "      <td>120724</td>\n",
       "      <td>78</td>\n",
       "      <td>1.03</td>\n",
       "      <td>3240</td>\n",
       "      <td>43164</td>\n",
       "    </tr>\n",
       "    <tr>\n",
       "      <th>002.UX/UI</th>\n",
       "      <td>15454</td>\n",
       "      <td>20</td>\n",
       "      <td>0.42</td>\n",
       "      <td>350</td>\n",
       "      <td>2750</td>\n",
       "    </tr>\n",
       "    <tr>\n",
       "      <th>...</th>\n",
       "      <td>...</td>\n",
       "      <td>...</td>\n",
       "      <td>...</td>\n",
       "      <td>...</td>\n",
       "      <td>...</td>\n",
       "    </tr>\n",
       "    <tr>\n",
       "      <th>포토샵 유치원_일러스트레이터 유치원</th>\n",
       "      <td>937205</td>\n",
       "      <td>218</td>\n",
       "      <td>0.69</td>\n",
       "      <td>8429</td>\n",
       "      <td>205161</td>\n",
       "    </tr>\n",
       "    <tr>\n",
       "      <th>프로그래밍 유치원</th>\n",
       "      <td>47373</td>\n",
       "      <td>62</td>\n",
       "      <td>1.84</td>\n",
       "      <td>16260</td>\n",
       "      <td>188936</td>\n",
       "    </tr>\n",
       "    <tr>\n",
       "      <th>프로그래밍 전체</th>\n",
       "      <td>1084500</td>\n",
       "      <td>110</td>\n",
       "      <td>0.26</td>\n",
       "      <td>1487</td>\n",
       "      <td>19514</td>\n",
       "    </tr>\n",
       "    <tr>\n",
       "      <th>프로그래밍 전체_파워컨텐츠_블록체인(삭제)</th>\n",
       "      <td>196060</td>\n",
       "      <td>7033</td>\n",
       "      <td>10.93</td>\n",
       "      <td>578</td>\n",
       "      <td>1293479</td>\n",
       "    </tr>\n",
       "    <tr>\n",
       "      <th>프론트엔드 개발 스쿨 12기_기존 키워드</th>\n",
       "      <td>2015</td>\n",
       "      <td>2</td>\n",
       "      <td>0.10</td>\n",
       "      <td>64</td>\n",
       "      <td>154</td>\n",
       "    </tr>\n",
       "  </tbody>\n",
       "</table>\n",
       "<p>186 rows × 5 columns</p>\n",
       "</div>"
      ],
      "text/plain": [
       "                             노출수   클릭수  클릭률(%)  평균클릭비용(VAT포함,원)  총비용(VAT포함,원)\n",
       "광고그룹                                                                         \n",
       "#000_마케팅 전체_main          709447   401    8.83            30003        347710\n",
       "001.BASIC DESIGN           51647    60    2.04             2688         21846\n",
       "001.데이터분석/ 통계              37150   202    8.89            10217        195756\n",
       "002.R                     120724    78    1.03             3240         43164\n",
       "002.UX/UI                  15454    20    0.42              350          2750\n",
       "...                          ...   ...     ...              ...           ...\n",
       "포토샵 유치원_일러스트레이터 유치원       937205   218    0.69             8429        205161\n",
       "프로그래밍 유치원                  47373    62    1.84            16260        188936\n",
       "프로그래밍 전체                 1084500   110    0.26             1487         19514\n",
       "프로그래밍 전체_파워컨텐츠_블록체인(삭제)   196060  7033   10.93              578       1293479\n",
       "프론트엔드 개발 스쿨 12기_기존 키워드      2015     2    0.10               64           154\n",
       "\n",
       "[186 rows x 5 columns]"
      ]
     },
     "execution_count": 49,
     "metadata": {},
     "output_type": "execute_result"
    }
   ],
   "source": [
    "# 합 \n",
    "grouped.sum()"
   ]
  },
  {
   "cell_type": "code",
   "execution_count": 50,
   "metadata": {},
   "outputs": [
    {
     "data": {
      "text/html": [
       "<div>\n",
       "<style scoped>\n",
       "    .dataframe tbody tr th:only-of-type {\n",
       "        vertical-align: middle;\n",
       "    }\n",
       "\n",
       "    .dataframe tbody tr th {\n",
       "        vertical-align: top;\n",
       "    }\n",
       "\n",
       "    .dataframe thead th {\n",
       "        text-align: right;\n",
       "    }\n",
       "</style>\n",
       "<table border=\"1\" class=\"dataframe\">\n",
       "  <thead>\n",
       "    <tr style=\"text-align: right;\">\n",
       "      <th></th>\n",
       "      <th>노출수</th>\n",
       "      <th>클릭수</th>\n",
       "      <th>클릭률(%)</th>\n",
       "      <th>평균클릭비용(VAT포함,원)</th>\n",
       "      <th>총비용(VAT포함,원)</th>\n",
       "    </tr>\n",
       "    <tr>\n",
       "      <th>광고그룹</th>\n",
       "      <th></th>\n",
       "      <th></th>\n",
       "      <th></th>\n",
       "      <th></th>\n",
       "      <th></th>\n",
       "    </tr>\n",
       "  </thead>\n",
       "  <tbody>\n",
       "    <tr>\n",
       "      <th>#000_마케팅 전체_main</th>\n",
       "      <td>709447</td>\n",
       "      <td>401</td>\n",
       "      <td>8.83</td>\n",
       "      <td>30003</td>\n",
       "      <td>347710</td>\n",
       "    </tr>\n",
       "    <tr>\n",
       "      <th>001.BASIC DESIGN</th>\n",
       "      <td>51647</td>\n",
       "      <td>60</td>\n",
       "      <td>2.04</td>\n",
       "      <td>2688</td>\n",
       "      <td>21846</td>\n",
       "    </tr>\n",
       "    <tr>\n",
       "      <th>001.데이터분석/ 통계</th>\n",
       "      <td>37150</td>\n",
       "      <td>202</td>\n",
       "      <td>8.89</td>\n",
       "      <td>10217</td>\n",
       "      <td>195756</td>\n",
       "    </tr>\n",
       "    <tr>\n",
       "      <th>002.R</th>\n",
       "      <td>120724</td>\n",
       "      <td>78</td>\n",
       "      <td>1.03</td>\n",
       "      <td>3240</td>\n",
       "      <td>43164</td>\n",
       "    </tr>\n",
       "    <tr>\n",
       "      <th>002.UX/UI</th>\n",
       "      <td>15454</td>\n",
       "      <td>20</td>\n",
       "      <td>0.42</td>\n",
       "      <td>350</td>\n",
       "      <td>2750</td>\n",
       "    </tr>\n",
       "    <tr>\n",
       "      <th>...</th>\n",
       "      <td>...</td>\n",
       "      <td>...</td>\n",
       "      <td>...</td>\n",
       "      <td>...</td>\n",
       "      <td>...</td>\n",
       "    </tr>\n",
       "    <tr>\n",
       "      <th>포토샵 유치원_일러스트레이터 유치원</th>\n",
       "      <td>937205</td>\n",
       "      <td>218</td>\n",
       "      <td>0.69</td>\n",
       "      <td>8429</td>\n",
       "      <td>205161</td>\n",
       "    </tr>\n",
       "    <tr>\n",
       "      <th>프로그래밍 유치원</th>\n",
       "      <td>47373</td>\n",
       "      <td>62</td>\n",
       "      <td>1.84</td>\n",
       "      <td>16260</td>\n",
       "      <td>188936</td>\n",
       "    </tr>\n",
       "    <tr>\n",
       "      <th>프로그래밍 전체</th>\n",
       "      <td>1084500</td>\n",
       "      <td>110</td>\n",
       "      <td>0.26</td>\n",
       "      <td>1487</td>\n",
       "      <td>19514</td>\n",
       "    </tr>\n",
       "    <tr>\n",
       "      <th>프로그래밍 전체_파워컨텐츠_블록체인(삭제)</th>\n",
       "      <td>196060</td>\n",
       "      <td>7033</td>\n",
       "      <td>10.93</td>\n",
       "      <td>578</td>\n",
       "      <td>1293479</td>\n",
       "    </tr>\n",
       "    <tr>\n",
       "      <th>프론트엔드 개발 스쿨 12기_기존 키워드</th>\n",
       "      <td>2015</td>\n",
       "      <td>2</td>\n",
       "      <td>0.10</td>\n",
       "      <td>64</td>\n",
       "      <td>154</td>\n",
       "    </tr>\n",
       "  </tbody>\n",
       "</table>\n",
       "<p>186 rows × 5 columns</p>\n",
       "</div>"
      ],
      "text/plain": [
       "                             노출수   클릭수  클릭률(%)  평균클릭비용(VAT포함,원)  총비용(VAT포함,원)\n",
       "광고그룹                                                                         \n",
       "#000_마케팅 전체_main          709447   401    8.83            30003        347710\n",
       "001.BASIC DESIGN           51647    60    2.04             2688         21846\n",
       "001.데이터분석/ 통계              37150   202    8.89            10217        195756\n",
       "002.R                     120724    78    1.03             3240         43164\n",
       "002.UX/UI                  15454    20    0.42              350          2750\n",
       "...                          ...   ...     ...              ...           ...\n",
       "포토샵 유치원_일러스트레이터 유치원       937205   218    0.69             8429        205161\n",
       "프로그래밍 유치원                  47373    62    1.84            16260        188936\n",
       "프로그래밍 전체                 1084500   110    0.26             1487         19514\n",
       "프로그래밍 전체_파워컨텐츠_블록체인(삭제)   196060  7033   10.93              578       1293479\n",
       "프론트엔드 개발 스쿨 12기_기존 키워드      2015     2    0.10               64           154\n",
       "\n",
       "[186 rows x 5 columns]"
      ]
     },
     "execution_count": 50,
     "metadata": {},
     "output_type": "execute_result"
    }
   ],
   "source": [
    "df_group = grouped.sum()\n",
    "df_group"
   ]
  },
  {
   "cell_type": "code",
   "execution_count": 51,
   "metadata": {},
   "outputs": [
    {
     "data": {
      "text/plain": [
       "광고그룹\n",
       "#000_마케팅 전체_main          0.00\n",
       "001.BASIC DESIGN          0.00\n",
       "001.데이터분석/ 통계             0.01\n",
       "002.R                     0.00\n",
       "002.UX/UI                 0.00\n",
       "                          ... \n",
       "포토샵 유치원_일러스트레이터 유치원       0.00\n",
       "프로그래밍 유치원                 0.00\n",
       "프로그래밍 전체                  0.00\n",
       "프로그래밍 전체_파워컨텐츠_블록체인(삭제)   0.04\n",
       "프론트엔드 개발 스쿨 12기_기존 키워드    0.00\n",
       "Length: 186, dtype: float64"
      ]
     },
     "execution_count": 51,
     "metadata": {},
     "output_type": "execute_result"
    }
   ],
   "source": [
    "# 클릭수/ 노출수\n",
    "df_group['클릭수'] / df_group['노출수']"
   ]
  },
  {
   "cell_type": "code",
   "execution_count": 52,
   "metadata": {},
   "outputs": [],
   "source": [
    "# 클릭률 계산 \n",
    "df_group['클릭률(%)'] = df_group['클릭수'] / df_group['노출수']"
   ]
  },
  {
   "cell_type": "code",
   "execution_count": 53,
   "metadata": {},
   "outputs": [
    {
     "data": {
      "text/plain": [
       "광고그룹\n",
       "#000_마케팅 전체_main          0.00\n",
       "001.BASIC DESIGN          0.00\n",
       "001.데이터분석/ 통계             0.01\n",
       "002.R                     0.00\n",
       "002.UX/UI                 0.00\n",
       "                          ... \n",
       "포토샵 유치원_일러스트레이터 유치원       0.00\n",
       "프로그래밍 유치원                 0.00\n",
       "프로그래밍 전체                  0.00\n",
       "프로그래밍 전체_파워컨텐츠_블록체인(삭제)   0.04\n",
       "프론트엔드 개발 스쿨 12기_기존 키워드    0.00\n",
       "Name: 클릭률(%), Length: 186, dtype: float64"
      ]
     },
     "execution_count": 53,
     "metadata": {},
     "output_type": "execute_result"
    }
   ],
   "source": [
    "df_group['클릭률(%)']"
   ]
  },
  {
   "cell_type": "code",
   "execution_count": 54,
   "metadata": {},
   "outputs": [
    {
     "data": {
      "text/plain": [
       "광고그룹\n",
       "#000_마케팅 전체_main           867.11\n",
       "001.BASIC DESIGN           364.10\n",
       "001.데이터분석/ 통계              969.09\n",
       "002.R                      553.38\n",
       "002.UX/UI                  137.50\n",
       "                            ...  \n",
       "포토샵 유치원_일러스트레이터 유치원        941.11\n",
       "프로그래밍 유치원                 3047.35\n",
       "프로그래밍 전체                   177.40\n",
       "프로그래밍 전체_파워컨텐츠_블록체인(삭제)    183.92\n",
       "프론트엔드 개발 스쿨 12기_기존 키워드      77.00\n",
       "Length: 186, dtype: float64"
      ]
     },
     "execution_count": 54,
     "metadata": {},
     "output_type": "execute_result"
    }
   ],
   "source": [
    "# 총비용 / 클릭수 \n",
    "df_group['총비용(VAT포함,원)'] / df_group['클릭수']"
   ]
  },
  {
   "cell_type": "code",
   "execution_count": 55,
   "metadata": {},
   "outputs": [],
   "source": [
    "df_group['평균클릭비용(VAT포함,원)'] = df_group['총비용(VAT포함,원)'] / df_group['클릭수']"
   ]
  },
  {
   "cell_type": "code",
   "execution_count": 56,
   "metadata": {},
   "outputs": [
    {
     "data": {
      "text/html": [
       "<div>\n",
       "<style scoped>\n",
       "    .dataframe tbody tr th:only-of-type {\n",
       "        vertical-align: middle;\n",
       "    }\n",
       "\n",
       "    .dataframe tbody tr th {\n",
       "        vertical-align: top;\n",
       "    }\n",
       "\n",
       "    .dataframe thead th {\n",
       "        text-align: right;\n",
       "    }\n",
       "</style>\n",
       "<table border=\"1\" class=\"dataframe\">\n",
       "  <thead>\n",
       "    <tr style=\"text-align: right;\">\n",
       "      <th></th>\n",
       "      <th>노출수</th>\n",
       "      <th>클릭수</th>\n",
       "      <th>클릭률(%)</th>\n",
       "      <th>평균클릭비용(VAT포함,원)</th>\n",
       "      <th>총비용(VAT포함,원)</th>\n",
       "    </tr>\n",
       "    <tr>\n",
       "      <th>광고그룹</th>\n",
       "      <th></th>\n",
       "      <th></th>\n",
       "      <th></th>\n",
       "      <th></th>\n",
       "      <th></th>\n",
       "    </tr>\n",
       "  </thead>\n",
       "  <tbody>\n",
       "    <tr>\n",
       "      <th>Hyperledger Fabric 프로젝트 CAMP</th>\n",
       "      <td>1990</td>\n",
       "      <td>0</td>\n",
       "      <td>0.00</td>\n",
       "      <td>nan</td>\n",
       "      <td>0</td>\n",
       "    </tr>\n",
       "    <tr>\n",
       "      <th>fin_camp_business_4</th>\n",
       "      <td>2136</td>\n",
       "      <td>0</td>\n",
       "      <td>0.00</td>\n",
       "      <td>nan</td>\n",
       "      <td>0</td>\n",
       "    </tr>\n",
       "    <tr>\n",
       "      <th>fin_camp_rfs_9</th>\n",
       "      <td>1928</td>\n",
       "      <td>0</td>\n",
       "      <td>0.00</td>\n",
       "      <td>nan</td>\n",
       "      <td>0</td>\n",
       "    </tr>\n",
       "    <tr>\n",
       "      <th>다함께 DDD 프로젝트</th>\n",
       "      <td>3689</td>\n",
       "      <td>0</td>\n",
       "      <td>0.00</td>\n",
       "      <td>nan</td>\n",
       "      <td>0</td>\n",
       "    </tr>\n",
       "    <tr>\n",
       "      <th>올인원 패키지 : 디지털 마케팅_인스타광고</th>\n",
       "      <td>1377</td>\n",
       "      <td>0</td>\n",
       "      <td>0.00</td>\n",
       "      <td>nan</td>\n",
       "      <td>0</td>\n",
       "    </tr>\n",
       "  </tbody>\n",
       "</table>\n",
       "</div>"
      ],
      "text/plain": [
       "                               노출수  클릭수  클릭률(%)  평균클릭비용(VAT포함,원)  총비용(VAT포함,원)\n",
       "광고그룹                                                                          \n",
       "Hyperledger Fabric 프로젝트 CAMP  1990    0    0.00              nan             0\n",
       "fin_camp_business_4           2136    0    0.00              nan             0\n",
       "fin_camp_rfs_9                1928    0    0.00              nan             0\n",
       "다함께 DDD 프로젝트                  3689    0    0.00              nan             0\n",
       "올인원 패키지 : 디지털 마케팅_인스타광고       1377    0    0.00              nan             0"
      ]
     },
     "execution_count": 56,
     "metadata": {},
     "output_type": "execute_result"
    }
   ],
   "source": [
    "# 클릭수가 0인것만 불러옴\n",
    "df_group[df_group['클릭수'] == 0]"
   ]
  },
  {
   "cell_type": "code",
   "execution_count": 57,
   "metadata": {},
   "outputs": [
    {
     "data": {
      "text/plain": [
       "False    181\n",
       "True       5\n",
       "Name: 평균클릭비용(VAT포함,원), dtype: int64"
      ]
     },
     "execution_count": 57,
     "metadata": {},
     "output_type": "execute_result"
    }
   ],
   "source": [
    "df_group['평균클릭비용(VAT포함,원)'].isnull().value_counts()"
   ]
  },
  {
   "cell_type": "code",
   "execution_count": 61,
   "metadata": {},
   "outputs": [
    {
     "data": {
      "text/plain": [
       "광고그룹\n",
       "#000_마케팅 전체_main           867.11\n",
       "001.BASIC DESIGN           364.10\n",
       "001.데이터분석/ 통계              969.09\n",
       "002.R                      553.38\n",
       "002.UX/UI                  137.50\n",
       "                            ...  \n",
       "포토샵 유치원_일러스트레이터 유치원        941.11\n",
       "프로그래밍 유치원                 3047.35\n",
       "프로그래밍 전체                   177.40\n",
       "프로그래밍 전체_파워컨텐츠_블록체인(삭제)    183.92\n",
       "프론트엔드 개발 스쿨 12기_기존 키워드      77.00\n",
       "Name: 평균클릭비용(VAT포함,원), Length: 186, dtype: float64"
      ]
     },
     "execution_count": 61,
     "metadata": {},
     "output_type": "execute_result"
    }
   ],
   "source": [
    "# 결측 값을 0으로 대체 \n",
    "df_group['평균클릭비용(VAT포함,원)'].fillna(0)"
   ]
  },
  {
   "cell_type": "code",
   "execution_count": 62,
   "metadata": {},
   "outputs": [],
   "source": [
    "df_group['평균클릭비용(VAT포함,원)'] = df_group['평균클릭비용(VAT포함,원)'].fillna(0)"
   ]
  },
  {
   "cell_type": "code",
   "execution_count": 63,
   "metadata": {},
   "outputs": [
    {
     "data": {
      "text/plain": [
       "False    186\n",
       "Name: 평균클릭비용(VAT포함,원), dtype: int64"
      ]
     },
     "execution_count": 63,
     "metadata": {},
     "output_type": "execute_result"
    }
   ],
   "source": [
    "df_group['평균클릭비용(VAT포함,원)'].isnull().value_counts()"
   ]
  },
  {
   "cell_type": "code",
   "execution_count": 64,
   "metadata": {},
   "outputs": [
    {
     "data": {
      "text/html": [
       "<div>\n",
       "<style scoped>\n",
       "    .dataframe tbody tr th:only-of-type {\n",
       "        vertical-align: middle;\n",
       "    }\n",
       "\n",
       "    .dataframe tbody tr th {\n",
       "        vertical-align: top;\n",
       "    }\n",
       "\n",
       "    .dataframe thead th {\n",
       "        text-align: right;\n",
       "    }\n",
       "</style>\n",
       "<table border=\"1\" class=\"dataframe\">\n",
       "  <thead>\n",
       "    <tr style=\"text-align: right;\">\n",
       "      <th></th>\n",
       "      <th>노출수</th>\n",
       "      <th>클릭수</th>\n",
       "      <th>클릭률(%)</th>\n",
       "      <th>평균클릭비용(VAT포함,원)</th>\n",
       "      <th>총비용(VAT포함,원)</th>\n",
       "    </tr>\n",
       "    <tr>\n",
       "      <th>광고그룹</th>\n",
       "      <th></th>\n",
       "      <th></th>\n",
       "      <th></th>\n",
       "      <th></th>\n",
       "      <th></th>\n",
       "    </tr>\n",
       "  </thead>\n",
       "  <tbody>\n",
       "    <tr>\n",
       "      <th>Hyperledger Fabric 프로젝트 CAMP</th>\n",
       "      <td>1990</td>\n",
       "      <td>0</td>\n",
       "      <td>0.00</td>\n",
       "      <td>0.00</td>\n",
       "      <td>0</td>\n",
       "    </tr>\n",
       "    <tr>\n",
       "      <th>fin_camp_business_4</th>\n",
       "      <td>2136</td>\n",
       "      <td>0</td>\n",
       "      <td>0.00</td>\n",
       "      <td>0.00</td>\n",
       "      <td>0</td>\n",
       "    </tr>\n",
       "    <tr>\n",
       "      <th>fin_camp_rfs_9</th>\n",
       "      <td>1928</td>\n",
       "      <td>0</td>\n",
       "      <td>0.00</td>\n",
       "      <td>0.00</td>\n",
       "      <td>0</td>\n",
       "    </tr>\n",
       "    <tr>\n",
       "      <th>다함께 DDD 프로젝트</th>\n",
       "      <td>3689</td>\n",
       "      <td>0</td>\n",
       "      <td>0.00</td>\n",
       "      <td>0.00</td>\n",
       "      <td>0</td>\n",
       "    </tr>\n",
       "    <tr>\n",
       "      <th>올인원 패키지 : 디지털 마케팅_인스타광고</th>\n",
       "      <td>1377</td>\n",
       "      <td>0</td>\n",
       "      <td>0.00</td>\n",
       "      <td>0.00</td>\n",
       "      <td>0</td>\n",
       "    </tr>\n",
       "  </tbody>\n",
       "</table>\n",
       "</div>"
      ],
      "text/plain": [
       "                               노출수  클릭수  클릭률(%)  평균클릭비용(VAT포함,원)  총비용(VAT포함,원)\n",
       "광고그룹                                                                          \n",
       "Hyperledger Fabric 프로젝트 CAMP  1990    0    0.00             0.00             0\n",
       "fin_camp_business_4           2136    0    0.00             0.00             0\n",
       "fin_camp_rfs_9                1928    0    0.00             0.00             0\n",
       "다함께 DDD 프로젝트                  3689    0    0.00             0.00             0\n",
       "올인원 패키지 : 디지털 마케팅_인스타광고       1377    0    0.00             0.00             0"
      ]
     },
     "execution_count": 64,
     "metadata": {},
     "output_type": "execute_result"
    }
   ],
   "source": [
    "df_group[df_group['클릭수'] == 0]"
   ]
  },
  {
   "cell_type": "code",
   "execution_count": 65,
   "metadata": {},
   "outputs": [],
   "source": [
    "# 평균클릭비용 컬럼 원단위 반올림, int 타입 처리\n",
    "df_group['평균클릭비용(VAT포함,원)'] = round(df_group['평균클릭비용(VAT포함,원)'], 0)\n",
    "df_group['평균클릭비용(VAT포함,원)'] = df_group['평균클릭비용(VAT포함,원)'].astype(int)\n"
   ]
  },
  {
   "cell_type": "code",
   "execution_count": 66,
   "metadata": {},
   "outputs": [
    {
     "data": {
      "text/html": [
       "<div>\n",
       "<style scoped>\n",
       "    .dataframe tbody tr th:only-of-type {\n",
       "        vertical-align: middle;\n",
       "    }\n",
       "\n",
       "    .dataframe tbody tr th {\n",
       "        vertical-align: top;\n",
       "    }\n",
       "\n",
       "    .dataframe thead th {\n",
       "        text-align: right;\n",
       "    }\n",
       "</style>\n",
       "<table border=\"1\" class=\"dataframe\">\n",
       "  <thead>\n",
       "    <tr style=\"text-align: right;\">\n",
       "      <th></th>\n",
       "      <th>노출수</th>\n",
       "      <th>클릭수</th>\n",
       "      <th>클릭률(%)</th>\n",
       "      <th>평균클릭비용(VAT포함,원)</th>\n",
       "      <th>총비용(VAT포함,원)</th>\n",
       "    </tr>\n",
       "    <tr>\n",
       "      <th>광고그룹</th>\n",
       "      <th></th>\n",
       "      <th></th>\n",
       "      <th></th>\n",
       "      <th></th>\n",
       "      <th></th>\n",
       "    </tr>\n",
       "  </thead>\n",
       "  <tbody>\n",
       "    <tr>\n",
       "      <th>#000_마케팅 전체_main</th>\n",
       "      <td>709447</td>\n",
       "      <td>401</td>\n",
       "      <td>0.00</td>\n",
       "      <td>867</td>\n",
       "      <td>347710</td>\n",
       "    </tr>\n",
       "    <tr>\n",
       "      <th>001.BASIC DESIGN</th>\n",
       "      <td>51647</td>\n",
       "      <td>60</td>\n",
       "      <td>0.00</td>\n",
       "      <td>364</td>\n",
       "      <td>21846</td>\n",
       "    </tr>\n",
       "    <tr>\n",
       "      <th>001.데이터분석/ 통계</th>\n",
       "      <td>37150</td>\n",
       "      <td>202</td>\n",
       "      <td>0.01</td>\n",
       "      <td>969</td>\n",
       "      <td>195756</td>\n",
       "    </tr>\n",
       "    <tr>\n",
       "      <th>002.R</th>\n",
       "      <td>120724</td>\n",
       "      <td>78</td>\n",
       "      <td>0.00</td>\n",
       "      <td>553</td>\n",
       "      <td>43164</td>\n",
       "    </tr>\n",
       "    <tr>\n",
       "      <th>002.UX/UI</th>\n",
       "      <td>15454</td>\n",
       "      <td>20</td>\n",
       "      <td>0.00</td>\n",
       "      <td>138</td>\n",
       "      <td>2750</td>\n",
       "    </tr>\n",
       "  </tbody>\n",
       "</table>\n",
       "</div>"
      ],
      "text/plain": [
       "                     노출수  클릭수  클릭률(%)  평균클릭비용(VAT포함,원)  총비용(VAT포함,원)\n",
       "광고그룹                                                                \n",
       "#000_마케팅 전체_main  709447  401    0.00              867        347710\n",
       "001.BASIC DESIGN   51647   60    0.00              364         21846\n",
       "001.데이터분석/ 통계      37150  202    0.01              969        195756\n",
       "002.R             120724   78    0.00              553         43164\n",
       "002.UX/UI          15454   20    0.00              138          2750"
      ]
     },
     "execution_count": 66,
     "metadata": {},
     "output_type": "execute_result"
    }
   ],
   "source": [
    "df_group.head()"
   ]
  },
  {
   "cell_type": "markdown",
   "metadata": {},
   "source": [
    "## 중점관리 광고그룹 / 저효율 광고그룹 \n",
    "\n",
    "- 중점 관리 광고그룹 \n",
    "    - 상위 20%(노출수 80백분위수 이상)\n",
    "    - 상위 10%(클릭수 90백분위수 이상)"
   ]
  },
  {
   "cell_type": "code",
   "execution_count": 67,
   "metadata": {},
   "outputs": [],
   "source": [
    "imp = df_group['노출수']\n",
    "clk = df_group['클릭수']"
   ]
  },
  {
   "cell_type": "code",
   "execution_count": 68,
   "metadata": {},
   "outputs": [],
   "source": [
    "result = df_group[(imp >= imp.quantile(0.8)) & (clk >= clk.quantile(0.9))]"
   ]
  },
  {
   "cell_type": "code",
   "execution_count": 69,
   "metadata": {},
   "outputs": [
    {
     "data": {
      "text/plain": [
       "Index(['#000_마케팅 전체_main', '1. 코딩', '3. html', '6. 파이썬', 'AOP 전체_중복키워드_디자인',\n",
       "       'AOP 전체_중복키워드_비지니스', 'ㅍAOP 전체_중복키워드_디자인(삭제)', '마케팅 전체',\n",
       "       '올인원 패키지 : 데이터 분석 입문 온라인_파콘', '올인원 패키지 : 디자인 툴_파워컨텐츠_포토샵',\n",
       "       '올인원 패키지 : 업무자동화_VBA', '타이포그래피와 편집디자인', '프로그래밍 전체_파워컨텐츠_블록체인(삭제)'],\n",
       "      dtype='object', name='광고그룹')"
      ]
     },
     "execution_count": 69,
     "metadata": {},
     "output_type": "execute_result"
    }
   ],
   "source": [
    "result.index"
   ]
  },
  {
   "cell_type": "markdown",
   "metadata": {},
   "source": [
    "### 저효율 광고 그룹: 노출수, 클릭수 기준 상위의 키워드가 아닌데도 비용이많이드는 각 그룹 \n",
    "\n",
    "- 노출수 80백분위수 미만\n",
    "- 클릭수 90백분위수 미만\n",
    "- 총비용 60백분위수 이상\n",
    "- 총비용 90백분위수 미만"
   ]
  },
  {
   "cell_type": "code",
   "execution_count": 70,
   "metadata": {},
   "outputs": [],
   "source": [
    "cost = df_group['총비용(VAT포함,원)']"
   ]
  },
  {
   "cell_type": "code",
   "execution_count": 71,
   "metadata": {},
   "outputs": [],
   "source": [
    "result = df_group[(imp < imp.quantile(0.8)) & (clk < clk.quantile(0.9))\n",
    "                 & (cost >= cost.quantile(0.6)) & (cost < cost.quantile(0.9))]"
   ]
  },
  {
   "cell_type": "code",
   "execution_count": 72,
   "metadata": {},
   "outputs": [
    {
     "data": {
      "text/plain": [
       "Index(['001.데이터분석/ 통계', '002.마케팅 입문', '003.퍼포먼스 마케팅', '1. 전체', '2. 프로그래밍',\n",
       "       '5. 자료구조', 'AOP 전체_중복키워드_공통', 'AOP 전체_중복키워드_데이터사이언스',\n",
       "       'AOP 전체_중복키워드_프로그래밍', 'JavaScript BOOT CAMP',\n",
       "       'Python & Django를 활용한 웹 서비스_개발자', 'SEO/SEM 전략',\n",
       "       'TensorFlow로 시작하는 딥러닝 입문', 'fin_camp_auction_6', 'ㅍAOP 전체_중복키워드_공통(삭제)',\n",
       "       'ㅍAOP 전체_중복키워드_마케팅(삭제)', 'ㅍAOP 전체_중복키워드_프로그래밍(삭제)',\n",
       "       'ㅍ올인원 패키지 : UX/UI 디자인 입문_연관검색어(삭제)', 'ㅍ올인원 패키지 : 브랜딩',\n",
       "       '고객의 마음을 읽는 구글애널리틱스', '대기업을 이기는 브랜딩 전략', '마케터를 위한 데이터 부트캠프',\n",
       "       '마케터를 위한 데이터 해석 실전', '마케팅 유치원', '마케팅KPI수립',\n",
       "       '올인원 패키지 : 1인 쇼핑몰 시작하기_02.쇼핑몰구축', '올인원 패키지 : 1인 쇼핑몰_00.창업_MO',\n",
       "       '올인원 패키지 : UX/UI 디자인 입문_연관검색어', '올인원 패키지 : 그로스해킹_5.마케팅 분석',\n",
       "       '올인원 패키지 : 디지털 마케팅_1. 디지털 마케팅', '올인원 패키지 : 브랜딩',\n",
       "       '올인원 패키지 : 업무자동화_1. 자동화', '올인원 패키지 : 업무자동화_4. VBA',\n",
       "       '올인원 패키지 : 영상 제작/편집_9.유튜브/유튜버', '왕초보의 파이썬 웹 프로그래밍 CAMP',\n",
       "       '코딩으로 여행하는 블록체인 서비스', '페이스북&인스타그램 마케팅 실전', '프로그래밍 유치원'],\n",
       "      dtype='object', name='광고그룹')"
      ]
     },
     "execution_count": 72,
     "metadata": {},
     "output_type": "execute_result"
    }
   ],
   "source": [
    "result.index"
   ]
  },
  {
   "cell_type": "code",
   "execution_count": null,
   "metadata": {},
   "outputs": [],
   "source": []
  }
 ],
 "metadata": {
  "kernelspec": {
   "display_name": "Python 3",
   "language": "python",
   "name": "python3"
  },
  "language_info": {
   "codemirror_mode": {
    "name": "ipython",
    "version": 3
   },
   "file_extension": ".py",
   "mimetype": "text/x-python",
   "name": "python",
   "nbconvert_exporter": "python",
   "pygments_lexer": "ipython3",
   "version": "3.8.2"
  }
 },
 "nbformat": 4,
 "nbformat_minor": 4
}
