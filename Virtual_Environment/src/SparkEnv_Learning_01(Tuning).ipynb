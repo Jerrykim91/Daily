{
 "cells": [
  {
   "cell_type": "markdown",
   "metadata": {},
   "source": [
    "# SparkEnv_Learning_01"
   ]
  },
  {
   "cell_type": "code",
   "execution_count": 1,
   "metadata": {},
   "outputs": [],
   "source": [
    "import pyspark    # pyspark\n",
    "import findspark  # findspark"
   ]
  },
  {
   "cell_type": "code",
   "execution_count": 2,
   "metadata": {},
   "outputs": [
    {
     "data": {
      "text/plain": [
       "'C:\\\\Bigdata\\\\spark-2.4.5-bin-hadoop2.7'"
      ]
     },
     "execution_count": 2,
     "metadata": {},
     "output_type": "execute_result"
    }
   ],
   "source": [
    "findspark.init()\n",
    "findspark.find() "
   ]
  },
  {
   "cell_type": "markdown",
   "metadata": {},
   "source": [
    "## spark 세션을 생성해주기위해서 다음과 같이 컴파일을 진행해준다.  "
   ]
  },
  {
   "cell_type": "code",
   "execution_count": 3,
   "metadata": {},
   "outputs": [],
   "source": [
    "from pyspark import SparkContext, SparkConf\n",
    "from pyspark.sql import SparkSession"
   ]
  },
  {
   "cell_type": "code",
   "execution_count": 4,
   "metadata": {},
   "outputs": [],
   "source": [
    "conf = pyspark.SparkConf().setAppName('appName').setMaster('local[2]')"
   ]
  },
  {
   "cell_type": "code",
   "execution_count": 5,
   "metadata": {},
   "outputs": [],
   "source": [
    "sc = pyspark.SparkContext(conf=conf)"
   ]
  },
  {
   "cell_type": "code",
   "execution_count": 6,
   "metadata": {},
   "outputs": [],
   "source": [
    "spark = SparkSession(sc)"
   ]
  },
  {
   "cell_type": "markdown",
   "metadata": {},
   "source": [
    "### 만약 세션이 끝난다면 다음과 같이 코드를 실행한다. "
   ]
  },
  {
   "cell_type": "code",
   "execution_count": 7,
   "metadata": {},
   "outputs": [],
   "source": [
    "# sc.stop()"
   ]
  },
  {
   "cell_type": "code",
   "execution_count": null,
   "metadata": {},
   "outputs": [],
   "source": []
  },
  {
   "cell_type": "markdown",
   "metadata": {},
   "source": [
    "# 스파크 성능 체크 "
   ]
  },
  {
   "cell_type": "code",
   "execution_count": 1,
   "metadata": {},
   "outputs": [],
   "source": [
    "import time\n",
    "import matplotlib.pyplot as plt\n",
    "import numpy as np \n",
    "import pandas as pd \n",
    "\n",
    "from pyspark import SparkContext"
   ]
  },
  {
   "cell_type": "code",
   "execution_count": 4,
   "metadata": {},
   "outputs": [],
   "source": [
    "sc = SparkContext()"
   ]
  },
  {
   "cell_type": "code",
   "execution_count": 5,
   "metadata": {},
   "outputs": [],
   "source": [
    "#  이미 스파크가 살아 있으면  죽였다가 다시  그게아니면 그냥 생성 \n",
    "\n",
    "if sc is None:\n",
    "    sc = SparkContext(master='local[2]', appName='1st app')\n",
    "else:\n",
    "    sc.stop()\n",
    "    sc = SparkContext(master='local[2]', appName='1st app')\n"
   ]
  },
  {
   "cell_type": "code",
   "execution_count": 15,
   "metadata": {},
   "outputs": [],
   "source": [
    "# performance check\n",
    "spark_time_list = list()\n",
    "python_time_list = list()\n",
    "python_np_time_list = list()\n",
    "\n",
    "n_list = [20000*i for i in range(0,10)]"
   ]
  },
  {
   "cell_type": "markdown",
   "metadata": {},
   "source": [
    " 뭔가 안된다. 워닝이뜨는데 이유를 찾아보고 수정해보자 "
   ]
  },
  {
   "cell_type": "markdown",
   "metadata": {},
   "source": [
    "수정하면 좋은거 \n",
    "\n",
    "추가로 인풋 레코드는 모든 테스트에서 동일하게 공유하니까\n",
    "케이스별 시간 측정 전(for문 시작 정도되면 좋겠네요)에 미리 만들어 두시고\n",
    "변수로 가져다 쓰는 법을 생각해보자 \n",
    "\n",
    "2. 스파크 master가 local로 세팅된 부분\n",
    "스파크는 master를 local로 세팅할 경우 default로 1개의 워커만 생성합니다.\n",
    "다행히 1개의 워커가 서버의 모든 cpu를 할당받으므로 멀티코어 프로세싱을 하겠지만\n",
    "이는 스파크가 지향하는 분산 프로세싱과는 많은 차이가 있습니다.\n",
    "\n",
    "여기서 주의할 점은 멀티코어 프로세싱과 분산(혹은 병렬) 프로세싱은 동일하지 않다는 부분입니다.\n",
    "스파크는 하나의 데이터 세트(RDD)를 여러 파티션으로 자르고,\n",
    "여러 워커들이 동시에 각 파티션을 분산 처리하는 방식으로 성능 향상을 취합니다.\n",
    "\n",
    "본 테스트와 같이 워커가 하나일 경우\n",
    "RDD를 단일 파티션으로 보고 통짜로 처리하여 분산처리는 전혀 이뤄지지 않고 있습니다.\n",
    "이 경우 넘파이, 퓨어 파이썬, 스파크가 거의 동일한 형태로 멀티코어 프로세가싱할테니\n",
    "큰 성능차이 있지않을 것으로 보입니다.\n",
    "\n",
    "물론 본문에서 사용된 서버처럼 CPU가 싱글코어라면 의미가 없겠지만\n",
    "하나의 서버로 스파크 테스트를 하시더라도 멀티코어 CPU를 사용하시는 분들은\n",
    "아래와 같이 테스트 해보시면 좋을것 같습니다.\n",
    "\n",
    "**\n",
    "- local[\\*] : 각 워커 당 1개의 코어가 할당되어 분산 처리, 워커 수 = 코어 수\n",
    "- local[k] : 각 워커 당 [전체코어수/k]개의 코어가 할당되어 분산처리 , 워커 수 = k개\n",
    "-> 궁금한점이 로컬안에 들어가는 숫자는 최소 몇개 최대 몇개이고 \n",
    "\n",
    "(ref: https://stackoverflow.com/q...\n",
    "\n",
    "이와 같이 실험였을 때도 성능차이가 나지않는다면\n",
    "그때 또 추가적인 고찰을 해보면 좋을것 같습니다.\n",
    "\n",
    "- map과 같이 간단한 step만 있었고, reduce, aggregation등의 step이 없어서\n",
    "멀티코어 처리 대비 분산처리가 이득을 볼 수 없었다던가\n",
    "- map이 취하는 함수가 너무 간단하였다던가\n",
    "등으로 생각이 나네요\n",
    "\n",
    "왜 범위를 왜 0부터 진행하는거지?"
   ]
  },
  {
   "cell_type": "code",
   "execution_count": 26,
   "metadata": {
    "scrolled": true
   },
   "outputs": [
    {
     "name": "stdout",
     "output_type": "stream",
     "text": [
      "[1.0551550388336182]\n",
      "[1.0551550388336182, 1.8430726528167725]\n",
      "[1.0551550388336182, 1.8430726528167725, 6.422856569290161]\n",
      "[1.0551550388336182, 1.8430726528167725, 6.422856569290161, 13.228625774383545]\n",
      "[1.0551550388336182, 1.8430726528167725, 6.422856569290161, 13.228625774383545, 23.64478611946106]\n",
      "[1.0551550388336182, 1.8430726528167725, 6.422856569290161, 13.228625774383545, 23.64478611946106, 36.89451861381531]\n",
      "[1.0551550388336182, 1.8430726528167725, 6.422856569290161, 13.228625774383545, 23.64478611946106, 36.89451861381531, 55.17049217224121]\n",
      "[1.0551550388336182, 1.8430726528167725, 6.422856569290161, 13.228625774383545, 23.64478611946106, 36.89451861381531, 55.17049217224121, 76.9253659248352]\n",
      "[1.0551550388336182, 1.8430726528167725, 6.422856569290161, 13.228625774383545, 23.64478611946106, 36.89451861381531, 55.17049217224121, 76.9253659248352, 99.73931860923767]\n",
      "[1.0551550388336182, 1.8430726528167725, 6.422856569290161, 13.228625774383545, 23.64478611946106, 36.89451861381531, 55.17049217224121, 76.9253659248352, 99.73931860923767, 126.43597054481506]\n"
     ]
    }
   ],
   "source": [
    "for n in n_list:\n",
    "    # 무슨 함수 \n",
    "    def each_ck(k):\n",
    "        return 1/(16**k)*( 4/(8*k+1) - 2/(8*k+4) - 1/(8*k+5) - 1/(8*k+6))\n",
    "    \n",
    "    ## with spark \n",
    "    start_time = time.time()\n",
    "    pi_approximated = sc.parallelize(range(1,n)).map(each_ck).sum()\n",
    "    spark_time_list.append(time.time()-start_time)\n",
    "\n",
    "    print(spark_time_list)"
   ]
  },
  {
   "cell_type": "code",
   "execution_count": 7,
   "metadata": {
    "scrolled": true
   },
   "outputs": [
    {
     "name": "stdout",
     "output_type": "stream",
     "text": [
      "[0.0]\n",
      "[0.0, 1.6496171951293945]\n",
      "[0.0, 1.6496171951293945, 7.003277540206909]\n",
      "[0.0, 1.6496171951293945, 7.003277540206909, 16.669435501098633]\n",
      "[0.0, 1.6496171951293945, 7.003277540206909, 16.669435501098633, 29.736497163772583]\n",
      "[0.0, 1.6496171951293945, 7.003277540206909, 16.669435501098633, 29.736497163772583, 46.33310055732727]\n",
      "[0.0, 1.6496171951293945, 7.003277540206909, 16.669435501098633, 29.736497163772583, 46.33310055732727, 72.55824494361877]\n",
      "[0.0, 1.6496171951293945, 7.003277540206909, 16.669435501098633, 29.736497163772583, 46.33310055732727, 72.55824494361877, 97.96029543876648]\n",
      "[0.0, 1.6496171951293945, 7.003277540206909, 16.669435501098633, 29.736497163772583, 46.33310055732727, 72.55824494361877, 97.96029543876648, 124.39941215515137]\n",
      "[0.0, 1.6496171951293945, 7.003277540206909, 16.669435501098633, 29.736497163772583, 46.33310055732727, 72.55824494361877, 97.96029543876648, 124.39941215515137, 156.4347665309906]\n"
     ]
    }
   ],
   "source": [
    "for n in n_list:\n",
    "    # 무슨 함수 \n",
    "    def each_ck(k):\n",
    "        return 1/(16**k)*( 4/(8*k+1) - 2/(8*k+4) - 1/(8*k+5) - 1/(8*k+6))\n",
    "    \n",
    "    ## pure python\n",
    "    start_time = time.time()\n",
    "    pi_approximated = sum((each_ck(k) for k in range(1, n)))\n",
    "    python_time_list.append(time.time()-start_time)\n",
    "    \n",
    "    print(python_time_list)"
   ]
  },
  {
   "cell_type": "code",
   "execution_count": 11,
   "metadata": {},
   "outputs": [
    {
     "name": "stderr",
     "output_type": "stream",
     "text": [
      "C:\\Users\\admin\\Anaconda3\\lib\\site-packages\\ipykernel_launcher.py:4: RuntimeWarning: divide by zero encountered in true_divide\n",
      "  after removing the cwd from sys.path.\n"
     ]
    }
   ],
   "source": [
    "for n in n_list:\n",
    "    # 무슨 함수 \n",
    "    def each_ck(k):\n",
    "        return 1/(16**k)*( 4/(8*k+1) - 2/(8*k+4) - 1/(8*k+5) - 1/(8*k+6))\n",
    "    \n",
    "    ## with numpy\n",
    "    start_time = time.time()\n",
    "    pi_approximated = np.apply_along_axis(arr=np.array(range(1,n)), func1d=each_ck, axis=0).sum()\n",
    "    python_np_time_list.append(time.time() - start_time)\n"
   ]
  },
  {
   "cell_type": "code",
   "execution_count": 12,
   "metadata": {},
   "outputs": [
    {
     "data": {
      "text/plain": [
       "[0.000997304916381836,\n",
       " 0.00399017333984375,\n",
       " 0.005982875823974609,\n",
       " 0.009981393814086914,\n",
       " 0.013954877853393555,\n",
       " 0.017957210540771484,\n",
       " 0.0229339599609375,\n",
       " 0.025981426239013672,\n",
       " 0.029869556427001953,\n",
       " 0.03390932083129883,\n",
       " 0.0,\n",
       " 0.004004716873168945,\n",
       " 0.0059986114501953125,\n",
       " 0.010940313339233398,\n",
       " 0.013963460922241211,\n",
       " 0.017950773239135742,\n",
       " 0.02094411849975586,\n",
       " 0.027954578399658203,\n",
       " 0.029921531677246094,\n",
       " 0.03490400314331055,\n",
       " 0.0,\n",
       " 0.004004478454589844,\n",
       " 0.007964134216308594,\n",
       " 0.009973526000976562,\n",
       " 0.013989686965942383,\n",
       " 0.016956806182861328,\n",
       " 0.02094578742980957,\n",
       " 0.026924848556518555,\n",
       " 0.02991962432861328,\n",
       " 0.03288459777832031]"
      ]
     },
     "execution_count": 12,
     "metadata": {},
     "output_type": "execute_result"
    }
   ],
   "source": [
    "python_np_time_list"
   ]
  },
  {
   "cell_type": "code",
   "execution_count": 16,
   "metadata": {
    "scrolled": true
   },
   "outputs": [
    {
     "name": "stdout",
     "output_type": "stream",
     "text": [
      "[1.048198938369751]\n",
      "[0.0]\n",
      "[0.0]\n",
      "[1.048198938369751, 1.8650119304656982]\n",
      "[0.0, 1.6246802806854248]\n",
      "[0.0, 0.0029990673065185547]\n"
     ]
    },
    {
     "name": "stderr",
     "output_type": "stream",
     "text": [
      "C:\\Users\\admin\\Anaconda3\\lib\\site-packages\\ipykernel_launcher.py:4: RuntimeWarning: divide by zero encountered in true_divide\n",
      "  after removing the cwd from sys.path.\n"
     ]
    },
    {
     "name": "stdout",
     "output_type": "stream",
     "text": [
      "[1.048198938369751, 1.8650119304656982, 6.777872323989868]\n",
      "[0.0, 1.6246802806854248, 7.3181703090667725]\n",
      "[0.0, 0.0029990673065185547, 0.005984067916870117]\n",
      "[1.048198938369751, 1.8650119304656982, 6.777872323989868, 13.655477285385132]\n",
      "[0.0, 1.6246802806854248, 7.3181703090667725, 16.260541677474976]\n",
      "[0.0, 0.0029990673065185547, 0.005984067916870117, 0.008976936340332031]\n",
      "[1.048198938369751, 1.8650119304656982, 6.777872323989868, 13.655477285385132, 24.842554330825806]\n",
      "[0.0, 1.6246802806854248, 7.3181703090667725, 16.260541677474976, 29.375492572784424]\n",
      "[0.0, 0.0029990673065185547, 0.005984067916870117, 0.008976936340332031, 0.012964963912963867]\n",
      "[1.048198938369751, 1.8650119304656982, 6.777872323989868, 13.655477285385132, 24.842554330825806, 36.528263092041016]\n",
      "[0.0, 1.6246802806854248, 7.3181703090667725, 16.260541677474976, 29.375492572784424, 45.84051489830017]\n",
      "[0.0, 0.0029990673065185547, 0.005984067916870117, 0.008976936340332031, 0.012964963912963867, 0.016952991485595703]\n",
      "[1.048198938369751, 1.8650119304656982, 6.777872323989868, 13.655477285385132, 24.842554330825806, 36.528263092041016, 54.52426218986511]\n",
      "[0.0, 1.6246802806854248, 7.3181703090667725, 16.260541677474976, 29.375492572784424, 45.84051489830017, 67.73793029785156]\n",
      "[0.0, 0.0029990673065185547, 0.005984067916870117, 0.008976936340332031, 0.012964963912963867, 0.016952991485595703, 0.021943092346191406]\n",
      "[1.048198938369751, 1.8650119304656982, 6.777872323989868, 13.655477285385132, 24.842554330825806, 36.528263092041016, 54.52426218986511, 74.61249232292175]\n",
      "[0.0, 1.6246802806854248, 7.3181703090667725, 16.260541677474976, 29.375492572784424, 45.84051489830017, 67.73793029785156, 94.9930636882782]\n",
      "[0.0, 0.0029990673065185547, 0.005984067916870117, 0.008976936340332031, 0.012964963912963867, 0.016952991485595703, 0.021943092346191406, 0.027924537658691406]\n",
      "[1.048198938369751, 1.8650119304656982, 6.777872323989868, 13.655477285385132, 24.842554330825806, 36.528263092041016, 54.52426218986511, 74.61249232292175, 95.32611608505249]\n",
      "[0.0, 1.6246802806854248, 7.3181703090667725, 16.260541677474976, 29.375492572784424, 45.84051489830017, 67.73793029785156, 94.9930636882782, 120.88981795310974]\n",
      "[0.0, 0.0029990673065185547, 0.005984067916870117, 0.008976936340332031, 0.012964963912963867, 0.016952991485595703, 0.021943092346191406, 0.027924537658691406, 0.030921220779418945]\n",
      "[1.048198938369751, 1.8650119304656982, 6.777872323989868, 13.655477285385132, 24.842554330825806, 36.528263092041016, 54.52426218986511, 74.61249232292175, 95.32611608505249, 118.83825469017029]\n",
      "[0.0, 1.6246802806854248, 7.3181703090667725, 16.260541677474976, 29.375492572784424, 45.84051489830017, 67.73793029785156, 94.9930636882782, 120.88981795310974, 153.4726893901825]\n",
      "[0.0, 0.0029990673065185547, 0.005984067916870117, 0.008976936340332031, 0.012964963912963867, 0.016952991485595703, 0.021943092346191406, 0.027924537658691406, 0.030921220779418945, 0.04291510581970215]\n"
     ]
    }
   ],
   "source": [
    "for n in n_list:\n",
    "    # 무슨 함수 \n",
    "    def each_ck(k):\n",
    "        return 1/(16**k)*( 4/(8*k+1) - 2/(8*k+4) - 1/(8*k+5) - 1/(8*k+6))\n",
    "    \n",
    "    ## with spark \n",
    "    start_time = time.time()\n",
    "    pi_approximated = sc.parallelize(range(0,n)).map(each_ck).sum()\n",
    "    spark_time_list.append(time.time()-start_time)\n",
    "    print(spark_time_list)\n",
    "    \n",
    "    ## pure python\n",
    "    start_time = time.time()\n",
    "    pi_approximated = sum((each_ck(k) for k in range(0, n)))\n",
    "    python_time_list.append(time.time()-start_time)\n",
    "    print(python_time_list)\n",
    "    ## with numpy\n",
    "    \n",
    "    start_time = time.time()\n",
    "    pi_approximated = np.apply_along_axis(arr=np.array(range(0,n)), func1d=each_ck, axis=0).sum()\n",
    "    python_np_time_list.append(time.time() - start_time)\n",
    "    print(python_np_time_list)"
   ]
  },
  {
   "cell_type": "code",
   "execution_count": 17,
   "metadata": {},
   "outputs": [],
   "source": [
    "## plotting\n",
    "\n",
    "df = pd.DataFrame({\n",
    "    'spark':spark_time_list.copy(),\n",
    "    'pure python': python_time_list.copy(),\n",
    "    'python with numpy': python_np_time_list.copy()\n",
    "}, index=n_list)"
   ]
  },
  {
   "cell_type": "code",
   "execution_count": 18,
   "metadata": {},
   "outputs": [
    {
     "name": "stderr",
     "output_type": "stream",
     "text": [
      "No handles with labels found to put in legend.\n"
     ]
    },
    {
     "data": {
      "image/png": "[encoded data removed]",
      "text/plain": [
       "<Figure size 864x432 with 1 Axes>"
      ]
     },
     "metadata": {
      "needs_background": "light"
     },
     "output_type": "display_data"
    }
   ],
   "source": [
    "# 그래프 그리기 \n",
    "plt.figure(figsize=(12,6))\n",
    "plt.plot(df['spark'], 'ro-'), plt.plot(df['pure python'],'bo-'), plt.plot(df['python with numpy'],'go-')\n",
    "plt.legend(fontsize=25)\n",
    "plt.xticks(n_list,n_list)\n",
    "# plt.savefig('./grp.svg')\n",
    "plt.show()"
   ]
  },
  {
   "cell_type": "code",
   "execution_count": null,
   "metadata": {},
   "outputs": [],
   "source": []
  }
 ],
 "metadata": {
  "kernelspec": {
   "display_name": "Python 3",
   "language": "python",
   "name": "python3"
  },
  "language_info": {
   "codemirror_mode": {
    "name": "ipython",
    "version": 3
   },
   "file_extension": ".py",
   "mimetype": "text/x-python",
   "name": "python",
   "nbconvert_exporter": "python",
   "pygments_lexer": "ipython3",
   "version": "3.6.5"
  }
 },
 "nbformat": 4,
 "nbformat_minor": 4
}
