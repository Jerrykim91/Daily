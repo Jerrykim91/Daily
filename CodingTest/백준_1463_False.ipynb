{
 "cells": [
  {
   "cell_type": "code",
   "execution_count": null,
   "metadata": {},
   "outputs": [],
   "source": [
    "# 패턴찾기\n",
    "for i in range(100):\n",
    "    print(i)\n",
    "#     print('='*30)\n",
    "    print('6의 1번 >>', i/6)\n",
    "    print('6의 3번 >>', i%6)\n",
    "    print('='*30)"
   ]
  },
  {
   "cell_type": "code",
   "execution_count": null,
   "metadata": {},
   "outputs": [],
   "source": [
    "# 패턴찾기\n",
    "for i in range(100):\n",
    "    print(i)\n",
    "#     print('='*30)\n",
    "    print('3의 1번 >>', i/3)\n",
    "    print('2의 1번 >>', i/2)\n",
    "    print('3의 3번 >>', i%3)\n",
    "    print('2의 3번 >>', i%2)\n",
    "    print('='*30)"
   ]
  },
  {
   "cell_type": "code",
   "execution_count": null,
   "metadata": {},
   "outputs": [],
   "source": [
    "# 패턴찾기\n",
    "for i in range(100):\n",
    "    print(i)\n",
    "#     print('='*30)\n",
    "    print('1번 >>', i/2)\n",
    "    print('2번 >>', i//2)\n",
    "    print('3번 >>', i%2)\n",
    "    print('='*30)"
   ]
  },
  {
   "cell_type": "code",
   "execution_count": null,
   "metadata": {},
   "outputs": [],
   "source": [
    "# 패턴찾기\n",
    "for i in range(100):\n",
    "    print(i)\n",
    "#     print('='*30)\n",
    "    print('1번 >>', i/3)\n",
    "    print('2번 >>', i//3)\n",
    "    print('3번 >>', i%3)\n",
    "    print('='*30)"
   ]
  },
  {
   "cell_type": "code",
   "execution_count": 29,
   "metadata": {},
   "outputs": [
    {
     "data": {
      "text/plain": [
       "333333.3333333333"
      ]
     },
     "execution_count": 29,
     "metadata": {},
     "output_type": "execute_result"
    }
   ],
   "source": [
    "10**6 /3"
   ]
  },
  {
   "cell_type": "code",
   "execution_count": 30,
   "metadata": {},
   "outputs": [
    {
     "data": {
      "text/plain": [
       "500000.0"
      ]
     },
     "execution_count": 30,
     "metadata": {},
     "output_type": "execute_result"
    }
   ],
   "source": [
    "10**6 /2"
   ]
  },
  {
   "cell_type": "code",
   "execution_count": 31,
   "metadata": {},
   "outputs": [
    {
     "data": {
      "text/plain": [
       "2"
      ]
     },
     "execution_count": 31,
     "metadata": {},
     "output_type": "execute_result"
    }
   ],
   "source": [
    "11%3"
   ]
  },
  {
   "cell_type": "code",
   "execution_count": null,
   "metadata": {},
   "outputs": [],
   "source": [
    "def fun(n):\n",
    "    box=list()\n",
    "    cnt = 0\n",
    "    \n",
    "    running = True\n",
    "    while running : \n",
    "        if n != 1:\n",
    "            if n %3== 1:\n",
    "                cnt += 1\n",
    "                n = n-1\n",
    "                print('log0>>',n)\n",
    "                box.append([n])\n",
    "                \n",
    "            elif n %3== 2:\n",
    "                cnt += 1\n",
    "                n = n //2\n",
    "                print('log1>>',n)\n",
    "                box.append([n])\n",
    "                \n",
    "            elif n %3== 0:\n",
    "                cnt += 1\n",
    "                n = n //3\n",
    "                print('log2>>',n)\n",
    "                box.append([n])\n",
    "\n",
    "        else:\n",
    "            running = False\n",
    "\n",
    "    return  '돌려주는거',box[-1][0], '방법',len(box),'방법2', cnt\n",
    "\n",
    "fun(17)"
   ]
  },
  {
   "cell_type": "code",
   "execution_count": null,
   "metadata": {},
   "outputs": [],
   "source": [
    "def fun(n):\n",
    "    cnt = 0\n",
    "    \n",
    "    running = True\n",
    "    while running : \n",
    "        if n != 1:\n",
    "            if n %3== 1:\n",
    "                cnt += 1\n",
    "                n = n-1\n",
    "              \n",
    "            elif n %3== 2 :\n",
    "                n = n//2\n",
    "                cnt += 1\n",
    "                \n",
    "            elif n %3== 0:\n",
    "                cnt += 1\n",
    "                n = n //3\n",
    "                \n",
    "#             else:\n",
    "#                 cnt += 1\n",
    "#                 n = n //2\n",
    "        else:\n",
    "            running = False\n",
    "\n",
    "    return  cnt\n",
    "\n",
    "fun(10**6)"
   ]
  },
  {
   "cell_type": "code",
   "execution_count": null,
   "metadata": {},
   "outputs": [],
   "source": [
    "def fun(n):\n",
    "    box=list()\n",
    "    cnt = 0\n",
    "    \n",
    "    running = True\n",
    "    while running : \n",
    "        if n != 1:\n",
    "            if n %3== 1 or n %3== 2 :\n",
    "                cnt += 1\n",
    "                n = n-1\n",
    "                print('log0>>',n)\n",
    "                box.append([n])\n",
    "                \n",
    "            elif n %3== 0:\n",
    "                cnt += 1\n",
    "                n = n //3\n",
    "                print('log1>>',n)\n",
    "                box.append([n])\n",
    "                \n",
    "            else:\n",
    "                cnt += 1\n",
    "                n = n //2\n",
    "                print('log2>>',n)\n",
    "                box.append([n])\n",
    "\n",
    "        else:\n",
    "            running = False\n",
    "\n",
    "    return  '돌려주는거',box[-1][0], '방법',len(box),'방법2', cnt\n",
    "\n",
    "fun(10**6)"
   ]
  },
  {
   "cell_type": "code",
   "execution_count": 28,
   "metadata": {},
   "outputs": [
    {
     "name": "stdout",
     "output_type": "stream",
     "text": [
      "log2>> 5\n",
      "log3>> 4\n",
      "log2>> 2\n",
      "log2>> 1\n"
     ]
    },
    {
     "data": {
      "text/plain": [
       "('돌려주는거', 1, '방법', 4, '방법2', 4)"
      ]
     },
     "execution_count": 28,
     "metadata": {},
     "output_type": "execute_result"
    }
   ],
   "source": [
    "def tmp(n):\n",
    "    box=list() # 리스트 생성\n",
    "#     box.append([n])\n",
    "    \n",
    "    running = True\n",
    "    cnt = 0\n",
    "    while running : \n",
    "        if n != 1:\n",
    "            \n",
    "            # 문제점 -  먼저 -1 하는거랑 안하는거랑 최소값이 다름 \n",
    "                \n",
    "            if n %3== 0:\n",
    "                n = n //3\n",
    "                print('log1>>',n)\n",
    "                cnt += 1\n",
    "                box.append([n])\n",
    "                \n",
    "            elif n %2== 0:\n",
    "                n = n //2\n",
    "                cnt += 1\n",
    "                print('log2>>',n)\n",
    "                box.append([n])\n",
    "                \n",
    "            else:\n",
    "                n = n-1\n",
    "                cnt += 1\n",
    "                print('log3>>',n)\n",
    "                box.append([n])\n",
    "                \n",
    "        else :\n",
    "            running = False\n",
    "        \n",
    "    \n",
    "    return  '돌려주는거',box[-1][0], '방법',len(box),'방법2', cnt\n",
    "\n",
    "tmp(10)"
   ]
  },
  {
   "cell_type": "code",
   "execution_count": 27,
   "metadata": {},
   "outputs": [
    {
     "name": "stdout",
     "output_type": "stream",
     "text": [
      "log2>> 500000\n",
      "log2>> 250000\n",
      "log2>> 125000\n",
      "log2>> 62500\n",
      "log2>> 31250\n",
      "log2>> 15625\n",
      "log3>> 15624\n",
      "log2>> 7812\n",
      "log2>> 3906\n",
      "log2>> 1953\n",
      "log3>> 1952\n",
      "log2>> 976\n",
      "log2>> 488\n",
      "log2>> 244\n",
      "log2>> 122\n",
      "log2>> 61\n",
      "log3>> 60\n",
      "log2>> 30\n",
      "log2>> 15\n",
      "log3>> 14\n",
      "log2>> 7\n",
      "log3>> 6\n",
      "log2>> 3\n",
      "log3>> 2\n",
      "log2>> 1\n"
     ]
    },
    {
     "data": {
      "text/plain": [
       "('돌려주는거', 1, '방법', 25, '방법2', 25)"
      ]
     },
     "execution_count": 27,
     "metadata": {},
     "output_type": "execute_result"
    }
   ],
   "source": [
    "def tmp(n):\n",
    "    box=list() # 리스트 생성\n",
    "#     box.append([n])\n",
    "    \n",
    "    running = True\n",
    "    cnt = 0\n",
    "    while running : \n",
    "        if n != 1:\n",
    "            \n",
    "            # 문제점 -  먼저 -1 하는거랑 안하는거랑 최소값이 다름 \n",
    "                \n",
    "#             if n %3== 0:\n",
    "#                 n = n //3\n",
    "#                 print('log1>>',n)\n",
    "#                 cnt += 1\n",
    "#                 box.append([n])\n",
    "                \n",
    "            if n %2== 0:\n",
    "                n = n //2\n",
    "                cnt += 1\n",
    "                print('log2>>',n)\n",
    "                box.append([n])\n",
    "                \n",
    "            else:\n",
    "                n = n-1\n",
    "                cnt += 1\n",
    "                print('log3>>',n)\n",
    "                box.append([n])\n",
    "                \n",
    "        else :\n",
    "            running = False\n",
    "        \n",
    "    \n",
    "    return  '돌려주는거',box[-1][0], '방법',len(box),'방법2', cnt\n",
    "\n",
    "tmp(10**6)"
   ]
  },
  {
   "cell_type": "code",
   "execution_count": 26,
   "metadata": {},
   "outputs": [
    {
     "name": "stdout",
     "output_type": "stream",
     "text": [
      "log3>> 999999\n",
      "log1>> 333333\n",
      "log1>> 111111\n",
      "log1>> 37037\n",
      "log3>> 37036\n",
      "log3>> 37035\n",
      "log1>> 12345\n",
      "log1>> 4115\n",
      "log3>> 4114\n",
      "log3>> 4113\n",
      "log1>> 1371\n",
      "log1>> 457\n",
      "log3>> 456\n",
      "log1>> 152\n",
      "log3>> 151\n",
      "log3>> 150\n",
      "log1>> 50\n",
      "log3>> 49\n",
      "log3>> 48\n",
      "log1>> 16\n",
      "log3>> 15\n",
      "log1>> 5\n",
      "log3>> 4\n",
      "log3>> 3\n",
      "log1>> 1\n"
     ]
    },
    {
     "data": {
      "text/plain": [
       "('돌려주는거', 1, '방법', 25, '방법2', 25)"
      ]
     },
     "execution_count": 26,
     "metadata": {},
     "output_type": "execute_result"
    }
   ],
   "source": [
    "def tmp(n):\n",
    "    box=list() # 리스트 생성\n",
    "#     box.append([n])\n",
    "    \n",
    "    running = True\n",
    "    cnt = 0\n",
    "    while running : \n",
    "        if n != 1:\n",
    "            \n",
    "            # 문제점 -  먼저 -1 하는거랑 안하는거랑 최소값이 다름 \n",
    "                \n",
    "            if n %3== 0:\n",
    "                n = n //3\n",
    "                print('log1>>',n)\n",
    "                cnt += 1\n",
    "                box.append([n])\n",
    "                \n",
    "#             elif n %2== 0:\n",
    "#                 n = n //2\n",
    "#                 cnt += 1\n",
    "#                 print('log2>>',n)\n",
    "#                 box.append([n])\n",
    "                \n",
    "            else:\n",
    "                n = n-1\n",
    "                cnt += 1\n",
    "                print('log3>>',n)\n",
    "                box.append([n])\n",
    "                \n",
    "        else :\n",
    "            running = False\n",
    "        \n",
    "    \n",
    "    return  '돌려주는거',box[-1][0], '방법',len(box),'방법2', cnt\n",
    "\n",
    "tmp(10**6)"
   ]
  },
  {
   "cell_type": "code",
   "execution_count": null,
   "metadata": {},
   "outputs": [],
   "source": []
  },
  {
   "cell_type": "code",
   "execution_count": null,
   "metadata": {},
   "outputs": [],
   "source": [
    "# 분명 패턴이 있을 텐데 \n"
   ]
  },
  {
   "cell_type": "code",
   "execution_count": null,
   "metadata": {
    "scrolled": true
   },
   "outputs": [],
   "source": [
    "len(tmp)"
   ]
  },
  {
   "cell_type": "code",
   "execution_count": null,
   "metadata": {},
   "outputs": [],
   "source": [
    "# 3으로 나누었을때 나머지가 1이면 -1 \n",
    "# 2로 나누었을때 나머지가 1이면 -1 -> 3\n",
    "\n",
    "# 인수 분해 해야하나 "
   ]
  },
  {
   "cell_type": "code",
   "execution_count": null,
   "metadata": {},
   "outputs": [],
   "source": [
    "def fun_one(n):\n",
    "    cnt = 0\n",
    "    running = True\n",
    "    while running : \n",
    "        if n != 1:\n",
    "            if n %3== 0:\n",
    "                cnt += 1\n",
    "                n = n //3\n",
    "                print('log3>>',n) \n",
    "                \n",
    "            elif n %2== 0:\n",
    "                cnt += 1\n",
    "                n = n //2\n",
    "                print('log2>>',n)"
   ]
  },
  {
   "cell_type": "code",
   "execution_count": null,
   "metadata": {},
   "outputs": [],
   "source": []
  },
  {
   "cell_type": "code",
   "execution_count": null,
   "metadata": {},
   "outputs": [],
   "source": []
  },
  {
   "cell_type": "code",
   "execution_count": null,
   "metadata": {},
   "outputs": [],
   "source": [
    "def fun_one(n):\n",
    "    cnt = 0\n",
    "    running = True\n",
    "    while running : \n",
    "        if n != 1:\n",
    "            if n %3== 1 :\n",
    "                cnt += 1\n",
    "                n = n-1\n",
    "                print('log-1>>',n)\n",
    "                \n",
    "            elif n %3== 0:\n",
    "                cnt += 1\n",
    "                n = n //3\n",
    "                print('log3>>',n)\n",
    "                \n",
    "            elif n %2== 0:\n",
    "                cnt += 1\n",
    "                n = n //2\n",
    "                print('log2>>',n)\n",
    "                \n",
    "            else: \n",
    "                \n",
    "            \n",
    "        else:\n",
    "            running = False\n",
    "\n",
    "    return cnt\n",
    "\n",
    "fun_one(100)"
   ]
  },
  {
   "cell_type": "code",
   "execution_count": null,
   "metadata": {},
   "outputs": [],
   "source": [
    "def fun_one(n):\n",
    "    cnt = 0\n",
    "    running = True\n",
    "    while running : \n",
    "        if n != 1:\n",
    "            if n %3== 1 :\n",
    "                cnt += 1\n",
    "                n = n-1\n",
    "                print('log-1>>',n)\n",
    "                \n",
    "            elif n %3== 0:\n",
    "                cnt += 1\n",
    "                n = n //3\n",
    "                print('log3>>',n)\n",
    "                \n",
    "            elif n %2== 0:\n",
    "                cnt += 1\n",
    "                n = n //2\n",
    "                print('log2>>',n)\n",
    "                \n",
    "            else: \n",
    "                \n",
    "            \n",
    "        else:\n",
    "            running = False\n",
    "\n",
    "    return cnt\n",
    "\n",
    "fun_one(100)"
   ]
  },
  {
   "cell_type": "code",
   "execution_count": 21,
   "metadata": {},
   "outputs": [
    {
     "ename": "SyntaxError",
     "evalue": "invalid syntax (<ipython-input-21-76c52c75a16f>, line 11)",
     "output_type": "error",
     "traceback": [
      "\u001b[1;36m  File \u001b[1;32m\"<ipython-input-21-76c52c75a16f>\"\u001b[1;36m, line \u001b[1;32m11\u001b[0m\n\u001b[1;33m    elif n %3== 0:\u001b[0m\n\u001b[1;37m       ^\u001b[0m\n\u001b[1;31mSyntaxError\u001b[0m\u001b[1;31m:\u001b[0m invalid syntax\n"
     ]
    }
   ],
   "source": [
    "def fun_one(n):\n",
    "    cnt = 0\n",
    "    running = True\n",
    "    while running : \n",
    "        if n != 1:\n",
    "            if n %3== 1 :\n",
    "                cnt += 1\n",
    "                n = n-1\n",
    "                print('log-1>>',n)\n",
    "                \n",
    "            elif n %3== 0:\n",
    "                cnt += 1\n",
    "                n = n //3\n",
    "                print('log3>>',n)\n",
    "                \n",
    "            elif n %2== 0:\n",
    "                cnt += 1\n",
    "                n = n //2\n",
    "                print('log2>>',n)\n",
    "                \n",
    "        else:\n",
    "            running = False\n",
    "\n",
    "    return cnt\n",
    "\n",
    "fun_one(100)"
   ]
  },
  {
   "cell_type": "code",
   "execution_count": null,
   "metadata": {},
   "outputs": [],
   "source": []
  },
  {
   "cell_type": "code",
   "execution_count": 4,
   "metadata": {},
   "outputs": [
    {
     "data": {
      "text/plain": [
       "3"
      ]
     },
     "execution_count": 4,
     "metadata": {},
     "output_type": "execute_result"
    }
   ],
   "source": [
    "def fun_one(n):\n",
    "    cnt = 0\n",
    "    running = True\n",
    "    while running : \n",
    "        if n != 1:\n",
    "            if n %3== 1 :\n",
    "                cnt += 1\n",
    "                n = n-1\n",
    "                \n",
    "            elif n %3== 0:\n",
    "                cnt += 1\n",
    "                n = n //3\n",
    "                \n",
    "            else:\n",
    "                cnt += 1\n",
    "                n = n //2\n",
    "        else:\n",
    "            running = False\n",
    "\n",
    "    return cnt\n",
    "\n",
    "fun_one(10)"
   ]
  },
  {
   "cell_type": "code",
   "execution_count": 5,
   "metadata": {},
   "outputs": [
    {
     "name": "stdout",
     "output_type": "stream",
     "text": [
      "log2>> 1\n"
     ]
    },
    {
     "data": {
      "text/plain": [
       "1"
      ]
     },
     "execution_count": 5,
     "metadata": {},
     "output_type": "execute_result"
    }
   ],
   "source": [
    "def fun_one(n):\n",
    "    cnt = 0\n",
    "    running = True\n",
    "    while running : \n",
    "        if n != 1:\n",
    "            if n %3== 1 :\n",
    "                cnt += 1\n",
    "                n = n-1\n",
    "                print('log0>>',n)\n",
    "                \n",
    "            elif n %3== 0:\n",
    "                cnt += 1\n",
    "                n = n //3\n",
    "                print('log1>>',n)\n",
    "                \n",
    "            else:\n",
    "                cnt += 1\n",
    "                n = n //2\n",
    "                print('log2>>',n)\n",
    "        else:\n",
    "            running = False\n",
    "\n",
    "    return cnt\n",
    "\n",
    "fun_one(2)"
   ]
  },
  {
   "cell_type": "code",
   "execution_count": 7,
   "metadata": {},
   "outputs": [
    {
     "name": "stdout",
     "output_type": "stream",
     "text": [
      "log2>> 5\n",
      "log2>> 2\n",
      "log2>> 1\n"
     ]
    },
    {
     "data": {
      "text/plain": [
       "('돌려주는거', 1, '방법', 3, '방법2', 3)"
      ]
     },
     "execution_count": 7,
     "metadata": {},
     "output_type": "execute_result"
    }
   ],
   "source": [
    "def fun(n):\n",
    "    box=list()\n",
    "    cnt = 0\n",
    "    \n",
    "    running = True\n",
    "    while running : \n",
    "        if n != 1:\n",
    "            if n %3== 1 :\n",
    "                cnt += 1\n",
    "                n = n-1\n",
    "                print('log0>>',n)\n",
    "                box.append([n])\n",
    "                \n",
    "            elif n %3== 0:\n",
    "                cnt += 1\n",
    "                n = n //3\n",
    "                print('log1>>',n)\n",
    "                box.append([n])\n",
    "                \n",
    "            else:\n",
    "                cnt += 1\n",
    "                n = n //2\n",
    "                print('log2>>',n)\n",
    "                box.append([n])\n",
    "\n",
    "        else:\n",
    "            running = False\n",
    "\n",
    "    return  '돌려주는거',box[-1][0], '방법',len(box),'방법2', cnt\n",
    "\n",
    "fun(11)\n"
   ]
  },
  {
   "cell_type": "code",
   "execution_count": null,
   "metadata": {},
   "outputs": [],
   "source": [
    "def tmp(n):\n",
    "    box=list() # 리스트 생성\n",
    "#     box.append([n])\n",
    "    \n",
    "    running = True\n",
    "    cnt = 0\n",
    "    while running : \n",
    "        if n != 1:\n",
    "            \n",
    "            if n %3== 1:\n",
    "                n = n //3\n",
    "                print('log1>>',n)\n",
    "                cnt += 1\n",
    "                box.append([n])\n",
    "                \n",
    "#             elif n %2== 0:\n",
    "#                 n = n //2\n",
    "#                 cnt += 1\n",
    "#                 print('log2>>',n)\n",
    "#                 box.append([n])\n",
    "                \n",
    "            else:\n",
    "                n = n-1\n",
    "                cnt += 1\n",
    "                print('log3>>',n)\n",
    "                box.append([n])\n",
    "                \n",
    "        else :\n",
    "            running = False\n",
    "        \n",
    "    \n",
    "    return  '돌려주는거',box[-1][0], '방법',len(box),'방법2', cnt\n",
    "\n",
    "tmp(10)"
   ]
  },
  {
   "cell_type": "code",
   "execution_count": null,
   "metadata": {},
   "outputs": [],
   "source": []
  },
  {
   "cell_type": "code",
   "execution_count": null,
   "metadata": {},
   "outputs": [],
   "source": [
    "# 처음부터 해보자 \n",
    "def tmp(n):\n",
    "    만약에 n-1한게 :\n",
    "        이프문을 다 지나갔어 -> 같은 아이인데 함수 \n",
    "    그러면 \n",
    "        안한게 연산 -> 같은 아이인데 함수 \n",
    "    return"
   ]
  },
  {
   "cell_type": "code",
   "execution_count": null,
   "metadata": {},
   "outputs": [],
   "source": []
  },
  {
   "cell_type": "code",
   "execution_count": 25,
   "metadata": {},
   "outputs": [
    {
     "name": "stdout",
     "output_type": "stream",
     "text": [
      "log2>> 5\n",
      "log3>> 4\n",
      "log2>> 2\n",
      "log2>> 1\n"
     ]
    },
    {
     "data": {
      "text/plain": [
       "('돌려주는거', 1, '방법', 4, '방법2', 4)"
      ]
     },
     "execution_count": 25,
     "metadata": {},
     "output_type": "execute_result"
    }
   ],
   "source": [
    "def tmp(n):\n",
    "    box=list() # 리스트 생성\n",
    "#     box.append([n])\n",
    "    \n",
    "    running = True\n",
    "    cnt = 0\n",
    "    while running : \n",
    "        if n != 1:\n",
    "            \n",
    "            # 문제점 -  먼저 -1 하는거랑 안하는거랑 최소값이 다름 \n",
    "                \n",
    "#             if n %3== 0:\n",
    "#                 n = n //3\n",
    "#                 print('log1>>',n)\n",
    "#                 cnt += 1\n",
    "#                 box.append([n])\n",
    "                \n",
    "            if n %2== 0:\n",
    "                n = n //2\n",
    "                cnt += 1\n",
    "                print('log2>>',n)\n",
    "                box.append([n])\n",
    "                \n",
    "            else:\n",
    "                n = n-1\n",
    "                cnt += 1\n",
    "                print('log3>>',n)\n",
    "                box.append([n])\n",
    "                \n",
    "        else :\n",
    "            running = False\n",
    "        \n",
    "    \n",
    "    return  '돌려주는거',box[-1][0], '방법',len(box),'방법2', cnt\n",
    "\n",
    "tmp(10**6)"
   ]
  },
  {
   "cell_type": "code",
   "execution_count": 23,
   "metadata": {},
   "outputs": [
    {
     "name": "stdout",
     "output_type": "stream",
     "text": [
      "log3>> 999999\n",
      "log1>> 333333\n",
      "log1>> 111111\n",
      "log1>> 37037\n",
      "log3>> 37036\n",
      "log3>> 37035\n",
      "log1>> 12345\n",
      "log1>> 4115\n",
      "log3>> 4114\n",
      "log3>> 4113\n",
      "log1>> 1371\n",
      "log1>> 457\n",
      "log3>> 456\n",
      "log1>> 152\n",
      "log3>> 151\n",
      "log3>> 150\n",
      "log1>> 50\n",
      "log3>> 49\n",
      "log3>> 48\n",
      "log1>> 16\n",
      "log3>> 15\n",
      "log1>> 5\n",
      "log3>> 4\n",
      "log3>> 3\n",
      "log1>> 1\n"
     ]
    },
    {
     "data": {
      "text/plain": [
       "('돌려주는거', 1, '방법', 25, '방법2', 25)"
      ]
     },
     "execution_count": 23,
     "metadata": {},
     "output_type": "execute_result"
    }
   ],
   "source": [
    "def tmp(n):\n",
    "    box=list() # 리스트 생성\n",
    "#     box.append([n])\n",
    "    \n",
    "    running = True\n",
    "    cnt = 0\n",
    "    while running : \n",
    "        if n != 1:\n",
    "            \n",
    "            # 문제점 -  먼저 -1 하는거랑 안하는거랑 최소값이 다름 \n",
    "                \n",
    "            if n %3== 0:\n",
    "                n = n //3\n",
    "                print('log1>>',n)\n",
    "                cnt += 1\n",
    "                box.append([n])\n",
    "                \n",
    "#             elif n %2== 0:\n",
    "#                 n = n //2\n",
    "#                 cnt += 1\n",
    "#                 print('log2>>',n)\n",
    "#                 box.append([n])\n",
    "                \n",
    "            else:\n",
    "                n = n-1\n",
    "                cnt += 1\n",
    "                print('log3>>',n)\n",
    "                box.append([n])\n",
    "                \n",
    "        else :\n",
    "            running = False\n",
    "        \n",
    "    \n",
    "    return  '돌려주는거',box[-1][0], '방법',len(box),'방법2', cnt\n",
    "\n",
    "tmp(10**6)"
   ]
  },
  {
   "cell_type": "code",
   "execution_count": null,
   "metadata": {},
   "outputs": [],
   "source": [
    "def tmp(n):\n",
    "    box=list() # 리스트 생성\n",
    "#     box.append([n])\n",
    "    \n",
    "    running = True\n",
    "    cnt = 1\n",
    "    while running : \n",
    "        if n != 1:\n",
    "            \n",
    "            # 문제점 -  먼저 -1 하는거랑 안하는거랑 최소값이 다름 \n",
    "                \n",
    "            if n %3== 0:\n",
    "                n = n //3\n",
    "                print('log1>>',n)\n",
    "                cnt += 1\n",
    "                box.append([n])\n",
    "                \n",
    "            elif n %2== 0:\n",
    "                n = n //2\n",
    "                cnt += 1\n",
    "                print('log2>>',n)\n",
    "                box.append([n])\n",
    "                \n",
    "            elif not n %2== 0 or  n %3== 0:\n",
    "                n = n-1\n",
    "                cnt += 1\n",
    "                print('log3>>',n)\n",
    "                box.append([n])\n",
    "                \n",
    "        else :\n",
    "            running = False\n",
    "        \n",
    "    \n",
    "    return  '돌려주는거',box[-1][0], '방법',len(box),'방법2',cnt\n",
    "\n",
    "tmp()"
   ]
  },
  {
   "cell_type": "code",
   "execution_count": null,
   "metadata": {},
   "outputs": [],
   "source": [
    "def tmp(n):\n",
    "    box=list() # 리스트 생성\n",
    "#     box.append([n])\n",
    "    \n",
    "    running = True\n",
    "    \n",
    "    while running : \n",
    "        if n != 1:\n",
    "            if n %3== 0:\n",
    "                n = n //3\n",
    "                print('log1>>',n)\n",
    "                box.append([n])\n",
    "                \n",
    "            elif n %2== 0:\n",
    "                n = n //2\n",
    "                print('log2>>',n)\n",
    "                box.append([n])\n",
    "                \n",
    "            elif not n %2== 0 or  n %3== 0:\n",
    "                n = n-1\n",
    "                print('log3>>',n)\n",
    "                box.append([n])\n",
    "                \n",
    "        else :\n",
    "            running = False\n",
    "        \n",
    "    \n",
    "    return  '돌려주는거',box[-1][0], '방법',len(box)\n",
    "\n",
    "tmp(6)"
   ]
  },
  {
   "cell_type": "code",
   "execution_count": null,
   "metadata": {
    "scrolled": false
   },
   "outputs": [],
   "source": [
    "def tmp(n):\n",
    "    box=list() # 리스트 생성\n",
    "#     box.append([n])\n",
    "    \n",
    "    running = True\n",
    "    \n",
    "    while running : \n",
    "        if n != 1:\n",
    "            if n %2== 0:\n",
    "                n = n //2\n",
    "                print('log1',n)\n",
    "                box.append([n])\n",
    "                \n",
    "            elif n %3== 0:\n",
    "                n = n //3\n",
    "                print('log1.5',n)\n",
    "                box.append([n])\n",
    "                \n",
    "            elif not n %2== 0 or  n %3== 0:\n",
    "                n = n-1\n",
    "                print('log2',n)\n",
    "                box.append([n])\n",
    "                \n",
    "        else :\n",
    "            running = False\n",
    "        \n",
    "    \n",
    "    return  box ,box[-1], len(box)\n",
    "\n",
    "tmp(10)"
   ]
  },
  {
   "cell_type": "code",
   "execution_count": null,
   "metadata": {},
   "outputs": [],
   "source": [
    "def tmp(n):\n",
    "    box=list() # 리스트 생성\n",
    "    box.append([n])\n",
    "    \n",
    "    running = True\n",
    "    while running : \n",
    "        if n != 1:\n",
    "            n = n-1\n",
    "            box.append([n])\n",
    "            print('ing')\n",
    "        else :\n",
    "            running = False\n",
    "        \n",
    "    \n",
    "    return  box ,box[-1], len(box)\n",
    "\n",
    "tmp(10)"
   ]
  },
  {
   "cell_type": "code",
   "execution_count": null,
   "metadata": {},
   "outputs": [],
   "source": [
    "def tmp(n):\n",
    "    box=list() # 리스트 생성\n",
    "    box.append([n])\n",
    "    \n",
    "    return box[-1], len(box)\n",
    "\n",
    "tmp(10)"
   ]
  },
  {
   "cell_type": "code",
   "execution_count": null,
   "metadata": {},
   "outputs": [],
   "source": [
    "def tmp(n):\n",
    "    box=list() # 리스트 생성\n",
    "    box.append([n])\n",
    "    for i in range(n-1,0,-1):\n",
    "        box.append([i])\n",
    "    return box[-1], len(box)\n",
    "\n",
    "tmp(10)"
   ]
  },
  {
   "cell_type": "code",
   "execution_count": null,
   "metadata": {},
   "outputs": [],
   "source": [
    "def tmp(n):\n",
    "    box=list() # 리스트 생성\n",
    "    box.append([n])\n",
    "    \n",
    "    return box, len(box)\n",
    "\n",
    "tmp(10)"
   ]
  },
  {
   "cell_type": "code",
   "execution_count": null,
   "metadata": {},
   "outputs": [],
   "source": []
  }
 ],
 "metadata": {
  "kernelspec": {
   "display_name": "Python 3",
   "language": "python",
   "name": "python3"
  },
  "language_info": {
   "codemirror_mode": {
    "name": "ipython",
    "version": 3
   },
   "file_extension": ".py",
   "mimetype": "text/x-python",
   "name": "python",
   "nbconvert_exporter": "python",
   "pygments_lexer": "ipython3",
   "version": "3.6.5"
  }
 },
 "nbformat": 4,
 "nbformat_minor": 4
}
