{
 "cells": [
  {
   "cell_type": "markdown",
   "metadata": {},
   "source": [
    "# 백준풀이 "
   ]
  },
  {
   "cell_type": "markdown",
   "metadata": {},
   "source": [
    "## 1번 :  https://doorbw.tistory.com/57"
   ]
  },
  {
   "cell_type": "code",
   "execution_count": null,
   "metadata": {},
   "outputs": [],
   "source": [
    "# 1번\n",
    "a = int(input())\n",
    "count = 0\n",
    "minimum=[a]\n",
    "# 함수 \n",
    "def cal(a):\n",
    "    list = []\n",
    "    for i in a:\n",
    "        list.append(i-1)\n",
    "        if i%3 == 0:\n",
    "            list.append(i/3)\n",
    "        if i%2 == 0:\n",
    "            list.append(i/2)\n",
    "    return list\n",
    " \n",
    "# 본식 \n",
    "    \n",
    "    \n",
    "while True:\n",
    "    if a == 1:\n",
    "        print(count)\n",
    "        break\n",
    "    temp = minimum[:]\n",
    "    minimum = []\n",
    "    minimum = cal(temp)\n",
    "    count +=1\n",
    "    if min(minimum) == 1:\n",
    "        print(count)\n",
    "        break"
   ]
  },
  {
   "cell_type": "markdown",
   "metadata": {},
   "source": [
    "## 2번 : https://hwiyong.tistory.com/252"
   ]
  },
  {
   "cell_type": "code",
   "execution_count": null,
   "metadata": {},
   "outputs": [],
   "source": [
    "# 함수\n",
    "def min(x, y):\n",
    "    return x if x <= y else y\n",
    " \n",
    "x = int(input())\n",
    " \n",
    "minimum_count = [0 for _ in range(x+1)]\n",
    " \n",
    "index = 0\n",
    "\n",
    "while(True):\n",
    "    if index > x:\n",
    "        break\n",
    " \n",
    "    if index <= 1:\n",
    "        minimum_count[index] = 0\n",
    "    else:\n",
    "        temp_min = x + 1\n",
    "        if index % 3 == 0:\n",
    "            temp_index = int(index/3)\n",
    "            temp_min = min(temp_min, minimum_count[temp_index])\n",
    " \n",
    "        if index % 2 == 0:\n",
    "            temp_index = int(index/2)\n",
    "            temp_min = min(temp_min, minimum_count[temp_index])\n",
    " \n",
    "        temp_min = min(temp_min, minimum_count[index-1])\n",
    "        minimum_count[index] = int(temp_min + 1)\n",
    "    index = index + 1\n",
    "    \n",
    "print(minimum_count[x])"
   ]
  },
  {
   "cell_type": "markdown",
   "metadata": {},
   "source": [
    "## 3번 :https://claude-u.tistory.com/174"
   ]
  },
  {
   "cell_type": "code",
   "execution_count": null,
   "metadata": {},
   "outputs": [],
   "source": [
    "N = int(input())\n",
    "\n",
    "result = [0 for _ in range(N + 1)]\n",
    "\n",
    "for i in range(1, N + 1):\n",
    "    if i == 1:\n",
    "        result[i] = 0\n",
    "        continue\n",
    "    result[i] = result[i-1] + 1\n",
    "    if i % 3 == 0 and result[i//3] + 1 < result[i]:\n",
    "        result[i] = result[i//3] + 1\n",
    "    if i % 2 == 0 and result[i//2] + 1< result[i]:\n",
    "        result[i] = result[i//2] + 1\n",
    "        \n",
    "print(result[N])"
   ]
  },
  {
   "cell_type": "markdown",
   "metadata": {},
   "source": [
    "## 4번 : https://parkssiss.tistory.com/64"
   ]
  },
  {
   "cell_type": "code",
   "execution_count": null,
   "metadata": {},
   "outputs": [],
   "source": [
    "= int(input())\n",
    "\n",
    "dp = []\n",
    "\n",
    "dp.append(0)\n",
    "dp.append(0)\n",
    "dp.append(1)\n",
    "dp.append(1)\n",
    "\n",
    "for i in range(4, n + 1):\n",
    "dp.append(dp[i - 1] + 1);\n",
    "if(i % 2 == 0):\n",
    "dp[i] = min(dp[i], dp[i // 2] + 1)\n",
    "if(i % 3 == 0):\n",
    "dp[i] = min(dp[i], dp[i // 3] + 1)\n",
    "\n",
    "\n",
    "출처: https://parkssiss.tistory.com/64 [코딩 쟁이]"
   ]
  },
  {
   "cell_type": "markdown",
   "metadata": {},
   "source": [
    "## 5번 : https://statssy.github.io/pro/2019/10/14/baekjoon_1463/"
   ]
  },
  {
   "cell_type": "markdown",
   "metadata": {},
   "source": [
    "### 문제풀이\n",
    "- 최고 중요한 다이나믹 프로그래밍 문제\n",
    "- 재귀함수로 푸는것보다 Bottom-Up으로 푸는것이 좋음\n",
    "- 결국 Bottom-Up은 for문으로 문제를 처음부터 훑으면서 d[n]에 최소(min)수를 집어 넣는 방법\n",
    "- \n",
    "### 다이나믹 프로그래밍\n",
    "- 큰 문제를 작은 문제로 나눠서 푸는 알고리즘(예:피보나치 수)\n",
    "- Overlapping Subproblem(큰 문제와 작은 문제를 같은 방법으로 풀 수 있음), Optimal Substructure(문제의 정답을 작은 문제에서 풀 수 있음) 이 두가지를 만족해야함"
   ]
  },
  {
   "cell_type": "code",
   "execution_count": null,
   "metadata": {},
   "outputs": [],
   "source": [
    "# Top-Down(재귀 이용) : 재귀를 이용하게 되면 메모리 제한 때문에 메모리 초과가 되므로 Bottom-Up으로 푸는 것이 좋다.\n",
    "\n",
    "def go(n):\n",
    "    if n == 1:\n",
    "        return 0\n",
    "    if d[n] > 0:\n",
    "        return d[n]\n",
    "    d[n] = go(n-1) + 1\n",
    "    if n%2 == 0:\n",
    "        temp = go(n//2) + 1 # 나누기(/)로 하면 소수 나와서 오류생김\n",
    "        if d[n] > temp:\n",
    "            d[n] = temp\n",
    "    if n%3 == 0:\n",
    "        temp = go(n//3) + 1\n",
    "        if d[n] > temp:\n",
    "            d[n] = temp\n",
    "    return d[n]\n",
    "\n",
    "\n",
    "n = int(input())\n",
    "d = [0]*(n+1)\n",
    "print(go(n))"
   ]
  },
  {
   "cell_type": "code",
   "execution_count": null,
   "metadata": {},
   "outputs": [],
   "source": [
    "# Bottom-Up(For문 이용)\n",
    "n = int(input())\n",
    "d = [0]*(n+1)\n",
    "d[1] = 0\n",
    "for i in range(2, n+1):\n",
    "    d[i] = d[i-1] + 1\n",
    "    if i%2 == 0 and d[i] > d[i//2] + 1:\n",
    "        d[i] = d[i//2] + 1\n",
    "    if i%3 == 0 and d[i] > d[i//3] + 1:\n",
    "        d[i] = d[i//3] + 1\n",
    "print(d[n])"
   ]
  }
 ],
 "metadata": {
  "kernelspec": {
   "display_name": "Python 3",
   "language": "python",
   "name": "python3"
  },
  "language_info": {
   "codemirror_mode": {
    "name": "ipython",
    "version": 3
   },
   "file_extension": ".py",
   "mimetype": "text/x-python",
   "name": "python",
   "nbconvert_exporter": "python",
   "pygments_lexer": "ipython3",
   "version": "3.6.5"
  }
 },
 "nbformat": 4,
 "nbformat_minor": 4
}
